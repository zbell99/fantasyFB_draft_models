{
 "cells": [
  {
   "cell_type": "code",
   "execution_count": 246,
   "metadata": {},
   "outputs": [],
   "source": [
    "using DataFrames, CSV, JuMP, Gurobi, Random, LibPQ, Statistics\n",
    "using HTTP, JSON"
   ]
  },
  {
   "cell_type": "code",
   "execution_count": null,
   "metadata": {},
   "outputs": [],
   "source": [
    "#TODO: August 17, August 24 ADP data\n",
    "#TODO: figure out how to rate the players that are never \"starters\""
   ]
  },
  {
   "cell_type": "code",
   "execution_count": 364,
   "metadata": {},
   "outputs": [
    {
     "data": {
      "text/plain": [
       "initialize_data (generic function with 1 method)"
      ]
     },
     "metadata": {},
     "output_type": "display_data"
    }
   ],
   "source": [
    "function initialize_data()\n",
    "    #data = projections for each player\n",
    "    data = DataFrame(CSV.File(\"dynasty_data.csv\"))\n",
    "    #fill missing with 0 in julia\n",
    "    replace!(data.ADP_SF, missing => 500)\n",
    "    data.Name .= data.FirstName .* \" \" .* data.LastName\n",
    "    sort!(data, :ADP_SF)\n",
    "    data\n",
    "\n",
    "    player_to_index = Dict()\n",
    "    #iterate thorugh each row in the data\n",
    "    for i in 1:size(data)[1]\n",
    "        #get the player name\n",
    "        player = data[i, :Name]\n",
    "        #if the player is not in the dictionary, add them\n",
    "        player_to_index[player] = i\n",
    "    end\n",
    "\n",
    "    qbs = Set()\n",
    "    rbs = Set()\n",
    "    wrs = Set()\n",
    "    tes = Set()\n",
    "    flex = Set()\n",
    "    names = Set()\n",
    "\n",
    "    for player in eachrow(data)\n",
    "        push!(names, player.Name)\n",
    "        if player.Position == \"QB\"\n",
    "            push!(qbs, player.Name)\n",
    "        elseif player.Position == \"RB\"\n",
    "            push!(rbs, player.Name)\n",
    "            push!(flex, player.Name)\n",
    "        elseif player.Position == \"WR\"\n",
    "            push!(wrs, player.Name)\n",
    "            push!(flex, player.Name)\n",
    "        elseif player.Position == \"TE\"\n",
    "            push!(tes, player.Name)\n",
    "        end\n",
    "    end\n",
    "    return data, player_to_index, qbs, rbs, wrs, tes, flex, names\n",
    "end"
   ]
  },
  {
   "cell_type": "code",
   "execution_count": 298,
   "metadata": {},
   "outputs": [
    {
     "data": {
      "text/plain": [
       "reset_draft (generic function with 1 method)"
      ]
     },
     "metadata": {},
     "output_type": "display_data"
    }
   ],
   "source": [
    "function reset_draft()\n",
    "    drafted = Dict()\n",
    "    for i in range(1, 10)\n",
    "        drafted[i] = []\n",
    "    end\n",
    "    return drafted\n",
    "end"
   ]
  },
  {
   "cell_type": "code",
   "execution_count": 301,
   "metadata": {},
   "outputs": [
    {
     "data": {
      "text/plain": [
       "just_drafted (generic function with 1 method)"
      ]
     },
     "metadata": {},
     "output_type": "display_data"
    }
   ],
   "source": [
    "function just_drafted(player, team)\n",
    "    if length(filter(:Name => n -> n == player, data)[!,1]) < 1\n",
    "        return \"Player not found\"\n",
    "    end\n",
    "    if team < 1 || team > 10\n",
    "        return \"Team not found\"\n",
    "    end\n",
    "    for i in 1:10\n",
    "        if player in drafted[i]\n",
    "            return \"Player already drafted\"\n",
    "        end\n",
    "    end\n",
    "    push!(drafted[team], player)\n",
    "    return \"Team \" * string(team) * \" drafted \" * player * \"!\"\n",
    "end"
   ]
  },
  {
   "cell_type": "code",
   "execution_count": 397,
   "metadata": {},
   "outputs": [
    {
     "data": {
      "text/plain": [
       "players_drafted_opps (generic function with 1 method)"
      ]
     },
     "metadata": {},
     "output_type": "display_data"
    }
   ],
   "source": [
    "function players_drafted_opps(team)\n",
    "    drafted_opps = DataFrame(Name = data.Name, Drafted = fill(false, size(data)[1]))\n",
    "    for i in 1:10\n",
    "        if i == team\n",
    "            continue\n",
    "        else\n",
    "            for player in drafted[i]\n",
    "                if player == \"QB\" || player == \"RB\" || player == \"WR\" || player == \"TE\"\n",
    "                    continue\n",
    "                end\n",
    "                drafted_opps[player_to_index[player], \"Drafted\"] = true\n",
    "            end\n",
    "        end\n",
    "    end\n",
    "    return drafted_opps\n",
    "end"
   ]
  },
  {
   "cell_type": "code",
   "execution_count": 211,
   "metadata": {},
   "outputs": [
    {
     "data": {
      "text/plain": [
       "draft_board (generic function with 1 method)"
      ]
     },
     "metadata": {},
     "output_type": "display_data"
    }
   ],
   "source": [
    "function draft_board()\n",
    "    board = DataFrame(T1 = String[], T2 = String[], T3 = String[], T4 = String[], T5 = String[], T6 = String[], T7 = String[], T8 = String[], T9 = String[], T10 = String[])\n",
    "    for i in 1:26\n",
    "        push!(board, [\"\", \"\", \"\", \"\", \"\", \"\", \"\", \"\", \"\", \"\"])\n",
    "    end\n",
    "    for team in 1:10\n",
    "        num = 1\n",
    "        for player in drafted[team]\n",
    "            board[team, num] = player\n",
    "            num += 1\n",
    "        end\n",
    "    end\n",
    "    return board\n",
    "end"
   ]
  },
  {
   "cell_type": "code",
   "execution_count": 353,
   "metadata": {},
   "outputs": [
    {
     "data": {
      "text/plain": [
       "view_roster (generic function with 1 method)"
      ]
     },
     "metadata": {},
     "output_type": "display_data"
    }
   ],
   "source": [
    "function view_roster(team)\n",
    "    roster = DataFrame(Position = String[], Player = String[])\n",
    "    push!(roster, [\"QB1\", \"\"])\n",
    "    push!(roster, [\"QB2\", \"\"])\n",
    "    push!(roster, [\"RB1\", \"\"])\n",
    "    push!(roster, [\"RB2\", \"\"])\n",
    "    push!(roster, [\"WR1\", \"\"])\n",
    "    push!(roster, [\"WR2\", \"\"])\n",
    "    push!(roster, [\"TE\", \"\"])\n",
    "    push!(roster, [\"FLEX\", \"\"])\n",
    "    push!(roster, [\"FLEX\", \"\"])\n",
    "    push!(roster, [\"Bench\", \"\"])\n",
    "    push!(roster, [\"Bench\", \"\"])\n",
    "    push!(roster, [\"Bench\", \"\"])\n",
    "    push!(roster, [\"Bench\", \"\"])\n",
    "    push!(roster, [\"Bench\", \"\"])\n",
    "    push!(roster, [\"Bench\", \"\"])\n",
    "    push!(roster, [\"Bench\", \"\"])\n",
    "    push!(roster, [\"Bench\", \"\"])\n",
    "    push!(roster, [\"Bench\", \"\"])\n",
    "    push!(roster, [\"Bench\", \"\"])\n",
    "    push!(roster, [\"Bench\", \"\"])\n",
    "    push!(roster, [\"Bench\", \"\"])\n",
    "    push!(roster, [\"Bench\", \"\"])\n",
    "    push!(roster, [\"Bench\", \"\"])\n",
    "    push!(roster, [\"Bench\", \"\"])\n",
    "    push!(roster, [\"Bench\", \"\"])\n",
    "    push!(roster, [\"Bench\", \"\"])\n",
    "\n",
    "    qb_spots = [1, 2, 10, 11, 12, 13, 14, 15, 16, 17, 18, 19, 20, 21, 22, 23, 24, 25, 26]\n",
    "    rb_spots = [3, 4, 8, 9, 10, 11, 12, 13, 14, 15, 16, 17, 18, 19, 20, 21, 22, 23, 24, 25, 26]\n",
    "    wr_spots = [5, 6, 8, 9, 10, 11, 12, 13, 14, 15, 16, 17, 18, 19, 20, 21, 22, 23, 24, 25, 26]\n",
    "    te_spots = [7, 8, 9, 10, 11, 12, 13, 14, 15, 16, 17, 18, 19, 20, 21, 22, 23, 24, 25, 26]\n",
    "\n",
    "    for player in drafted[team]\n",
    "        if player == \"QB\"\n",
    "            for spot in qb_spots\n",
    "                if roster[spot, \"Player\"] == \"\"\n",
    "                    roster[spot, \"Player\"] = player\n",
    "                    break\n",
    "                end\n",
    "            end\n",
    "            continue\n",
    "        elseif player == \"RB\"\n",
    "            for spot in rb_spots\n",
    "                if roster[spot, \"Player\"] == \"\"\n",
    "                    roster[spot, \"Player\"] = player\n",
    "                    break\n",
    "                end\n",
    "            end\n",
    "            continue\n",
    "        elseif player == \"WR\"\n",
    "            for spot in wr_spots\n",
    "                if roster[spot, \"Player\"] == \"\"\n",
    "                    roster[spot, \"Player\"] = player\n",
    "                    break\n",
    "                end\n",
    "            end\n",
    "            continue\n",
    "        elseif player == \"TE\"\n",
    "            for spot in te_spots\n",
    "                if roster[spot, \"Player\"] == \"\"\n",
    "                    roster[spot, \"Player\"] = player\n",
    "                    break\n",
    "                end\n",
    "            end\n",
    "            continue\n",
    "        end\n",
    "        player_pos = data[player_to_index[player], \"Position\"]\n",
    "        if player_pos == \"QB\"\n",
    "            for spot in qb_spots\n",
    "                if roster[spot, \"Player\"] == \"\"\n",
    "                    roster[spot, \"Player\"] = player\n",
    "                    break\n",
    "                end\n",
    "            end\n",
    "        elseif player_pos == \"RB\"\n",
    "            for spot in rb_spots\n",
    "                if roster[spot, \"Player\"] == \"\"\n",
    "                    roster[spot, \"Player\"] = player\n",
    "                    break\n",
    "                end\n",
    "            end\n",
    "        elseif player_pos == \"WR\"\n",
    "            for spot in wr_spots\n",
    "                if roster[spot, \"Player\"] == \"\"\n",
    "                    roster[spot, \"Player\"] = player\n",
    "                    break\n",
    "                end\n",
    "            end\n",
    "        elseif player_pos == \"TE\"\n",
    "            for spot in te_spots\n",
    "                if roster[spot, \"Player\"] == \"\"\n",
    "                    roster[spot, \"Player\"] = player\n",
    "                    break\n",
    "                end\n",
    "            end\n",
    "        end\n",
    "    end\n",
    "    return roster\n",
    "end"
   ]
  },
  {
   "cell_type": "code",
   "execution_count": 337,
   "metadata": {},
   "outputs": [
    {
     "data": {
      "text/plain": [
       "update_draft (generic function with 1 method)"
      ]
     },
     "metadata": {},
     "output_type": "display_data"
    }
   ],
   "source": [
    "function update_draft(id)\n",
    "    url = \"https://api.sleeper.app/v1/draft/\" *id*\"/picks\"\n",
    "    response = HTTP.get(url)\n",
    "    response_body = String(response.body)\n",
    "    parsed_json = JSON.parse(response_body)\n",
    "    drafted = reset_draft()\n",
    "    for pick in parsed_json\n",
    "        team = Int64(pick[\"draft_slot\"])\n",
    "        position = pick[\"metadata\"][\"position\"]\n",
    "        name = pick[\"metadata\"][\"first_name\"] * \" \" * pick[\"metadata\"][\"last_name\"]\n",
    "        name = replace(name, \".\" => \"\")\n",
    "        if name in names\n",
    "            push!(drafted[team], name)\n",
    "        else\n",
    "            push!(drafted[team], position)\n",
    "        end\n",
    "    end\n",
    "    return drafted\n",
    "end"
   ]
  },
  {
   "cell_type": "code",
   "execution_count": 10,
   "metadata": {},
   "outputs": [],
   "source": [
    "const GRB_ENV = Gurobi.Env(output_flag=0);"
   ]
  },
  {
   "cell_type": "code",
   "execution_count": 395,
   "metadata": {},
   "outputs": [
    {
     "data": {
      "text/plain": [
       "dynasty_sf_model (generic function with 3 methods)"
      ]
     },
     "metadata": {},
     "output_type": "display_data"
    }
   ],
   "source": [
    "function dynasty_sf_model(team, pv, temp=[])\n",
    "    # create model\n",
    "    model = Model(() -> Gurobi.Optimizer(GRB_ENV))\n",
    "    set_optimizer_attribute(model, \"TimeLimit\", 300)\n",
    "\n",
    "    # PARAMETERS\n",
    "    P = size(data)[1] # num_players\n",
    "    Y = 10 # num_years projecting\n",
    "\n",
    "    min_qbs = 3\n",
    "    max_qbs = 4\n",
    "    min_rbs = 7\n",
    "    max_rbs = 11\n",
    "    min_wrs = 7\n",
    "    max_wrs = 11\n",
    "    min_tes = 2\n",
    "    max_tes = 4\n",
    "\n",
    "    starting_qbs_now = 2\n",
    "    starting_rbs_now = 3\n",
    "    starting_wrs_now = 3\n",
    "    starting_flex_now = 10\n",
    "    starting_tes_now = 1\n",
    "\n",
    "    starting_qbs_mid = 2\n",
    "    starting_rbs_mid = 2\n",
    "    starting_wrs_mid = 2\n",
    "    starting_flex_mid = 8\n",
    "    starting_tes_mid = 1\n",
    "\n",
    "    starting_qbs_fut = 1\n",
    "    starting_flex_fut = 6\n",
    "    starting_tes_fut = 1\n",
    "\n",
    "\n",
    "    opps = players_drafted_opps(team)\n",
    "\n",
    "    num_picked = sum(opps[i, \"Drafted\"] for i in 1:P) + length(drafted[team])\n",
    "\n",
    "    picks = [team, 21-team]\n",
    "    for i in 3:26\n",
    "        push!(picks, picks[i-2]+20)\n",
    "    end\n",
    "\n",
    "    # VARIABLES\n",
    "    @variable(model, x[i = 1:P], Bin) # whether or not player was drafted by desired team\n",
    "    @variable(model, y[i = 1:P, j = 1:Y], Bin) # whether or not player is \"starting\" in year j on your roster\n",
    "\n",
    "    # OBJECTIVE FUNCTION\n",
    "    @objective(model, Max, sum(data[i, j+4]*y[i,j]*(pv^(j-1)) for i in 1:P, j in 1:Y))\n",
    "\n",
    "    # CONSTRAINTS\n",
    "    # roster must contain already drafted num_players\n",
    "    @constraint(model, [i = drafted[team]], x[player_to_index[i]] == 1)\n",
    "\n",
    "    # roster must not contain any opps\n",
    "    @constraint(model, [i=1:P], x[i]+opps[i,\"Drafted\"] <= 1)\n",
    "\n",
    "    # roster must not contain any temps\n",
    "    @constraint(model, [i=1:length(temp)], x[player_to_index[temp[i]]] == 0)\n",
    "\n",
    "    # selecting players in y only if on roster\n",
    "    @constraint(model, [i = 1:P, j = 1:Y], y[i,j] <= x[i])\n",
    "\n",
    "    # roster must contain 26 players (no kicker/DEF)\n",
    "    @constraint(model, sum(x[i] for i in 1:P) <= 26)\n",
    "\n",
    "    # positional constraints\n",
    "    @constraint(model, sum(x[player_to_index[i]] for i in qbs) >= min_qbs)\n",
    "    @constraint(model, sum(x[player_to_index[i]] for i in qbs) <= max_qbs)\n",
    "    @constraint(model, sum(x[player_to_index[i]] for i in rbs) >= min_rbs)\n",
    "    @constraint(model, sum(x[player_to_index[i]] for i in rbs) <= max_rbs)\n",
    "    @constraint(model, sum(x[player_to_index[i]] for i in wrs) >= min_wrs)\n",
    "    @constraint(model, sum(x[player_to_index[i]] for i in wrs) <= max_wrs)\n",
    "    @constraint(model, sum(x[player_to_index[i]] for i in tes) >= min_tes)\n",
    "    @constraint(model, sum(x[player_to_index[i]] for i in tes) <= max_tes)\n",
    "\n",
    "    # starting constraints\n",
    "    @constraint(model, [j = 1:2], sum(y[player_to_index[i],j] for i in qbs) == starting_qbs_now)\n",
    "    @constraint(model, [j = 1:2], sum(y[player_to_index[i],j] for i in rbs) >= starting_rbs_now)\n",
    "    @constraint(model, [j = 1:2], sum(y[player_to_index[i],j] for i in wrs) >= starting_wrs_now)\n",
    "    @constraint(model, [j = 1:2], sum(y[player_to_index[i],j] for i in flex) == starting_flex_now)\n",
    "    @constraint(model, [j = 1:2], sum(y[player_to_index[i],j] for i in tes) == starting_tes_now)\n",
    "\n",
    "    @constraint(model, [j = 3:5], sum(y[player_to_index[i],j] for i in qbs) == starting_qbs_mid)\n",
    "    @constraint(model, [j = 3:5], sum(y[player_to_index[i],j] for i in rbs) >= starting_rbs_mid)\n",
    "    @constraint(model, [j = 3:5], sum(y[player_to_index[i],j] for i in wrs) >= starting_wrs_mid)\n",
    "    @constraint(model, [j = 3:5], sum(y[player_to_index[i],j] for i in flex) == starting_flex_mid)\n",
    "    @constraint(model, [j = 3:5], sum(y[player_to_index[i],j] for i in tes) == starting_tes_mid)\n",
    "\n",
    "    @constraint(model, [j = 6:7], sum(y[player_to_index[i],j] for i in qbs) == starting_qbs_fut)\n",
    "    @constraint(model, [j = 6:7], sum(y[player_to_index[i],j] for i in flex) == starting_flex_fut)\n",
    "    @constraint(model, [j = 6:7], sum(y[player_to_index[i],j] for i in tes) == starting_tes_fut)\n",
    "\n",
    "    @constraint(model, [j = 8:10], sum(y[i,j] for i in 1:P) >= 2)\n",
    "\n",
    "\n",
    "    # DRAFT POSITION CONSTRAINTS\n",
    "    #at least 1 pick from set of players after each round\n",
    "    for pick in length(drafted[team])+1:26\n",
    "        @constraint(model, sum(x[i] for i in (picks[pick]-sum(opps[j, \"Drafted\"] for j in picks[pick]:P)):P) >= 27-pick)\n",
    "    end\n",
    "\n",
    "    # OPTIMIZE\n",
    "    # solvetime = @elapsed optimize!(model)\n",
    "    optimize!(model)\n",
    "\n",
    "    roster = DataFrame(Name = String[], Position = String[], Pick = Int64[], ADP = Float64[])\n",
    "    count = 1\n",
    "    for i in drafted[team]\n",
    "        if i == \"QB\" || i == \"RB\" || i == \"WR\" || i == \"TE\"\n",
    "            push!(roster, [i, i, picks[count], 500])\n",
    "            continue\n",
    "        end\n",
    "        push!(roster, [data[player_to_index[i], \"Name\"], data[player_to_index[i], \"Position\"], picks[count], data[player_to_index[i], \"ADP_SF\"]])\n",
    "        count += 1\n",
    "    end\n",
    "    for i in 1:P\n",
    "        if value.(x[i]) == 1\n",
    "            if data[i, \"Name\"] in drafted[team]\n",
    "                continue\n",
    "            else\n",
    "                push!(roster, [data[i, \"Name\"], data[i, \"Position\"], picks[count], data[i, \"ADP_SF\"]])\n",
    "                count += 1\n",
    "            end\n",
    "        end\n",
    "    end\n",
    "    next_pick = \"\"\n",
    "    for i in 1:P\n",
    "        if value.(x[i]) == 1\n",
    "            if data[i, \"Name\"] in drafted[team]\n",
    "                continue\n",
    "            else\n",
    "                next_pick = data[i, \"Name\"]\n",
    "                break\n",
    "            end\n",
    "        end\n",
    "    end\n",
    "    println(\"Total VORP: \" * string(round(objective_value(model), digits = 1)))\n",
    "    return next_pick, roster\n",
    "end"
   ]
  },
  {
   "cell_type": "code",
   "execution_count": null,
   "metadata": {},
   "outputs": [],
   "source": [
    "data, player_to_index, qbs, rbs, wrs, tes, flex, names = initialize_data()"
   ]
  },
  {
   "cell_type": "code",
   "execution_count": 431,
   "metadata": {},
   "outputs": [
    {
     "data": {
      "text/plain": [
       "Dict{Any, Any} with 10 entries:\n",
       "  5  => Any[\"Justin Jefferson\", \"Travis Kelce\", \"Cooper Kupp\", \"Josh Jacobs\", \"…\n",
       "  4  => Any[\"Justin Herbert\", \"Breece Hall\", \"Tyreek Hill\", \"Drake London\", \"CJ…\n",
       "  6  => Any[\"Ja'Marr Chase\", \"Garrett Wilson\", \"Jahmyr Gibbs\", \"Kenneth Walker\"…\n",
       "  7  => Any[\"Joe Burrow\", \"Amon-Ra St Brown\", \"Deshaun Watson\", \"Mark Andrews\",…\n",
       "  2  => Any[\"Patrick Mahomes\", \"Bijan Robinson\", \"Saquon Barkley\", \"Tua Tagovai…\n",
       "  10 => Any[\"Justin Fields\", \"Christian McCaffrey\", \"Tee Higgins\", \"Kyle Pitts\"…\n",
       "  9  => Any[\"Trevor Lawrence\", \"CeeDee Lamb\", \"Dak Prescott\", \"Austin Ekeler\", …\n",
       "  8  => Any[\"Lamar Jackson\", \"Anthony Richardson\", \"Stefon Diggs\", \"Travis Etie…\n",
       "  3  => Any[\"Jalen Hurts\", \"Jonathan Taylor\", \"Chris Olave\", \"Bryce Young\", \"De…\n",
       "  1  => Any[\"Josh Allen\", \"Jaylen Waddle\", \"AJ Brown\", \"Nick Chubb\", \"Jaxon Smi…"
      ]
     },
     "metadata": {},
     "output_type": "display_data"
    }
   ],
   "source": [
    "drafted = update_draft(\"998069224713195520\")"
   ]
  },
  {
   "cell_type": "code",
   "execution_count": 430,
   "metadata": {},
   "outputs": [
    {
     "name": "stdout",
     "output_type": "stream",
     "text": [
      "Total VORP: 236.1\n",
      "Total VORP: 235.9\n",
      "Total VORP: 235.8\n"
     ]
    },
    {
     "data": {
      "text/plain": [
       "(\"Devon Achane\", \"Zonovan Knight\", \"Lew Nichols\")"
      ]
     },
     "metadata": {},
     "output_type": "display_data"
    }
   ],
   "source": [
    "pv = 0.90\n",
    "first_choice, roster = dynasty_sf_model(5, pv);\n",
    "second_choice, r2 = dynasty_sf_model(5, pv, [first_choice]);\n",
    "third_choice, r3 = dynasty_sf_model(5, pv, [first_choice, second_choice])\n",
    "first_choice, second_choice, third_choice"
   ]
  },
  {
   "cell_type": "code",
   "execution_count": 432,
   "metadata": {},
   "outputs": [
    {
     "data": {
      "text/html": [
       "<div class=\"data-frame\"><p>26 rows × 4 columns</p><table class=\"data-frame\"><thead><tr><th></th><th>Name</th><th>Position</th><th>Pick</th><th>ADP</th></tr><tr><th></th><th title=\"String\">String</th><th title=\"String\">String</th><th title=\"Int64\">Int64</th><th title=\"Float64\">Float64</th></tr></thead><tbody><tr><th>1</th><td>Justin Jefferson</td><td>WR</td><td>5</td><td>5.1</td></tr><tr><th>2</th><td>Travis Kelce</td><td>TE</td><td>16</td><td>21.4</td></tr><tr><th>3</th><td>Cooper Kupp</td><td>WR</td><td>25</td><td>31.5</td></tr><tr><th>4</th><td>Josh Jacobs</td><td>RB</td><td>36</td><td>39.1</td></tr><tr><th>5</th><td>Davante Adams</td><td>WR</td><td>45</td><td>45.7</td></tr><tr><th>6</th><td>Jerry Jeudy</td><td>WR</td><td>56</td><td>55.3</td></tr><tr><th>7</th><td>Joe Mixon</td><td>RB</td><td>65</td><td>73.7</td></tr><tr><th>8</th><td>Kenny Pickett</td><td>QB</td><td>76</td><td>81.7</td></tr><tr><th>9</th><td>Aaron Jones</td><td>RB</td><td>85</td><td>90.2</td></tr><tr><th>10</th><td>Alexander Mattison</td><td>RB</td><td>96</td><td>97.2</td></tr><tr><th>11</th><td>James Conner</td><td>RB</td><td>105</td><td>111.7</td></tr><tr><th>12</th><td>Brock Purdy</td><td>QB</td><td>116</td><td>116.3</td></tr><tr><th>13</th><td>Matthew Stafford</td><td>QB</td><td>125</td><td>135.9</td></tr><tr><th>14</th><td>Skyy Moore</td><td>WR</td><td>136</td><td>143.2</td></tr><tr><th>15</th><td>Michael Thomas</td><td>WR</td><td>145</td><td>150.4</td></tr><tr><th>16</th><td>Geno Smith</td><td>QB</td><td>156</td><td>78.6</td></tr><tr><th>17</th><td>Rondale Moore</td><td>WR</td><td>165</td><td>159.8</td></tr><tr><th>18</th><td>Irv Smith</td><td>TE</td><td>176</td><td>178.7</td></tr><tr><th>19</th><td>Michael Wilson</td><td>WR</td><td>185</td><td>191.1</td></tr><tr><th>20</th><td>Tyquan Thornton</td><td>WR</td><td>196</td><td>215.6</td></tr><tr><th>21</th><td>Tucker Kraft</td><td>TE</td><td>205</td><td>234.8</td></tr><tr><th>22</th><td>Tyler Scott</td><td>WR</td><td>216</td><td>249.8</td></tr><tr><th>23</th><td>Kyren Williams</td><td>RB</td><td>225</td><td>263.4</td></tr><tr><th>24</th><td>Dontayvion Wicks</td><td>WR</td><td>236</td><td>291.9</td></tr><tr><th>&vellip;</th><td>&vellip;</td><td>&vellip;</td><td>&vellip;</td><td>&vellip;</td></tr></tbody></table></div>"
      ],
      "text/latex": [
       "\\begin{tabular}{r|cccc}\n",
       "\t& Name & Position & Pick & ADP\\\\\n",
       "\t\\hline\n",
       "\t& String & String & Int64 & Float64\\\\\n",
       "\t\\hline\n",
       "\t1 & Justin Jefferson & WR & 5 & 5.1 \\\\\n",
       "\t2 & Travis Kelce & TE & 16 & 21.4 \\\\\n",
       "\t3 & Cooper Kupp & WR & 25 & 31.5 \\\\\n",
       "\t4 & Josh Jacobs & RB & 36 & 39.1 \\\\\n",
       "\t5 & Davante Adams & WR & 45 & 45.7 \\\\\n",
       "\t6 & Jerry Jeudy & WR & 56 & 55.3 \\\\\n",
       "\t7 & Joe Mixon & RB & 65 & 73.7 \\\\\n",
       "\t8 & Kenny Pickett & QB & 76 & 81.7 \\\\\n",
       "\t9 & Aaron Jones & RB & 85 & 90.2 \\\\\n",
       "\t10 & Alexander Mattison & RB & 96 & 97.2 \\\\\n",
       "\t11 & James Conner & RB & 105 & 111.7 \\\\\n",
       "\t12 & Brock Purdy & QB & 116 & 116.3 \\\\\n",
       "\t13 & Matthew Stafford & QB & 125 & 135.9 \\\\\n",
       "\t14 & Skyy Moore & WR & 136 & 143.2 \\\\\n",
       "\t15 & Michael Thomas & WR & 145 & 150.4 \\\\\n",
       "\t16 & Geno Smith & QB & 156 & 78.6 \\\\\n",
       "\t17 & Rondale Moore & WR & 165 & 159.8 \\\\\n",
       "\t18 & Irv Smith & TE & 176 & 178.7 \\\\\n",
       "\t19 & Michael Wilson & WR & 185 & 191.1 \\\\\n",
       "\t20 & Tyquan Thornton & WR & 196 & 215.6 \\\\\n",
       "\t21 & Tucker Kraft & TE & 205 & 234.8 \\\\\n",
       "\t22 & Tyler Scott & WR & 216 & 249.8 \\\\\n",
       "\t23 & Kyren Williams & RB & 225 & 263.4 \\\\\n",
       "\t24 & Dontayvion Wicks & WR & 236 & 291.9 \\\\\n",
       "\t$\\dots$ & $\\dots$ & $\\dots$ & $\\dots$ & $\\dots$ \\\\\n",
       "\\end{tabular}\n"
      ],
      "text/plain": [
       "\u001b[1m26×4 DataFrame\u001b[0m\n",
       "\u001b[1m Row \u001b[0m│\u001b[1m Name               \u001b[0m\u001b[1m Position \u001b[0m\u001b[1m Pick  \u001b[0m\u001b[1m ADP     \u001b[0m\n",
       "\u001b[1m     \u001b[0m│\u001b[90m String             \u001b[0m\u001b[90m String   \u001b[0m\u001b[90m Int64 \u001b[0m\u001b[90m Float64 \u001b[0m\n",
       "─────┼──────────────────────────────────────────────\n",
       "   1 │ Justin Jefferson    WR            5      5.1\n",
       "   2 │ Travis Kelce        TE           16     21.4\n",
       "   3 │ Cooper Kupp         WR           25     31.5\n",
       "   4 │ Josh Jacobs         RB           36     39.1\n",
       "   5 │ Davante Adams       WR           45     45.7\n",
       "   6 │ Jerry Jeudy         WR           56     55.3\n",
       "   7 │ Joe Mixon           RB           65     73.7\n",
       "   8 │ Kenny Pickett       QB           76     81.7\n",
       "  ⋮  │         ⋮              ⋮        ⋮       ⋮\n",
       "  20 │ Tyquan Thornton     WR          196    215.6\n",
       "  21 │ Tucker Kraft        TE          205    234.8\n",
       "  22 │ Tyler Scott         WR          216    249.8\n",
       "  23 │ Kyren Williams      RB          225    263.4\n",
       "  24 │ Dontayvion Wicks    WR          236    291.9\n",
       "  25 │ Noah Gray           TE          245    289.9\n",
       "  26 │ Devon Achane        RB          256    500.0\n",
       "\u001b[36m                                     11 rows omitted\u001b[0m"
      ]
     },
     "metadata": {},
     "output_type": "display_data"
    }
   ],
   "source": [
    "roster"
   ]
  },
  {
   "cell_type": "markdown",
   "metadata": {},
   "source": [
    "CURRENT SCRATCH"
   ]
  },
  {
   "cell_type": "code",
   "execution_count": 220,
   "metadata": {},
   "outputs": [],
   "source": [
    "drafted = reset_draft();"
   ]
  },
  {
   "cell_type": "code",
   "execution_count": 208,
   "metadata": {},
   "outputs": [
    {
     "data": {
      "text/plain": [
       "\"Team 9 drafted Davante Adams!\""
      ]
     },
     "metadata": {},
     "output_type": "display_data"
    }
   ],
   "source": [
    "just_drafted(\"Davante Adams\", 9)"
   ]
  },
  {
   "cell_type": "code",
   "execution_count": 49,
   "metadata": {},
   "outputs": [
    {
     "data": {
      "text/plain": [
       "redraft_model (generic function with 2 methods)"
      ]
     },
     "metadata": {},
     "output_type": "display_data"
    }
   ],
   "source": [
    "function redraft_model(team, temp=[])\n",
    "    # create model\n",
    "    model = Model(() -> Gurobi.Optimizer(GRB_ENV))\n",
    "    set_optimizer_attribute(model, \"TimeLimit\", 300)\n",
    "\n",
    "    # PARAMETERS\n",
    "    P = 321 # num_players\n",
    "    min_qbs = 2\n",
    "    max_qbs = 3\n",
    "    min_rbs = 7\n",
    "    max_rbs = 10\n",
    "    min_wrs = 7\n",
    "    max_wrs = 10\n",
    "    min_tes = 2\n",
    "    max_tes = 4\n",
    "\n",
    "    opps = players_drafted_opps(team)\n",
    "\n",
    "    num_picked = sum(opps[i, \"Drafted\"] for i in 1:P) + length(drafted[team])\n",
    "    # for player in temp\n",
    "    #     opps[player_to_index[player], \"Drafted\"] = 1\n",
    "    # end\n",
    "\n",
    "    picks = [team, 21-team]\n",
    "    for i in 3:23\n",
    "        push!(picks, picks[i-2]+20)\n",
    "    end\n",
    "\n",
    "    # VARIABLES\n",
    "    @variable(model, x[i = 1:P], Bin) # whether or not player was drafted by desired team\n",
    "\n",
    "    # OBJECTIVE FUNCTION\n",
    "    @objective(model, Max, sum(data[i, \"VORP\"]*x[i] for i in 1:P))\n",
    "\n",
    "    # CONSTRAINTS\n",
    "    # roster must contain already drafted num_players\n",
    "    @constraint(model, [i = drafted[team]], x[player_to_index[i]] == 1)\n",
    "\n",
    "    # roster must not contain any opps\n",
    "    @constraint(model, [i=1:P], x[i]+opps[i,\"Drafted\"] <= 1)\n",
    "\n",
    "    # roster must not contain any temps\n",
    "    @constraint(model, [i=1:length(temp)], x[player_to_index[temp[i]]] == 0)\n",
    "\n",
    "    # roster must contain 23 players (no kicker/DEF)\n",
    "    @constraint(model, sum(x[i] for i in 1:P) <= 23)\n",
    "\n",
    "    # positional constraints\n",
    "    @constraint(model, sum(x[player_to_index[i]] for i in qbs) >= min_qbs)\n",
    "    @constraint(model, sum(x[player_to_index[i]] for i in qbs) <= max_qbs)\n",
    "    @constraint(model, sum(x[player_to_index[i]] for i in rbs) >= min_rbs)\n",
    "    @constraint(model, sum(x[player_to_index[i]] for i in rbs) <= max_rbs)\n",
    "    @constraint(model, sum(x[player_to_index[i]] for i in wrs) >= min_wrs)\n",
    "    @constraint(model, sum(x[player_to_index[i]] for i in wrs) <= max_wrs)\n",
    "    @constraint(model, sum(x[player_to_index[i]] for i in tes) >= min_tes)\n",
    "    @constraint(model, sum(x[player_to_index[i]] for i in tes) <= max_tes)\n",
    "\n",
    "\n",
    "    # DRAFT POSITION CONSTRAINTS\n",
    "    #at least 1 pick from set of players after each round\n",
    "    for pick in 1:23\n",
    "        @constraint(model, sum(x[i] for i in (picks[pick]-sum(opps[j, \"Drafted\"] for j in picks[pick]:P)):P) >= 24-pick)\n",
    "    end\n",
    "\n",
    "    # OPTIMIZE\n",
    "    # solvetime = @elapsed optimize!(model)\n",
    "    optimize!(model)\n",
    "\n",
    "    roster = DataFrame(Name = String[], Pick = Int64[], ADP = Float64[], VORP = Float64[])\n",
    "    count = 1\n",
    "    for i in 1:P\n",
    "        if value.(x[i]) == 1\n",
    "            push!(roster, [data[i, \"Name\"], picks[count], data[i, \"DynastySF_ADP\"], data[i, \"VORP\"]])\n",
    "            count += 1\n",
    "        end\n",
    "    end\n",
    "    println(\"Total VORP: \" * string(round(objective_value(model), digits = 1)))\n",
    "    return roster\n",
    "end"
   ]
  },
  {
   "cell_type": "code",
   "execution_count": null,
   "metadata": {},
   "outputs": [],
   "source": [
    "function dynasty_draft()\n",
    "    # create model\n",
    "    model = Model(() -> Gurobi.Optimizer(GRB_ENV))\n",
    "    set_optimizer_attribute(model, \"TimeLimit\", 300)\n",
    "\n",
    "    # PARAMETERS\n",
    "    T = 10 # teams\n",
    "    R = 25 # roster spots\n",
    "    P = 500 # num_players -- CHANGE\n",
    "    min_qbs = 2\n",
    "    max_qbs = 2\n",
    "    min_rbs = 4\n",
    "    max_rbs = 6\n",
    "    min_wrs = 4\n",
    "    max_wrs = 6\n",
    "    min_tes = 2\n",
    "    max_tes = 3\n",
    "\n",
    "    # VARIABLES\n",
    "    @variable(model, x[i = 1:T, j = 1:R] > 0, Int) # R roster spots each for N teams\n",
    "\n",
    "    # OBJECTIVE FUNCTION - distribution for total expected value - maybe maximize the 25th percentile outcome?\n",
    "    @objective(model, Max, sum(x[i,j] for i in 1:T, j in 1:R))\n",
    "\n",
    "    # CONSTRAINTS\n",
    "    # no player can be on two teams\n",
    "    @constraint(model, [p = 1:P], sum(x[i,j]==p for i in 1:T, j in 1:R) <= 1)\n",
    "\n",
    "    # position constraints for each team\n",
    "    @constraint(model, [i = 1:T], sum(in(x[i,j], qbs) for j in 1:R) >= min_qbs)\n",
    "    @constraint(model, [i = 1:T], sum(in(x[i,j], qbs) for j in 1:R) <= max_qbs)\n",
    "    @constraint(model, [i = 1:T], sum(in(x[i,j], rbs) for j in 1:R) >= min_rbs)\n",
    "    @constraint(model, [i = 1:T], sum(in(x[i,j], rbs) for j in 1:R) <= max_rbs)\n",
    "    @constraint(model, [i = 1:T], sum(in(x[i,j], wrs) for j in 1:R) >= min_wrs)\n",
    "    @constraint(model, [i = 1:T], sum(in(x[i,j], wrs) for j in 1:R) <= max_wrs)\n",
    "    @constraint(model, [i = 1:T], sum(in(x[i,j], tes) for j in 1:R) >= min_tes)\n",
    "    @constraint(model, [i = 1:T], sum(in(x[i,j], tes) for j in 1:R) <= max_tes)\n",
    "\n",
    "    # already picked constraints\n",
    "    @constraint(model, [i = 1:T], sum(x[i,j] for j in 1:R) == 16)\n",
    "\n",
    "\n",
    "    # OPTIMIZE\n",
    "    # solvetime = @elapsed optimize!(model)\n",
    "    optimize!(model)\n",
    "\n",
    "\n",
    "    return value.(x)\n",
    "end"
   ]
  }
 ],
 "metadata": {
  "kernelspec": {
   "display_name": "Julia 1.8.0",
   "language": "julia",
   "name": "julia-1.8"
  },
  "language_info": {
   "file_extension": ".jl",
   "mimetype": "application/julia",
   "name": "julia",
   "version": "1.8.0"
  },
  "orig_nbformat": 4
 },
 "nbformat": 4,
 "nbformat_minor": 2
}
