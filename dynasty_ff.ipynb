{
 "cells": [
  {
   "cell_type": "code",
   "execution_count": 1,
   "metadata": {},
   "outputs": [],
   "source": [
    "using DataFrames, CSV, JuMP, Gurobi, Random, LibPQ, Statistics\n",
    "using HTTP, JSON"
   ]
  },
  {
   "cell_type": "code",
   "execution_count": null,
   "metadata": {},
   "outputs": [],
   "source": [
    "#TODO: August 24 ADP data\n",
    "#TODO: figure out how to rate the players that are never \"starters\""
   ]
  },
  {
   "cell_type": "code",
   "execution_count": 29,
   "metadata": {},
   "outputs": [
    {
     "data": {
      "text/plain": [
       "initialize_data (generic function with 2 methods)"
      ]
     },
     "metadata": {},
     "output_type": "display_data"
    }
   ],
   "source": [
    "function initialize_data(dynasty = true)\n",
    "    #data = projections for each player\n",
    "    data = DataFrame(CSV.File(\"dynasty_data.csv\"))\n",
    "    #fill missing with 0 in julia\n",
    "    replace!(data.Dyn_SF, missing => 500)\n",
    "    replace!(data.RedraftHalfPPR, missing => 500)\n",
    "    data.Name .= data.FirstName .* \" \" .* data.LastName\n",
    "    if dynasty\n",
    "        sort!(data, :Dyn_SF)\n",
    "    else\n",
    "        sort!(data, :RedraftHalfPPR)\n",
    "    end\n",
    "\n",
    "    player_to_index = Dict()\n",
    "    #iterate thorugh each row in the data\n",
    "    for i in 1:size(data)[1]\n",
    "        #get the player name\n",
    "        player = data[i, :Name]\n",
    "        #if the player is not in the dictionary, add them\n",
    "        player_to_index[player] = i\n",
    "    end\n",
    "\n",
    "    qbs = Set()\n",
    "    rbs = Set()\n",
    "    wrs = Set()\n",
    "    tes = Set()\n",
    "    flex = Set()\n",
    "    names = Set()\n",
    "\n",
    "    for player in eachrow(data)\n",
    "        push!(names, player.Name)\n",
    "        if player.Position == \"QB\"\n",
    "            push!(qbs, player.Name)\n",
    "        elseif player.Position == \"RB\"\n",
    "            push!(rbs, player.Name)\n",
    "            push!(flex, player.Name)\n",
    "        elseif player.Position == \"WR\"\n",
    "            push!(wrs, player.Name)\n",
    "            push!(flex, player.Name)\n",
    "        elseif player.Position == \"TE\"\n",
    "            push!(tes, player.Name)\n",
    "        end\n",
    "    end\n",
    "    return data, player_to_index, qbs, rbs, wrs, tes, flex, names\n",
    "end"
   ]
  },
  {
   "cell_type": "code",
   "execution_count": 3,
   "metadata": {},
   "outputs": [
    {
     "data": {
      "text/plain": [
       "reset_draft (generic function with 1 method)"
      ]
     },
     "metadata": {},
     "output_type": "display_data"
    }
   ],
   "source": [
    "function reset_draft(num_teams)\n",
    "    drafted = Dict()\n",
    "    for i in range(1, num_teams)\n",
    "        drafted[i] = []\n",
    "    end\n",
    "    return drafted\n",
    "end"
   ]
  },
  {
   "cell_type": "code",
   "execution_count": 4,
   "metadata": {},
   "outputs": [
    {
     "data": {
      "text/plain": [
       "just_drafted (generic function with 1 method)"
      ]
     },
     "metadata": {},
     "output_type": "display_data"
    }
   ],
   "source": [
    "function just_drafted(player, team, num_teams)\n",
    "    if length(filter(:Name => n -> n == player, data)[!,1]) < 1\n",
    "        return \"Player not found\"\n",
    "    end\n",
    "    if team < 1 || team > num_teams\n",
    "        return \"Team not found\"\n",
    "    end\n",
    "    for i in 1:num_teams\n",
    "        if player in drafted[i]\n",
    "            return \"Player already drafted\"\n",
    "        end\n",
    "    end\n",
    "    push!(drafted[team], player)\n",
    "    return \"Team \" * string(team) * \" drafted \" * player * \"!\"\n",
    "end"
   ]
  },
  {
   "cell_type": "code",
   "execution_count": 5,
   "metadata": {},
   "outputs": [
    {
     "data": {
      "text/plain": [
       "players_drafted_opps (generic function with 1 method)"
      ]
     },
     "metadata": {},
     "output_type": "display_data"
    }
   ],
   "source": [
    "function players_drafted_opps(team, num_teams)\n",
    "    drafted_opps = DataFrame(Name = data.Name, Drafted = fill(false, size(data)[1]))\n",
    "    for i in 1:num_teams\n",
    "        if i == team\n",
    "            continue\n",
    "        else\n",
    "            for player in drafted[i]\n",
    "                if player == \"QB\" || player == \"RB\" || player == \"WR\" || player == \"TE\"\n",
    "                    continue\n",
    "                end\n",
    "                drafted_opps[player_to_index[player], \"Drafted\"] = true\n",
    "            end\n",
    "        end\n",
    "    end\n",
    "    return drafted_opps\n",
    "end"
   ]
  },
  {
   "cell_type": "code",
   "execution_count": 6,
   "metadata": {},
   "outputs": [
    {
     "data": {
      "text/plain": [
       "draft_board (generic function with 1 method)"
      ]
     },
     "metadata": {},
     "output_type": "display_data"
    }
   ],
   "source": [
    "function draft_board(num_teams, num_rounds)\n",
    "    if num_teams == 8\n",
    "        board = DataFrame(T1 = String[], T2 = String[], T3 = String[], T4 = String[], T5 = String[], T6 = String[], T7 = String[], T8 = String[])\n",
    "        for i in 1:num_rounds\n",
    "            push!(board, [\"\", \"\", \"\", \"\", \"\", \"\", \"\", \"\"])\n",
    "        end\n",
    "    elseif num_teams == 10\n",
    "        board = DataFrame(T1 = String[], T2 = String[], T3 = String[], T4 = String[], T5 = String[], T6 = String[], T7 = String[], T8 = String[], T9 = String[], T10 = String[])\n",
    "        for i in 1:num_rounds\n",
    "            push!(board, [\"\", \"\", \"\", \"\", \"\", \"\", \"\", \"\", \"\", \"\"])\n",
    "        end\n",
    "    else #num_teams == 12\n",
    "        board = DataFrame(T1 = String[], T2 = String[], T3 = String[], T4 = String[], T5 = String[], T6 = String[], T7 = String[], T8 = String[], T9 = String[], T10 = String[], T11 = String[], T12 = String[])\n",
    "        for i in 1:num_rounds\n",
    "            push!(board, [\"\", \"\", \"\", \"\", \"\", \"\", \"\", \"\", \"\", \"\", \"\", \"\"])\n",
    "        end\n",
    "    end\n",
    "    \n",
    "    for team in 1:num_teams\n",
    "        num = 1\n",
    "        for player in drafted[team]\n",
    "            board[team, num] = player\n",
    "            num += 1\n",
    "        end\n",
    "    end\n",
    "    return board\n",
    "end"
   ]
  },
  {
   "cell_type": "code",
   "execution_count": 7,
   "metadata": {},
   "outputs": [
    {
     "data": {
      "text/plain": [
       "view_roster (generic function with 1 method)"
      ]
     },
     "metadata": {},
     "output_type": "display_data"
    }
   ],
   "source": [
    "function view_roster(team)\n",
    "    roster = DataFrame(Position = String[], Player = String[])\n",
    "    push!(roster, [\"QB1\", \"\"])\n",
    "    push!(roster, [\"QB2\", \"\"])\n",
    "    push!(roster, [\"RB1\", \"\"])\n",
    "    push!(roster, [\"RB2\", \"\"])\n",
    "    push!(roster, [\"WR1\", \"\"])\n",
    "    push!(roster, [\"WR2\", \"\"])\n",
    "    push!(roster, [\"TE\", \"\"])\n",
    "    push!(roster, [\"FLEX\", \"\"])\n",
    "    push!(roster, [\"FLEX\", \"\"])\n",
    "    push!(roster, [\"Bench\", \"\"])\n",
    "    push!(roster, [\"Bench\", \"\"])\n",
    "    push!(roster, [\"Bench\", \"\"])\n",
    "    push!(roster, [\"Bench\", \"\"])\n",
    "    push!(roster, [\"Bench\", \"\"])\n",
    "    push!(roster, [\"Bench\", \"\"])\n",
    "    push!(roster, [\"Bench\", \"\"])\n",
    "    push!(roster, [\"Bench\", \"\"])\n",
    "    push!(roster, [\"Bench\", \"\"])\n",
    "    push!(roster, [\"Bench\", \"\"])\n",
    "    push!(roster, [\"Bench\", \"\"])\n",
    "    push!(roster, [\"Bench\", \"\"])\n",
    "    push!(roster, [\"Bench\", \"\"])\n",
    "    push!(roster, [\"Bench\", \"\"])\n",
    "    push!(roster, [\"Bench\", \"\"])\n",
    "    push!(roster, [\"Bench\", \"\"])\n",
    "    push!(roster, [\"Bench\", \"\"])\n",
    "\n",
    "    qb_spots = [1, 2, 10, 11, 12, 13, 14, 15, 16, 17, 18, 19, 20, 21, 22, 23, 24, 25, 26]\n",
    "    rb_spots = [3, 4, 8, 9, 10, 11, 12, 13, 14, 15, 16, 17, 18, 19, 20, 21, 22, 23, 24, 25, 26]\n",
    "    wr_spots = [5, 6, 8, 9, 10, 11, 12, 13, 14, 15, 16, 17, 18, 19, 20, 21, 22, 23, 24, 25, 26]\n",
    "    te_spots = [7, 8, 9, 10, 11, 12, 13, 14, 15, 16, 17, 18, 19, 20, 21, 22, 23, 24, 25, 26]\n",
    "\n",
    "    for player in drafted[team]\n",
    "        if player == \"QB\"\n",
    "            for spot in qb_spots\n",
    "                if roster[spot, \"Player\"] == \"\"\n",
    "                    roster[spot, \"Player\"] = player\n",
    "                    break\n",
    "                end\n",
    "            end\n",
    "            continue\n",
    "        elseif player == \"RB\"\n",
    "            for spot in rb_spots\n",
    "                if roster[spot, \"Player\"] == \"\"\n",
    "                    roster[spot, \"Player\"] = player\n",
    "                    break\n",
    "                end\n",
    "            end\n",
    "            continue\n",
    "        elseif player == \"WR\"\n",
    "            for spot in wr_spots\n",
    "                if roster[spot, \"Player\"] == \"\"\n",
    "                    roster[spot, \"Player\"] = player\n",
    "                    break\n",
    "                end\n",
    "            end\n",
    "            continue\n",
    "        elseif player == \"TE\"\n",
    "            for spot in te_spots\n",
    "                if roster[spot, \"Player\"] == \"\"\n",
    "                    roster[spot, \"Player\"] = player\n",
    "                    break\n",
    "                end\n",
    "            end\n",
    "            continue\n",
    "        end\n",
    "        player_pos = data[player_to_index[player], \"Position\"]\n",
    "        if player_pos == \"QB\"\n",
    "            for spot in qb_spots\n",
    "                if roster[spot, \"Player\"] == \"\"\n",
    "                    roster[spot, \"Player\"] = player\n",
    "                    break\n",
    "                end\n",
    "            end\n",
    "        elseif player_pos == \"RB\"\n",
    "            for spot in rb_spots\n",
    "                if roster[spot, \"Player\"] == \"\"\n",
    "                    roster[spot, \"Player\"] = player\n",
    "                    break\n",
    "                end\n",
    "            end\n",
    "        elseif player_pos == \"WR\"\n",
    "            for spot in wr_spots\n",
    "                if roster[spot, \"Player\"] == \"\"\n",
    "                    roster[spot, \"Player\"] = player\n",
    "                    break\n",
    "                end\n",
    "            end\n",
    "        elseif player_pos == \"TE\"\n",
    "            for spot in te_spots\n",
    "                if roster[spot, \"Player\"] == \"\"\n",
    "                    roster[spot, \"Player\"] = player\n",
    "                    break\n",
    "                end\n",
    "            end\n",
    "        end\n",
    "    end\n",
    "    return roster\n",
    "end"
   ]
  },
  {
   "cell_type": "code",
   "execution_count": 13,
   "metadata": {},
   "outputs": [
    {
     "data": {
      "text/plain": [
       "update_draft (generic function with 1 method)"
      ]
     },
     "metadata": {},
     "output_type": "display_data"
    }
   ],
   "source": [
    "function update_draft(id)\n",
    "    url = \"https://api.sleeper.app/v1/draft/\" *id*\"/picks\"\n",
    "    response = HTTP.get(url)\n",
    "    response_body = String(response.body)\n",
    "    parsed_json = JSON.parse(response_body)\n",
    "    drafted = reset_draft(10) #MIGHT NEED EDITING\n",
    "    for pick in parsed_json\n",
    "        team = Int64(pick[\"draft_slot\"])\n",
    "        position = pick[\"metadata\"][\"position\"]\n",
    "        name = pick[\"metadata\"][\"first_name\"] * \" \" * pick[\"metadata\"][\"last_name\"]\n",
    "        name = replace(name, \".\" => \"\")\n",
    "        if name in names\n",
    "            push!(drafted[team], name)\n",
    "        else\n",
    "            push!(drafted[team], position)\n",
    "        end\n",
    "    end\n",
    "    return drafted\n",
    "end"
   ]
  },
  {
   "cell_type": "code",
   "execution_count": 14,
   "metadata": {},
   "outputs": [
    {
     "name": "stderr",
     "output_type": "stream",
     "text": [
      "WARNING: redefinition of constant GRB_ENV. This may fail, cause incorrect answers, or produce other errors.\n"
     ]
    }
   ],
   "source": [
    "const GRB_ENV = Gurobi.Env(output_flag=0);"
   ]
  },
  {
   "cell_type": "code",
   "execution_count": 79,
   "metadata": {},
   "outputs": [
    {
     "data": {
      "text/plain": [
       "dynasty_sf_model (generic function with 2 methods)"
      ]
     },
     "metadata": {},
     "output_type": "display_data"
    }
   ],
   "source": [
    "function dynasty_sf_model(team, pv, drafted, temp=[])\n",
    "    # create model\n",
    "    model = Model(() -> Gurobi.Optimizer(GRB_ENV))\n",
    "    set_optimizer_attribute(model, \"TimeLimit\", 300)\n",
    "\n",
    "    # PARAMETERS\n",
    "    T = 10 # num teams\n",
    "    P = size(data)[1] # num_players\n",
    "    Y = 10 # num_years projecting\n",
    "    R = 26 # roster size\n",
    "\n",
    "    alpha = 0.5 # starter weight\n",
    "    \n",
    "    min_qbs = 3\n",
    "    max_qbs = 5\n",
    "    min_rbs = 7\n",
    "    max_rbs = 11\n",
    "    min_wrs = 7\n",
    "    max_wrs = 11\n",
    "    min_tes = 2\n",
    "    max_tes = 4\n",
    "\n",
    "    starting_qbs_now = 2\n",
    "    starting_rbs_now = 3\n",
    "    starting_wrs_now = 3\n",
    "    starting_flex_now = 8\n",
    "    starting_tes_now = 1\n",
    "\n",
    "    starting_qbs_mid = 2\n",
    "    starting_rbs_mid = 2\n",
    "    starting_wrs_mid = 2\n",
    "    starting_flex_mid = 6\n",
    "    starting_tes_mid = 1\n",
    "\n",
    "    starting_qbs_fut = 1\n",
    "    starting_flex_fut = 4\n",
    "    starting_tes_fut = 1\n",
    "\n",
    "\n",
    "    opps = players_drafted_opps(team, T)\n",
    "\n",
    "    num_picked = sum(opps[i, \"Drafted\"] for i in 1:P) + length(drafted[team])\n",
    "\n",
    "    picks = [team, (2*T+1)-team]\n",
    "    for i in 3:R\n",
    "        push!(picks, picks[i-2]+(2*T))\n",
    "    end\n",
    "\n",
    "    # VARIABLES\n",
    "    @variable(model, x[i = 1:P], Bin) # whether or not player was drafted by desired team\n",
    "    @variable(model, y[i = 1:P, j = 1:Y], Bin) # whether or not player is \"starting\" in year j on your roster\n",
    "\n",
    "    # OBJECTIVE FUNCTION\n",
    "    @objective(model, Max, sum(data[i, j+5]*(x[i]+alpha*y[i,j])*(pv^(j-1)) for i in 1:P, j in 1:Y))\n",
    "\n",
    "    # CONSTRAINTS\n",
    "    # roster must contain already drafted num_players\n",
    "    @constraint(model, [i = drafted[team]], x[player_to_index[i]] == 1)\n",
    "\n",
    "    # roster must not contain any opps\n",
    "    @constraint(model, [i=1:P], x[i]+opps[i,\"Drafted\"] <= 1)\n",
    "\n",
    "    # roster must not contain any temps\n",
    "    @constraint(model, [i=1:length(temp)], x[player_to_index[temp[i]]] == 0)\n",
    "\n",
    "    # selecting players in y only if on roster\n",
    "    @constraint(model, [i = 1:P, j = 1:Y], y[i,j] <= x[i])\n",
    "\n",
    "    # roster must contain R players (no kicker/DEF)\n",
    "    @constraint(model, sum(x[i] for i in 1:P) <= R)\n",
    "\n",
    "    # positional constraints\n",
    "    @constraint(model, sum(x[player_to_index[i]] for i in qbs) >= min_qbs)\n",
    "    @constraint(model, sum(x[player_to_index[i]] for i in qbs) <= max_qbs)\n",
    "    @constraint(model, sum(x[player_to_index[i]] for i in rbs) >= min_rbs)\n",
    "    @constraint(model, sum(x[player_to_index[i]] for i in rbs) <= max_rbs)\n",
    "    @constraint(model, sum(x[player_to_index[i]] for i in wrs) >= min_wrs)\n",
    "    @constraint(model, sum(x[player_to_index[i]] for i in wrs) <= max_wrs)\n",
    "    @constraint(model, sum(x[player_to_index[i]] for i in tes) >= min_tes)\n",
    "    @constraint(model, sum(x[player_to_index[i]] for i in tes) <= max_tes)\n",
    "\n",
    "    # starting constraints\n",
    "    @constraint(model, [j = 1:2], sum(y[player_to_index[i],j] for i in qbs) == starting_qbs_now)\n",
    "    @constraint(model, [j = 1:2], sum(y[player_to_index[i],j] for i in rbs) >= starting_rbs_now)\n",
    "    @constraint(model, [j = 1:2], sum(y[player_to_index[i],j] for i in wrs) >= starting_wrs_now)\n",
    "    @constraint(model, [j = 1:2], sum(y[player_to_index[i],j] for i in flex) == starting_flex_now)\n",
    "    @constraint(model, [j = 1:2], sum(y[player_to_index[i],j] for i in tes) == starting_tes_now)\n",
    "\n",
    "    @constraint(model, [j = 3:5], sum(y[player_to_index[i],j] for i in qbs) == starting_qbs_mid)\n",
    "    @constraint(model, [j = 3:5], sum(y[player_to_index[i],j] for i in rbs) >= starting_rbs_mid)\n",
    "    @constraint(model, [j = 3:5], sum(y[player_to_index[i],j] for i in wrs) >= starting_wrs_mid)\n",
    "    @constraint(model, [j = 3:5], sum(y[player_to_index[i],j] for i in flex) == starting_flex_mid)\n",
    "    @constraint(model, [j = 3:5], sum(y[player_to_index[i],j] for i in tes) == starting_tes_mid)\n",
    "\n",
    "    @constraint(model, [j = 6:7], sum(y[player_to_index[i],j] for i in qbs) == starting_qbs_fut)\n",
    "    @constraint(model, [j = 6:7], sum(y[player_to_index[i],j] for i in flex) == starting_flex_fut)\n",
    "    @constraint(model, [j = 6:7], sum(y[player_to_index[i],j] for i in tes) == starting_tes_fut)\n",
    "\n",
    "    @constraint(model, [j = 8:10], sum(y[i,j] for i in 1:P) >= 2)\n",
    "\n",
    "\n",
    "    # DRAFT POSITION CONSTRAINTS\n",
    "    #at least 1 pick from set of players after each round\n",
    "    for pick in length(drafted[team])+1:R\n",
    "        @constraint(model, sum(x[i] for i in (picks[pick]-sum(opps[j, \"Drafted\"] for j in picks[pick]:P)):P) >= R+1-pick)\n",
    "    end\n",
    "\n",
    "    # OPTIMIZE\n",
    "    # solvetime = @elapsed optimize!(model)\n",
    "    optimize!(model)\n",
    "\n",
    "    roster = DataFrame(Name = String[], Position = String[], Pick = Int64[], ADP = Float64[])\n",
    "    count = 1\n",
    "    for i in drafted[team]\n",
    "        if i == \"QB\" || i == \"RB\" || i == \"WR\" || i == \"TE\"\n",
    "            push!(roster, [i, i, picks[count], 500])\n",
    "            continue\n",
    "        end\n",
    "        push!(roster, [data[player_to_index[i], \"Name\"], data[player_to_index[i], \"Position\"], picks[count], data[player_to_index[i], \"Dyn_SF\"]])\n",
    "        count += 1\n",
    "    end\n",
    "    for i in 1:P\n",
    "        if value.(x[i]) == 1\n",
    "            if data[i, \"Name\"] in drafted[team]\n",
    "                continue\n",
    "            else\n",
    "                push!(roster, [data[i, \"Name\"], data[i, \"Position\"], picks[count], data[i, \"Dyn_SF\"]])\n",
    "                count += 1\n",
    "            end\n",
    "        end\n",
    "    end\n",
    "    next_pick = \"\"\n",
    "    for i in 1:P\n",
    "        if value.(x[i]) == 1\n",
    "            if data[i, \"Name\"] in drafted[team]\n",
    "                continue\n",
    "            else\n",
    "                next_pick = data[i, \"Name\"]\n",
    "                break\n",
    "            end\n",
    "        end\n",
    "    end\n",
    "    println(\"Total VORP: \" * string(round(objective_value(model), digits = 1)))\n",
    "    return next_pick, roster\n",
    "end"
   ]
  },
  {
   "cell_type": "code",
   "execution_count": 63,
   "metadata": {},
   "outputs": [
    {
     "data": {
      "text/plain": [
       "(\u001b[1m491×27 DataFrame\u001b[0m\n",
       "\u001b[1m Row \u001b[0m│\u001b[1m FirstName \u001b[0m\u001b[1m LastName    \u001b[0m\u001b[1m Dyn_SF   \u001b[0m\u001b[1m RedraftHalfPPR \u001b[0m\u001b[1m Position \u001b[0m\u001b[1m Y0_VORP  \u001b[0m\u001b[1m Y\u001b[0m ⋯\n",
       "\u001b[1m     \u001b[0m│\u001b[90m String15  \u001b[0m\u001b[90m String31    \u001b[0m\u001b[90m Float64? \u001b[0m\u001b[90m Float64?       \u001b[0m\u001b[90m String3  \u001b[0m\u001b[90m Float64  \u001b[0m\u001b[90m F\u001b[0m ⋯\n",
       "─────┼──────────────────────────────────────────────────────────────────────────\n",
       "   1 │ Patrick    Mahomes           1.9            14.4  QB         9.06229  6 ⋯\n",
       "   2 │ Josh       Allen             2.3            22.6  QB         8.31693  4\n",
       "   3 │ Jalen      Hurts             3.9            23.7  QB         8.0804   7\n",
       "   4 │ Joe        Burrow            4.0            35.7  QB         6.92221  6\n",
       "   5 │ Justin     Jefferson         5.5             1.6  WR        10.5095   8 ⋯\n",
       "   6 │ Justin     Herbert           6.8            46.3  QB         4.64313  3\n",
       "   7 │ Ja'Marr    Chase             7.1             3.1  WR         9.97006  6\n",
       "   8 │ Lamar      Jackson           7.3            34.4  QB         7.18824  5\n",
       "  ⋮  │     ⋮           ⋮          ⋮            ⋮            ⋮         ⋮        ⋱\n",
       " 485 │ Tyler      Davis           500.0           500.0  TE         0.0      0 ⋯\n",
       " 486 │ David      Wells           500.0           500.0  TE         0.0      0\n",
       " 487 │ Grant      Calcaterra      500.0           500.0  TE         0.0      0\n",
       " 488 │ Charlie    Woerner         500.0           500.0  TE         0.0      0\n",
       " 489 │ John       FitzPatrick     500.0           500.0  TE         0.0      0 ⋯\n",
       " 490 │ Racey      McMath          500.0           500.0  WR         0.0      0\n",
       " 491 │ Trinity    Benson          500.0           500.0  WR         0.0      0\n",
       "\u001b[36m                                                 21 columns and 476 rows omitted\u001b[0m, Dict{Any, Any}(\"Austin Ekeler\" => 28, \"Eno Benjamin\" => 425, \"Jamaal Williams\" => 149, \"Latavius Murray\" => 295, \"Britain Covey\" => 405, \"Zack Moss\" => 256, \"Kenny McIntosh\" => 481, \"Romeo Doubs\" => 161, \"Gary Brightwell\" => 287, \"Pierre Strong\" => 235…), Set(Any[\"Matthew Stafford\", \"CJ Beathard\", \"Jordan Love\", \"Jimmy Garoppolo\", \"Justin Fields\", \"CJ Stroud\", \"Desmond Ridder\", \"Marcus Mariota\", \"Joshua Dobbs\", \"Stetson Bennett\"  …  \"Zach Wilson\", \"Trevor Lawrence\", \"Jared Goff\", \"Sam Howell\", \"Drew Lock\", \"Jameis Winston\", \"Geno Smith\", \"Patrick Mahomes\", \"Easton Stick\", \"Jarrett Stidham\"]), Set(Any[\"Austin Ekeler\", \"Tony Pollard\", \"Jamaal Williams\", \"Latavius Murray\", \"Craig Reynolds\", \"Zack Moss\", \"DeeJay Dallas\", \"Troy Hairston\", \"Gary Brightwell\", \"Ty'Son Williams\"  …  \"Najee Harris\", \"Christian McCaffrey\", \"Joe Mixon\", \"Breece Hall\", \"Cam Akers\", \"Isaiah Spiller\", \"Gus Edwards\", \"James Conner\", \"Mike Boone\", \"Patrick Taylor\"]), Set(Any[\"Britain Covey\", \"Romeo Doubs\", \"Tank Dell\", \"Jordan Addison\", \"Amari Rodgers\", \"JuJu Smith-Schuster\", \"Diontae Johnson\", \"Khalil Shakir\", \"Trinity Benson\", \"Chris Conley\"  …  \"Tyler Scott\", \"Bryan Edwards\", \"Kendall Hinton\", \"David Bell\", \"Mike Williams\", \"Equanimeous St Brown\", \"Christian Kirk\", \"Curtis Samuel\", \"Simi Fehoko\", \"Dontayvion Wicks\"]), Set(Any[\"Cole Kmet\", \"Luke Musgrave\", \"Jody Fortson\", \"Albert Okwuegbunam\", \"David Njoku\", \"Noah Fant\", \"Noah Togiai\", \"Pat Freiermuth\", \"Jeremy Ruckert\", \"Connor Heyward\"  …  \"Travis Kelce\", \"Jake Ferguson\", \"Andrew Beck\", \"Chase Allen\", \"John Bates\", \"Tyler Davis\", \"Josh Whyle\", \"Mark Andrews\", \"Darren Waller\", \"Dallas Goedert\"]), Set(Any[\"Austin Ekeler\", \"Eno Benjamin\", \"Jamaal Williams\", \"Latavius Murray\", \"Britain Covey\", \"Zack Moss\", \"Kenny McIntosh\", \"Romeo Doubs\", \"Gary Brightwell\", \"Pierre Strong\"  …  \"Dameon Pierce\", \"Mike Williams\", \"Equanimeous St Brown\", \"Christian Kirk\", \"Curtis Samuel\", \"Simi Fehoko\", \"Joe Mixon\", \"Gus Edwards\", \"Mike Boone\", \"Dontayvion Wicks\"]), Set(Any[\"Austin Ekeler\", \"Eno Benjamin\", \"Jamaal Williams\", \"Latavius Murray\", \"Britain Covey\", \"Zack Moss\", \"Kenny McIntosh\", \"Romeo Doubs\", \"Gary Brightwell\", \"Pierre Strong\"  …  \"Curtis Samuel\", \"Simi Fehoko\", \"Josh Whyle\", \"Tyler Davis\", \"Mark Andrews\", \"Joe Mixon\", \"Darren Waller\", \"Gus Edwards\", \"Mike Boone\", \"Dontayvion Wicks\"]))"
      ]
     },
     "metadata": {},
     "output_type": "display_data"
    }
   ],
   "source": [
    "data, player_to_index, qbs, rbs, wrs, tes, flex, names = initialize_data()"
   ]
  },
  {
   "cell_type": "code",
   "execution_count": 431,
   "metadata": {},
   "outputs": [
    {
     "data": {
      "text/plain": [
       "Dict{Any, Any} with 10 entries:\n",
       "  5  => Any[\"Justin Jefferson\", \"Travis Kelce\", \"Cooper Kupp\", \"Josh Jacobs\", \"…\n",
       "  4  => Any[\"Justin Herbert\", \"Breece Hall\", \"Tyreek Hill\", \"Drake London\", \"CJ…\n",
       "  6  => Any[\"Ja'Marr Chase\", \"Garrett Wilson\", \"Jahmyr Gibbs\", \"Kenneth Walker\"…\n",
       "  7  => Any[\"Joe Burrow\", \"Amon-Ra St Brown\", \"Deshaun Watson\", \"Mark Andrews\",…\n",
       "  2  => Any[\"Patrick Mahomes\", \"Bijan Robinson\", \"Saquon Barkley\", \"Tua Tagovai…\n",
       "  10 => Any[\"Justin Fields\", \"Christian McCaffrey\", \"Tee Higgins\", \"Kyle Pitts\"…\n",
       "  9  => Any[\"Trevor Lawrence\", \"CeeDee Lamb\", \"Dak Prescott\", \"Austin Ekeler\", …\n",
       "  8  => Any[\"Lamar Jackson\", \"Anthony Richardson\", \"Stefon Diggs\", \"Travis Etie…\n",
       "  3  => Any[\"Jalen Hurts\", \"Jonathan Taylor\", \"Chris Olave\", \"Bryce Young\", \"De…\n",
       "  1  => Any[\"Josh Allen\", \"Jaylen Waddle\", \"AJ Brown\", \"Nick Chubb\", \"Jaxon Smi…"
      ]
     },
     "metadata": {},
     "output_type": "display_data"
    }
   ],
   "source": [
    "drafted = update_draft(\"998069224713195520\")"
   ]
  },
  {
   "cell_type": "code",
   "execution_count": 64,
   "metadata": {},
   "outputs": [
    {
     "data": {
      "text/plain": [
       "Dict{Any, Any} with 10 entries:\n",
       "  5  => Any[]\n",
       "  4  => Any[]\n",
       "  6  => Any[]\n",
       "  7  => Any[]\n",
       "  2  => Any[]\n",
       "  10 => Any[]\n",
       "  9  => Any[]\n",
       "  8  => Any[]\n",
       "  3  => Any[]\n",
       "  1  => Any[]"
      ]
     },
     "metadata": {},
     "output_type": "display_data"
    }
   ],
   "source": [
    "drafted = reset_draft(10)"
   ]
  },
  {
   "cell_type": "code",
   "execution_count": 76,
   "metadata": {},
   "outputs": [
    {
     "data": {
      "text/plain": [
       "\"Team 5 drafted Justin Jefferson!\""
      ]
     },
     "metadata": {},
     "output_type": "display_data"
    }
   ],
   "source": [
    "just_drafted(\"Justin Jefferson\", 5,10)"
   ]
  },
  {
   "cell_type": "code",
   "execution_count": 80,
   "metadata": {},
   "outputs": [
    {
     "name": "stdout",
     "output_type": "stream",
     "text": [
      "Total VORP: 399.0\n"
     ]
    },
    {
     "name": "stdout",
     "output_type": "stream",
     "text": [
      "Total VORP: 398.6\n",
      "Total VORP: 397.6\n"
     ]
    },
    {
     "data": {
      "text/plain": [
       "(\"Breece Hall\", \"Tyreek Hill\", \"Travis Kelce\")"
      ]
     },
     "metadata": {},
     "output_type": "display_data"
    }
   ],
   "source": [
    "pv = 0.90\n",
    "first_choice, roster = dynasty_sf_model(5, pv, drafted);\n",
    "second_choice, r2 = dynasty_sf_model(5, pv, drafted, [first_choice]);\n",
    "third_choice, r3 = dynasty_sf_model(5, pv, drafted, [first_choice, second_choice])\n",
    "first_choice, second_choice, third_choice"
   ]
  },
  {
   "cell_type": "code",
   "execution_count": 81,
   "metadata": {},
   "outputs": [
    {
     "data": {
      "text/html": [
       "<div class=\"data-frame\"><p>26 rows × 4 columns</p><table class=\"data-frame\"><thead><tr><th></th><th>Name</th><th>Position</th><th>Pick</th><th>ADP</th></tr><tr><th></th><th title=\"String\">String</th><th title=\"String\">String</th><th title=\"Int64\">Int64</th><th title=\"Float64\">Float64</th></tr></thead><tbody><tr><th>1</th><td>Justin Jefferson</td><td>WR</td><td>5</td><td>5.5</td></tr><tr><th>2</th><td>Tyreek Hill</td><td>WR</td><td>16</td><td>23.8</td></tr><tr><th>3</th><td>Cooper Kupp</td><td>WR</td><td>25</td><td>31.3</td></tr><tr><th>4</th><td>Josh Jacobs</td><td>RB</td><td>36</td><td>39.1</td></tr><tr><th>5</th><td>Davante Adams</td><td>WR</td><td>45</td><td>45.6</td></tr><tr><th>6</th><td>Javonte Williams</td><td>RB</td><td>56</td><td>61.9</td></tr><tr><th>7</th><td>Joe Mixon</td><td>RB</td><td>65</td><td>72.0</td></tr><tr><th>8</th><td>Cam Akers</td><td>RB</td><td>76</td><td>84.7</td></tr><tr><th>9</th><td>Aaron Jones</td><td>RB</td><td>85</td><td>89.4</td></tr><tr><th>10</th><td>Alvin Kamara</td><td>RB</td><td>96</td><td>105.9</td></tr><tr><th>11</th><td>Brock Purdy</td><td>QB</td><td>105</td><td>115.0</td></tr><tr><th>12</th><td>Matthew Stafford</td><td>QB</td><td>116</td><td>135.9</td></tr><tr><th>13</th><td>Skyy Moore</td><td>WR</td><td>125</td><td>142.3</td></tr><tr><th>14</th><td>Michael Thomas</td><td>WR</td><td>136</td><td>148.1</td></tr><tr><th>15</th><td>Jimmy Garoppolo</td><td>QB</td><td>145</td><td>151.6</td></tr><tr><th>16</th><td>Rondale Moore</td><td>WR</td><td>156</td><td>159.4</td></tr><tr><th>17</th><td>Nico Collins</td><td>WR</td><td>165</td><td>172.3</td></tr><tr><th>18</th><td>Michael Wilson</td><td>WR</td><td>176</td><td>192.0</td></tr><tr><th>19</th><td>DJ Chark</td><td>WR</td><td>185</td><td>193.9</td></tr><tr><th>20</th><td>Jeff Wilson</td><td>RB</td><td>196</td><td>211.3</td></tr><tr><th>21</th><td>Tyquan Thornton</td><td>WR</td><td>205</td><td>215.8</td></tr><tr><th>22</th><td>Cade Otton</td><td>TE</td><td>216</td><td>227.8</td></tr><tr><th>23</th><td>Zach Wilson</td><td>QB</td><td>225</td><td>239.3</td></tr><tr><th>24</th><td>Zach Ertz</td><td>TE</td><td>236</td><td>254.2</td></tr><tr><th>&vellip;</th><td>&vellip;</td><td>&vellip;</td><td>&vellip;</td><td>&vellip;</td></tr></tbody></table></div>"
      ],
      "text/latex": [
       "\\begin{tabular}{r|cccc}\n",
       "\t& Name & Position & Pick & ADP\\\\\n",
       "\t\\hline\n",
       "\t& String & String & Int64 & Float64\\\\\n",
       "\t\\hline\n",
       "\t1 & Justin Jefferson & WR & 5 & 5.5 \\\\\n",
       "\t2 & Tyreek Hill & WR & 16 & 23.8 \\\\\n",
       "\t3 & Cooper Kupp & WR & 25 & 31.3 \\\\\n",
       "\t4 & Josh Jacobs & RB & 36 & 39.1 \\\\\n",
       "\t5 & Davante Adams & WR & 45 & 45.6 \\\\\n",
       "\t6 & Javonte Williams & RB & 56 & 61.9 \\\\\n",
       "\t7 & Joe Mixon & RB & 65 & 72.0 \\\\\n",
       "\t8 & Cam Akers & RB & 76 & 84.7 \\\\\n",
       "\t9 & Aaron Jones & RB & 85 & 89.4 \\\\\n",
       "\t10 & Alvin Kamara & RB & 96 & 105.9 \\\\\n",
       "\t11 & Brock Purdy & QB & 105 & 115.0 \\\\\n",
       "\t12 & Matthew Stafford & QB & 116 & 135.9 \\\\\n",
       "\t13 & Skyy Moore & WR & 125 & 142.3 \\\\\n",
       "\t14 & Michael Thomas & WR & 136 & 148.1 \\\\\n",
       "\t15 & Jimmy Garoppolo & QB & 145 & 151.6 \\\\\n",
       "\t16 & Rondale Moore & WR & 156 & 159.4 \\\\\n",
       "\t17 & Nico Collins & WR & 165 & 172.3 \\\\\n",
       "\t18 & Michael Wilson & WR & 176 & 192.0 \\\\\n",
       "\t19 & DJ Chark & WR & 185 & 193.9 \\\\\n",
       "\t20 & Jeff Wilson & RB & 196 & 211.3 \\\\\n",
       "\t21 & Tyquan Thornton & WR & 205 & 215.8 \\\\\n",
       "\t22 & Cade Otton & TE & 216 & 227.8 \\\\\n",
       "\t23 & Zach Wilson & QB & 225 & 239.3 \\\\\n",
       "\t24 & Zach Ertz & TE & 236 & 254.2 \\\\\n",
       "\t$\\dots$ & $\\dots$ & $\\dots$ & $\\dots$ & $\\dots$ \\\\\n",
       "\\end{tabular}\n"
      ],
      "text/plain": [
       "\u001b[1m26×4 DataFrame\u001b[0m\n",
       "\u001b[1m Row \u001b[0m│\u001b[1m Name             \u001b[0m\u001b[1m Position \u001b[0m\u001b[1m Pick  \u001b[0m\u001b[1m ADP     \u001b[0m\n",
       "\u001b[1m     \u001b[0m│\u001b[90m String           \u001b[0m\u001b[90m String   \u001b[0m\u001b[90m Int64 \u001b[0m\u001b[90m Float64 \u001b[0m\n",
       "─────┼────────────────────────────────────────────\n",
       "   1 │ Justin Jefferson  WR            5      5.5\n",
       "   2 │ Tyreek Hill       WR           16     23.8\n",
       "   3 │ Cooper Kupp       WR           25     31.3\n",
       "   4 │ Josh Jacobs       RB           36     39.1\n",
       "   5 │ Davante Adams     WR           45     45.6\n",
       "   6 │ Javonte Williams  RB           56     61.9\n",
       "   7 │ Joe Mixon         RB           65     72.0\n",
       "   8 │ Cam Akers         RB           76     84.7\n",
       "  ⋮  │        ⋮             ⋮        ⋮       ⋮\n",
       "  20 │ Jeff Wilson       RB          196    211.3\n",
       "  21 │ Tyquan Thornton   WR          205    215.8\n",
       "  22 │ Cade Otton        TE          216    227.8\n",
       "  23 │ Zach Wilson       QB          225    239.3\n",
       "  24 │ Zach Ertz         TE          236    254.2\n",
       "  25 │ Jacoby Brissett   QB          245    257.8\n",
       "  26 │ Zonovan Knight    RB          256    500.0\n",
       "\u001b[36m                                   11 rows omitted\u001b[0m"
      ]
     },
     "metadata": {},
     "output_type": "display_data"
    }
   ],
   "source": [
    "r2"
   ]
  },
  {
   "cell_type": "markdown",
   "metadata": {},
   "source": [
    "REDRAFT MODEL"
   ]
  },
  {
   "cell_type": "code",
   "execution_count": 56,
   "metadata": {},
   "outputs": [
    {
     "data": {
      "text/plain": [
       "redraft_model (generic function with 3 methods)"
      ]
     },
     "metadata": {},
     "output_type": "display_data"
    }
   ],
   "source": [
    "function redraft_model(team, num_teams, drafted, temp=[])\n",
    "    # create model\n",
    "    model = Model(() -> Gurobi.Optimizer(GRB_ENV))\n",
    "    set_optimizer_attribute(model, \"TimeLimit\", 300)\n",
    "\n",
    "    # PARAMETERS\n",
    "    T = num_teams # num teams\n",
    "    P = size(data)[1] # num_players\n",
    "    R = 13 # roster size\n",
    "\n",
    "    min_qbs = 1\n",
    "    max_qbs = 2\n",
    "    min_rbs = 4\n",
    "    max_rbs = 7\n",
    "    min_wrs = 4\n",
    "    max_wrs = 7\n",
    "    min_tes = 1\n",
    "    max_tes = 2\n",
    "\n",
    "    starting_qbs_now = 1\n",
    "    starting_rbs_now = 2\n",
    "    starting_wrs_now = 2\n",
    "    starting_flex_now = 7\n",
    "    starting_tes_now = 1\n",
    "\n",
    "    alpha = 0.5 # weight on starting players\n",
    "\n",
    "\n",
    "    opps = players_drafted_opps(team, T)\n",
    "\n",
    "    num_picked = sum(opps[i, \"Drafted\"] for i in 1:P) + length(drafted[team])\n",
    "\n",
    "    picks = [team, (2*T+1)-team]\n",
    "    for i in 3:R\n",
    "        push!(picks, picks[i-2]+(2*T))\n",
    "    end\n",
    "\n",
    "    # VARIABLES\n",
    "    @variable(model, x[i = 1:P], Bin) # whether or not player was drafted by desired team\n",
    "    @variable(model, y[i = 1:P], Bin) # whether or not player is \"starting\" in year j on your roster\n",
    "\n",
    "    # OBJECTIVE FUNCTION\n",
    "    @objective(model, Max, sum(data[i, \"Y0_VORP\"]*(x[i]+alpha*y[i]) for i in 1:P))\n",
    "\n",
    "    # CONSTRAINTS\n",
    "    # roster must contain already drafted num_players\n",
    "    @constraint(model, [i = drafted[team]], x[player_to_index[i]] == 1)\n",
    "\n",
    "    # roster must not contain any opps\n",
    "    @constraint(model, [i=1:P], x[i]+opps[i,\"Drafted\"] <= 1)\n",
    "\n",
    "    # selecting players to start only if on roster\n",
    "    @constraint(model, [i = 1:P], y[i] <= x[i])\n",
    "\n",
    "    # roster must not contain any temps\n",
    "    @constraint(model, [i=1:length(temp)], x[player_to_index[temp[i]]] == 0)\n",
    "\n",
    "    # roster must contain 26 players (no kicker/DEF)\n",
    "    @constraint(model, sum(x[i] for i in 1:P) <= R)\n",
    "\n",
    "    # positional constraints\n",
    "    @constraint(model, sum(x[player_to_index[i]] for i in qbs) >= min_qbs)\n",
    "    @constraint(model, sum(x[player_to_index[i]] for i in qbs) <= max_qbs)\n",
    "    @constraint(model, sum(x[player_to_index[i]] for i in rbs) >= min_rbs)\n",
    "    @constraint(model, sum(x[player_to_index[i]] for i in rbs) <= max_rbs)\n",
    "    @constraint(model, sum(x[player_to_index[i]] for i in wrs) >= min_wrs)\n",
    "    @constraint(model, sum(x[player_to_index[i]] for i in wrs) <= max_wrs)\n",
    "    @constraint(model, sum(x[player_to_index[i]] for i in tes) >= min_tes)\n",
    "    @constraint(model, sum(x[player_to_index[i]] for i in tes) <= max_tes)\n",
    "\n",
    "    @constraint(model, sum(y[player_to_index[i]] for i in qbs) == starting_qbs_now)\n",
    "    @constraint(model, sum(y[player_to_index[i]] for i in rbs) >= starting_rbs_now)\n",
    "    @constraint(model, sum(y[player_to_index[i]] for i in wrs) >= starting_wrs_now)\n",
    "    @constraint(model, sum(y[player_to_index[i]] for i in flex) == starting_flex_now)\n",
    "    @constraint(model, sum(y[player_to_index[i]] for i in tes) == starting_tes_now)\n",
    "\n",
    "\n",
    "    # DRAFT POSITION CONSTRAINTS\n",
    "    #at least 1 pick from set of players after each round\n",
    "    for pick in length(drafted[team])+1:R\n",
    "        @constraint(model, sum(x[i] for i in (picks[pick]-sum(opps[j, \"Drafted\"] for j in picks[pick]:P)):P) >= R+1-pick)\n",
    "    end\n",
    "\n",
    "    # OPTIMIZE\n",
    "    # solvetime = @elapsed optimize!(model)\n",
    "    optimize!(model)\n",
    "\n",
    "    roster = DataFrame(Name = String[], Position = String[], Pick = Int64[], ADP = Float64[])\n",
    "    count = 1\n",
    "    for i in drafted[team]\n",
    "        if i == \"QB\" || i == \"RB\" || i == \"WR\" || i == \"TE\"\n",
    "            push!(roster, [i, i, picks[count], 500])\n",
    "            continue\n",
    "        end\n",
    "        push!(roster, [data[player_to_index[i], \"Name\"], data[player_to_index[i], \"Position\"], picks[count], data[player_to_index[i], \"RedraftHalfPPR\"]])\n",
    "        count += 1\n",
    "    end\n",
    "    for i in 1:P\n",
    "        if value.(x[i]) == 1\n",
    "            if data[i, \"Name\"] in drafted[team]\n",
    "                continue\n",
    "            else\n",
    "                push!(roster, [data[i, \"Name\"], data[i, \"Position\"], picks[count], data[i, \"RedraftHalfPPR\"]])\n",
    "                count += 1\n",
    "            end\n",
    "        end\n",
    "    end\n",
    "    next_pick = \"\"\n",
    "    for i in 1:P\n",
    "        if value.(x[i]) == 1\n",
    "            if data[i, \"Name\"] in drafted[team]\n",
    "                continue\n",
    "            else\n",
    "                next_pick = data[i, \"Name\"]\n",
    "                break\n",
    "            end\n",
    "        end\n",
    "    end\n",
    "    println(\"Total VORP: \" * string(round(objective_value(model), digits = 1)))\n",
    "    return next_pick, roster\n",
    "end"
   ]
  },
  {
   "cell_type": "code",
   "execution_count": 46,
   "metadata": {},
   "outputs": [
    {
     "data": {
      "text/plain": [
       "(\u001b[1m491×27 DataFrame\u001b[0m\n",
       "\u001b[1m Row \u001b[0m│\u001b[1m FirstName \u001b[0m\u001b[1m LastName    \u001b[0m\u001b[1m Dyn_SF   \u001b[0m\u001b[1m RedraftHalfPPR \u001b[0m\u001b[1m Position \u001b[0m\u001b[1m Y0_VORP  \u001b[0m\u001b[1m Y\u001b[0m ⋯\n",
       "\u001b[1m     \u001b[0m│\u001b[90m String15  \u001b[0m\u001b[90m String31    \u001b[0m\u001b[90m Float64? \u001b[0m\u001b[90m Float64?       \u001b[0m\u001b[90m String3  \u001b[0m\u001b[90m Float64  \u001b[0m\u001b[90m F\u001b[0m ⋯\n",
       "─────┼──────────────────────────────────────────────────────────────────────────\n",
       "   1 │ Justin     Jefferson         5.5             1.6  WR        10.5095   8 ⋯\n",
       "   2 │ Christian  McCaffrey        13.0             2.8  RB         7.90528  6\n",
       "   3 │ Ja'Marr    Chase             7.1             3.1  WR         9.97006  6\n",
       "   4 │ Austin     Ekeler           28.5             4.7  RB         8.14655  5\n",
       "   5 │ Travis     Kelce            20.3             5.2  TE         7.85383  6 ⋯\n",
       "   6 │ Cooper     Kupp             31.3             6.1  WR        10.5522   7\n",
       "   7 │ Tyreek     Hill             23.8             7.6  WR         8.65459  6\n",
       "   8 │ Bijan      Robinson         11.3             8.0  RB         6.99868  8\n",
       "  ⋮  │     ⋮           ⋮          ⋮            ⋮            ⋮         ⋮        ⋱\n",
       " 485 │ Tyler      Davis           500.0           500.0  TE         0.0      0 ⋯\n",
       " 486 │ David      Wells           500.0           500.0  TE         0.0      0\n",
       " 487 │ Grant      Calcaterra      500.0           500.0  TE         0.0      0\n",
       " 488 │ Charlie    Woerner         500.0           500.0  TE         0.0      0\n",
       " 489 │ John       FitzPatrick     500.0           500.0  TE         0.0      0 ⋯\n",
       " 490 │ Racey      McMath          500.0           500.0  WR         0.0      0\n",
       " 491 │ Trinity    Benson          500.0           500.0  WR         0.0      0\n",
       "\u001b[36m                                                 21 columns and 476 rows omitted\u001b[0m, Dict{Any, Any}(\"Austin Ekeler\" => 4, \"Eno Benjamin\" => 424, \"Jamaal Williams\" => 103, \"Latavius Murray\" => 280, \"Britain Covey\" => 403, \"Zack Moss\" => 232, \"Kenny McIntosh\" => 481, \"Romeo Doubs\" => 144, \"Gary Brightwell\" => 270, \"Pierre Strong\" => 226…), Set(Any[\"Matthew Stafford\", \"CJ Beathard\", \"Jordan Love\", \"Jimmy Garoppolo\", \"Justin Fields\", \"CJ Stroud\", \"Desmond Ridder\", \"Marcus Mariota\", \"Joshua Dobbs\", \"Stetson Bennett\"  …  \"Zach Wilson\", \"Trevor Lawrence\", \"Jared Goff\", \"Sam Howell\", \"Drew Lock\", \"Jameis Winston\", \"Geno Smith\", \"Patrick Mahomes\", \"Easton Stick\", \"Jarrett Stidham\"]), Set(Any[\"Austin Ekeler\", \"Tony Pollard\", \"Jamaal Williams\", \"Latavius Murray\", \"Craig Reynolds\", \"Zack Moss\", \"DeeJay Dallas\", \"Troy Hairston\", \"Gary Brightwell\", \"Ty'Son Williams\"  …  \"Najee Harris\", \"Christian McCaffrey\", \"Joe Mixon\", \"Breece Hall\", \"Cam Akers\", \"Gus Edwards\", \"Isaiah Spiller\", \"James Conner\", \"Mike Boone\", \"Patrick Taylor\"]), Set(Any[\"Britain Covey\", \"Romeo Doubs\", \"Tank Dell\", \"Jordan Addison\", \"Amari Rodgers\", \"JuJu Smith-Schuster\", \"Diontae Johnson\", \"Khalil Shakir\", \"Trinity Benson\", \"Chris Conley\"  …  \"Tyler Scott\", \"Bryan Edwards\", \"Kendall Hinton\", \"David Bell\", \"Mike Williams\", \"Equanimeous St Brown\", \"Christian Kirk\", \"Curtis Samuel\", \"Simi Fehoko\", \"Dontayvion Wicks\"]), Set(Any[\"Cole Kmet\", \"Luke Musgrave\", \"Jody Fortson\", \"Albert Okwuegbunam\", \"David Njoku\", \"Noah Fant\", \"Noah Togiai\", \"Pat Freiermuth\", \"Jeremy Ruckert\", \"Connor Heyward\"  …  \"Travis Kelce\", \"Jake Ferguson\", \"Andrew Beck\", \"Chase Allen\", \"John Bates\", \"Tyler Davis\", \"Josh Whyle\", \"Mark Andrews\", \"Darren Waller\", \"Dallas Goedert\"]), Set(Any[\"Austin Ekeler\", \"Eno Benjamin\", \"Jamaal Williams\", \"Latavius Murray\", \"Britain Covey\", \"Zack Moss\", \"Kenny McIntosh\", \"Romeo Doubs\", \"Gary Brightwell\", \"Pierre Strong\"  …  \"Dameon Pierce\", \"Mike Williams\", \"Equanimeous St Brown\", \"Christian Kirk\", \"Curtis Samuel\", \"Simi Fehoko\", \"Joe Mixon\", \"Gus Edwards\", \"Mike Boone\", \"Dontayvion Wicks\"]), Set(Any[\"Austin Ekeler\", \"Eno Benjamin\", \"Jamaal Williams\", \"Latavius Murray\", \"Britain Covey\", \"Zack Moss\", \"Kenny McIntosh\", \"Romeo Doubs\", \"Gary Brightwell\", \"Pierre Strong\"  …  \"Curtis Samuel\", \"Simi Fehoko\", \"Josh Whyle\", \"Tyler Davis\", \"Mark Andrews\", \"Joe Mixon\", \"Darren Waller\", \"Gus Edwards\", \"Mike Boone\", \"Dontayvion Wicks\"]))"
      ]
     },
     "metadata": {},
     "output_type": "display_data"
    }
   ],
   "source": [
    "data, player_to_index, qbs, rbs, wrs, tes, flex, names = initialize_data(false)"
   ]
  },
  {
   "cell_type": "code",
   "execution_count": 57,
   "metadata": {},
   "outputs": [
    {
     "data": {
      "text/plain": [
       "Dict{Any, Any} with 12 entries:\n",
       "  5  => Any[]\n",
       "  12 => Any[]\n",
       "  8  => Any[]\n",
       "  1  => Any[]\n",
       "  6  => Any[]\n",
       "  11 => Any[]\n",
       "  9  => Any[]\n",
       "  3  => Any[]\n",
       "  7  => Any[]\n",
       "  4  => Any[]\n",
       "  2  => Any[]\n",
       "  10 => Any[]"
      ]
     },
     "metadata": {},
     "output_type": "display_data"
    }
   ],
   "source": [
    "drafted = reset_draft(12)"
   ]
  },
  {
   "cell_type": "code",
   "execution_count": 58,
   "metadata": {},
   "outputs": [
    {
     "name": "stdout",
     "output_type": "stream",
     "text": [
      "Total VORP: 74.6\n"
     ]
    },
    {
     "name": "stdout",
     "output_type": "stream",
     "text": [
      "Total VORP: 74.6\n",
      "Total VORP: 74.4\n"
     ]
    },
    {
     "data": {
      "text/plain": [
       "(\"Patrick Mahomes\", \"CeeDee Lamb\", \"Stefon Diggs\")"
      ]
     },
     "metadata": {},
     "output_type": "display_data"
    }
   ],
   "source": [
    "first_choice_r, roster_r = redraft_model(10, 12, drafted);\n",
    "second_choice_r, r2_r = redraft_model(10, 12, drafted, [first_choice_r]);\n",
    "third_choice_r, r3_r = redraft_model(10, 12, drafted, [first_choice_r, second_choice_r])\n",
    "first_choice_r, second_choice_r, third_choice_r"
   ]
  },
  {
   "cell_type": "code",
   "execution_count": 60,
   "metadata": {},
   "outputs": [
    {
     "data": {
      "text/html": [
       "<div class=\"data-frame\"><p>13 rows × 4 columns</p><table class=\"data-frame\"><thead><tr><th></th><th>Name</th><th>Position</th><th>Pick</th><th>ADP</th></tr><tr><th></th><th title=\"String\">String</th><th title=\"String\">String</th><th title=\"Int64\">Int64</th><th title=\"Float64\">Float64</th></tr></thead><tbody><tr><th>1</th><td>CeeDee Lamb</td><td>WR</td><td>10</td><td>13.2</td></tr><tr><th>2</th><td>Davante Adams</td><td>WR</td><td>15</td><td>15.6</td></tr><tr><th>3</th><td>Joe Mixon</td><td>RB</td><td>34</td><td>38.2</td></tr><tr><th>4</th><td>Aaron Jones</td><td>RB</td><td>39</td><td>41.4</td></tr><tr><th>5</th><td>James Conner</td><td>RB</td><td>58</td><td>62.3</td></tr><tr><th>6</th><td>Alvin Kamara</td><td>RB</td><td>63</td><td>64.0</td></tr><tr><th>7</th><td>Deshaun Watson</td><td>QB</td><td>82</td><td>86.5</td></tr><tr><th>8</th><td>Michael Thomas</td><td>WR</td><td>87</td><td>100.7</td></tr><tr><th>9</th><td>Kirk Cousins</td><td>QB</td><td>106</td><td>108.3</td></tr><tr><th>10</th><td>Jakobi Meyers</td><td>WR</td><td>111</td><td>127.3</td></tr><tr><th>11</th><td>Jeff Wilson</td><td>RB</td><td>130</td><td>174.2</td></tr><tr><th>12</th><td>DJ Chark</td><td>WR</td><td>135</td><td>175.8</td></tr><tr><th>13</th><td>Zach Ertz</td><td>TE</td><td>154</td><td>223.6</td></tr></tbody></table></div>"
      ],
      "text/latex": [
       "\\begin{tabular}{r|cccc}\n",
       "\t& Name & Position & Pick & ADP\\\\\n",
       "\t\\hline\n",
       "\t& String & String & Int64 & Float64\\\\\n",
       "\t\\hline\n",
       "\t1 & CeeDee Lamb & WR & 10 & 13.2 \\\\\n",
       "\t2 & Davante Adams & WR & 15 & 15.6 \\\\\n",
       "\t3 & Joe Mixon & RB & 34 & 38.2 \\\\\n",
       "\t4 & Aaron Jones & RB & 39 & 41.4 \\\\\n",
       "\t5 & James Conner & RB & 58 & 62.3 \\\\\n",
       "\t6 & Alvin Kamara & RB & 63 & 64.0 \\\\\n",
       "\t7 & Deshaun Watson & QB & 82 & 86.5 \\\\\n",
       "\t8 & Michael Thomas & WR & 87 & 100.7 \\\\\n",
       "\t9 & Kirk Cousins & QB & 106 & 108.3 \\\\\n",
       "\t10 & Jakobi Meyers & WR & 111 & 127.3 \\\\\n",
       "\t11 & Jeff Wilson & RB & 130 & 174.2 \\\\\n",
       "\t12 & DJ Chark & WR & 135 & 175.8 \\\\\n",
       "\t13 & Zach Ertz & TE & 154 & 223.6 \\\\\n",
       "\\end{tabular}\n"
      ],
      "text/plain": [
       "\u001b[1m13×4 DataFrame\u001b[0m\n",
       "\u001b[1m Row \u001b[0m│\u001b[1m Name           \u001b[0m\u001b[1m Position \u001b[0m\u001b[1m Pick  \u001b[0m\u001b[1m ADP     \u001b[0m\n",
       "\u001b[1m     \u001b[0m│\u001b[90m String         \u001b[0m\u001b[90m String   \u001b[0m\u001b[90m Int64 \u001b[0m\u001b[90m Float64 \u001b[0m\n",
       "─────┼──────────────────────────────────────────\n",
       "   1 │ CeeDee Lamb     WR           10     13.2\n",
       "   2 │ Davante Adams   WR           15     15.6\n",
       "   3 │ Joe Mixon       RB           34     38.2\n",
       "   4 │ Aaron Jones     RB           39     41.4\n",
       "   5 │ James Conner    RB           58     62.3\n",
       "   6 │ Alvin Kamara    RB           63     64.0\n",
       "   7 │ Deshaun Watson  QB           82     86.5\n",
       "   8 │ Michael Thomas  WR           87    100.7\n",
       "   9 │ Kirk Cousins    QB          106    108.3\n",
       "  10 │ Jakobi Meyers   WR          111    127.3\n",
       "  11 │ Jeff Wilson     RB          130    174.2\n",
       "  12 │ DJ Chark        WR          135    175.8\n",
       "  13 │ Zach Ertz       TE          154    223.6"
      ]
     },
     "metadata": {},
     "output_type": "display_data"
    }
   ],
   "source": [
    "r2_r"
   ]
  }
 ],
 "metadata": {
  "kernelspec": {
   "display_name": "Julia 1.8.0",
   "language": "julia",
   "name": "julia-1.8"
  },
  "language_info": {
   "file_extension": ".jl",
   "mimetype": "application/julia",
   "name": "julia",
   "version": "1.8.0"
  },
  "orig_nbformat": 4
 },
 "nbformat": 4,
 "nbformat_minor": 2
}
