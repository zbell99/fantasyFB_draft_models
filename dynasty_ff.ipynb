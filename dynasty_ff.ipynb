{
 "cells": [
  {
   "cell_type": "code",
   "execution_count": 2,
   "metadata": {},
   "outputs": [],
   "source": [
    "using DataFrames, CSV, JuMP, Gurobi, Random, LibPQ, Statistics"
   ]
  },
  {
   "cell_type": "code",
   "execution_count": null,
   "metadata": {},
   "outputs": [],
   "source": [
    "#data = projections for each player"
   ]
  },
  {
   "cell_type": "code",
   "execution_count": 3,
   "metadata": {},
   "outputs": [
    {
     "data": {
      "text/plain": [
       "Set{Any}()"
      ]
     },
     "metadata": {},
     "output_type": "display_data"
    }
   ],
   "source": [
    "current_picks = Dict()\n",
    "player_id = Dict()\n",
    "qbs = Set()\n",
    "rbs = Set()\n",
    "wrs = Set()\n",
    "tes = Set()"
   ]
  },
  {
   "cell_type": "code",
   "execution_count": 12,
   "metadata": {},
   "outputs": [
    {
     "data": {
      "text/plain": [
       "Set{Any} with 2 elements:\n",
       "  2\n",
       "  1"
      ]
     },
     "metadata": {},
     "output_type": "display_data"
    }
   ],
   "source": [
    "#add 1,2,3 to qbs\n",
    "push!(qbs, 2)"
   ]
  },
  {
   "cell_type": "code",
   "execution_count": 14,
   "metadata": {},
   "outputs": [
    {
     "data": {
      "text/plain": [
       "1"
      ]
     },
     "metadata": {},
     "output_type": "display_data"
    }
   ],
   "source": [
    "in(1,qbs)+in(3,qbs)\n"
   ]
  },
  {
   "cell_type": "code",
   "execution_count": null,
   "metadata": {},
   "outputs": [],
   "source": [
    "const GRB_ENV = Gurobi.Env(output_flag=0);"
   ]
  },
  {
   "cell_type": "code",
   "execution_count": null,
   "metadata": {},
   "outputs": [],
   "source": [
    "function dynasty_draft()\n",
    "    # create model\n",
    "    model = Model(() -> Gurobi.Optimizer(GRB_ENV))\n",
    "    set_optimizer_attribute(model, \"TimeLimit\", 300)\n",
    "\n",
    "    # PARAMETERS\n",
    "    T = 10 # teams\n",
    "    R = 25 # roster spots\n",
    "    P = 500 # num_players -- CHANGE\n",
    "    min_qbs = 2\n",
    "    max_qbs = 2\n",
    "    min_rbs = 4\n",
    "    max_rbs = 6\n",
    "    min_wrs = 4\n",
    "    max_wrs = 6\n",
    "    min_tes = 2\n",
    "    max_tes = 3\n",
    "\n",
    "    # VARIABLES\n",
    "    @variable(model, x[i = 1:T, j = 1:R] > 0, Int) # R roster spots each for N teams\n",
    "\n",
    "    # OBJECTIVE FUNCTION - distribution for total expected value - maybe maximize the 25th percentile outcome?\n",
    "    @objective(model, Max, sum(x[i,j,w] for i in 1:T, j in 1:R))\n",
    "\n",
    "    # CONSTRAINTS\n",
    "    # no player can be on two teams\n",
    "    @constraint(model, [p = 1:P], sum(x[i,j]==p for i in 1:T, j in 1:R) <= 1)\n",
    "\n",
    "    # position constraints for each team\n",
    "    @constraint(model, [i = 1:T], sum(in(x[i,j], qbs) for j in 1:R) >= min_qbs)\n",
    "    @constraint(model, [i = 1:T], sum(in(x[i,j], qbs) for j in 1:R) <= max_qbs)\n",
    "    @constraint(model, [i = 1:T], sum(in(x[i,j], rbs) for j in 1:R) >= min_rbs)\n",
    "    @constraint(model, [i = 1:T], sum(in(x[i,j], rbs) for j in 1:R) <= max_rbs)\n",
    "    @constraint(model, [i = 1:T], sum(in(x[i,j], wrs) for j in 1:R) >= min_wrs)\n",
    "    @constraint(model, [i = 1:T], sum(in(x[i,j], wrs) for j in 1:R) <= max_wrs)\n",
    "    @constraint(model, [i = 1:T], sum(in(x[i,j], tes) for j in 1:R) >= min_tes)\n",
    "    @constraint(model, [i = 1:T], sum(in(x[i,j], tes) for j in 1:R) <= max_tes)\n",
    "\n",
    "    # already picked constraints\n",
    "    @constraint(model, [i = 1:T], sum(x[i,j] for j in 1:R) == 16)\n",
    "\n",
    "\n",
    "    # OPTIMIZE\n",
    "    # solvetime = @elapsed optimize!(model)\n",
    "    optimize!(model)\n",
    "\n",
    "\n",
    "    return value.(x)\n",
    "end"
   ]
  },
  {
   "cell_type": "code",
   "execution_count": null,
   "metadata": {},
   "outputs": [],
   "source": [
    "function dynasty_pick(team)\n",
    "    # create model\n",
    "    model = Model(() -> Gurobi.Optimizer(GRB_ENV))\n",
    "    set_optimizer_attribute(model, \"TimeLimit\", 300)\n",
    "\n",
    "    # PARAMETERS\n",
    "    T = 10 # teams\n",
    "    R = 25 # roster spots\n",
    "    P = 500 # num_players -- CHANGE\n",
    "    min_qbs = 2\n",
    "    max_qbs = 2\n",
    "    min_rbs = 4\n",
    "    max_rbs = 6\n",
    "    min_wrs = 4\n",
    "    max_wrs = 6\n",
    "    min_tes = 2\n",
    "    max_tes = 3\n",
    "\n",
    "    # VARIABLES\n",
    "    @variable(model, x[i = 1:T, j = 1:R] > 0, Int) # R roster spots each for N teams\n",
    "\n",
    "    # OBJECTIVE FUNCTION - gotta figure out how to do this\n",
    "    @objective(model, Max, sum(x[i,j,w] for i in 1:T, j in 1:R))\n",
    "\n",
    "    # CONSTRAINTS\n",
    "    # no player can be on two teams\n",
    "    @constraint(model, [p = 1:P], sum(x[i,j]==p for i in 1:T, j in 1:R) <= 1)\n",
    "\n",
    "\n",
    "    # position constraints for each team\n",
    "    @constraint(model, [i = 1:T], sum(in(x[i,j], qbs) for j in 1:R) >= min_qbs)\n",
    "    @constraint(model, [i = 1:T], sum(in(x[i,j], qbs) for j in 1:R) <= max_qbs)\n",
    "    @constraint(model, [i = 1:T], sum(in(x[i,j], rbs) for j in 1:R) >= min_rbs)\n",
    "    @constraint(model, [i = 1:T], sum(in(x[i,j], rbs) for j in 1:R) <= max_rbs)\n",
    "    @constraint(model, [i = 1:T], sum(in(x[i,j], wrs) for j in 1:R) >= min_wrs)\n",
    "    @constraint(model, [i = 1:T], sum(in(x[i,j], wrs) for j in 1:R) <= max_wrs)\n",
    "    @constraint(model, [i = 1:T], sum(in(x[i,j], tes) for j in 1:R) >= min_tes)\n",
    "    @constraint(model, [i = 1:T], sum(in(x[i,j], tes) for j in 1:R) <= max_tes)\n",
    "\n",
    "    \n",
    "\n",
    "    # each team can only play at most one game per week\n",
    "    @constraint(model, [i = 1:T, w = 1:W], sum(x[i, j, w] + x[j, i, w] for j in 1:N) <= 1)\n",
    "\n",
    "    \n",
    "    \n",
    "\n",
    "\n",
    "    # OPTIMIZE\n",
    "    # solvetime = @elapsed optimize!(model)\n",
    "    optimize!(model)\n",
    "\n",
    "\n",
    "    return value.(x)\n",
    "end"
   ]
  }
 ],
 "metadata": {
  "kernelspec": {
   "display_name": "Julia 1.8.0",
   "language": "julia",
   "name": "julia-1.8"
  },
  "language_info": {
   "file_extension": ".jl",
   "mimetype": "application/julia",
   "name": "julia",
   "version": "1.8.0"
  },
  "orig_nbformat": 4
 },
 "nbformat": 4,
 "nbformat_minor": 2
}
