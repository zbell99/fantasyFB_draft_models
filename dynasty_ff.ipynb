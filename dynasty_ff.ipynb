{
 "cells": [
  {
   "cell_type": "code",
   "execution_count": 1,
   "metadata": {},
   "outputs": [
    {
     "data": {
      "text/plain": [
       "update_draft (generic function with 1 method)"
      ]
     },
     "metadata": {},
     "output_type": "display_data"
    }
   ],
   "source": [
    "include(\"functions.jl\")"
   ]
  },
  {
   "cell_type": "code",
   "execution_count": 12,
   "metadata": {},
   "outputs": [],
   "source": [
    "#TODO: August 24 ADP data\n",
    "#TODO: figure out how to rate the players that are never \"starters\""
   ]
  },
  {
   "cell_type": "code",
   "execution_count": 2,
   "metadata": {},
   "outputs": [],
   "source": [
    "const GRB_ENV = Gurobi.Env(output_flag=0);"
   ]
  },
  {
   "cell_type": "code",
   "execution_count": 3,
   "metadata": {},
   "outputs": [
    {
     "data": {
      "text/plain": [
       "dynasty_sf_model (generic function with 2 methods)"
      ]
     },
     "metadata": {},
     "output_type": "display_data"
    }
   ],
   "source": [
    "function dynasty_sf_model(team, pv, drafted, temp=[])\n",
    "    # create model\n",
    "    model = Model(() -> Gurobi.Optimizer(GRB_ENV))\n",
    "    set_optimizer_attribute(model, \"TimeLimit\", 300)\n",
    "\n",
    "    # PARAMETERS\n",
    "    T = 10 # num teams\n",
    "    P = size(data)[1] # num_players\n",
    "    Y = 10 # num_years projecting\n",
    "    R = 26 # roster size\n",
    "\n",
    "    alpha = 3 # starter weight (bench = 1, starter = 1+alpha)\n",
    "    \n",
    "    min_qbs = 3\n",
    "    max_qbs = 5\n",
    "    min_rbs = 7\n",
    "    max_rbs = 11\n",
    "    min_wrs = 7\n",
    "    max_wrs = 11\n",
    "    min_tes = 2\n",
    "    max_tes = 4\n",
    "\n",
    "    # this year and next year as of now\n",
    "    starting_qbs_now = 2\n",
    "    starting_rbs_now = 3\n",
    "    starting_wrs_now = 3\n",
    "    starting_flex_now = 8\n",
    "    starting_tes_now = 1\n",
    "\n",
    "    #years 3-5\n",
    "    starting_qbs_mid = 2\n",
    "    starting_rbs_mid = 2\n",
    "    starting_wrs_mid = 2\n",
    "    starting_flex_mid = 6\n",
    "    starting_tes_mid = 1\n",
    "\n",
    "    #years 6-7\n",
    "    starting_qbs_fut = 1\n",
    "    starting_flex_fut = 4\n",
    "    starting_tes_fut = 0\n",
    "\n",
    "\n",
    "    opps = players_drafted_opps(team, T)\n",
    "\n",
    "    num_picked = sum(opps[i, \"Drafted\"] for i in 1:P) + length(drafted[team])\n",
    "\n",
    "    picks = [team, (2*T+1)-team]\n",
    "    for i in 3:R\n",
    "        push!(picks, picks[i-2]+(2*T))\n",
    "    end\n",
    "\n",
    "    # VARIABLES\n",
    "    @variable(model, x[i = 1:P], Bin) # whether or not player was drafted by desired team\n",
    "    @variable(model, y[i = 1:P, j = 1:Y], Bin) # whether or not player is \"starting\" in year j on your roster\n",
    "\n",
    "    # OBJECTIVE FUNCTION\n",
    "    @objective(model, Max, sum(data[i, j+5]*(x[i]+alpha*y[i,j])*(pv^(j-1)) for i in 1:P, j in 1:Y))\n",
    "\n",
    "    # CONSTRAINTS\n",
    "    # roster must contain already drafted num_players\n",
    "    @constraint(model, [i = drafted[team]], x[player_to_index[i]] == 1)\n",
    "\n",
    "    # roster must not contain any opps\n",
    "    @constraint(model, [i=1:P], x[i]+opps[i,\"Drafted\"] <= 1)\n",
    "\n",
    "    # roster must not contain any temps\n",
    "    @constraint(model, [i=1:length(temp)], x[player_to_index[temp[i]]] == 0)\n",
    "\n",
    "    # selecting players in y only if on roster\n",
    "    @constraint(model, [i = 1:P, j = 1:Y], y[i,j] <= x[i])\n",
    "\n",
    "    # roster must contain R players (no kicker/DEF)\n",
    "    @constraint(model, sum(x[i] for i in 1:P) <= R)\n",
    "\n",
    "    # positional constraints\n",
    "    @constraint(model, sum(x[player_to_index[i]] for i in qbs) >= min_qbs)\n",
    "    @constraint(model, sum(x[player_to_index[i]] for i in qbs) <= max_qbs)\n",
    "    @constraint(model, sum(x[player_to_index[i]] for i in rbs) >= min_rbs)\n",
    "    @constraint(model, sum(x[player_to_index[i]] for i in rbs) <= max_rbs)\n",
    "    @constraint(model, sum(x[player_to_index[i]] for i in wrs) >= min_wrs)\n",
    "    @constraint(model, sum(x[player_to_index[i]] for i in wrs) <= max_wrs)\n",
    "    @constraint(model, sum(x[player_to_index[i]] for i in tes) >= min_tes)\n",
    "    @constraint(model, sum(x[player_to_index[i]] for i in tes) <= max_tes)\n",
    "\n",
    "    # starting constraints\n",
    "    @constraint(model, [j = 1:2], sum(y[player_to_index[i],j] for i in qbs) == starting_qbs_now)\n",
    "    @constraint(model, [j = 1:2], sum(y[player_to_index[i],j] for i in rbs) >= starting_rbs_now)\n",
    "    @constraint(model, [j = 1:2], sum(y[player_to_index[i],j] for i in wrs) >= starting_wrs_now)\n",
    "    @constraint(model, [j = 1:2], sum(y[player_to_index[i],j] for i in flex) == starting_flex_now)\n",
    "    @constraint(model, [j = 1:2], sum(y[player_to_index[i],j] for i in tes) == starting_tes_now)\n",
    "\n",
    "    @constraint(model, [j = 3:5], sum(y[player_to_index[i],j] for i in qbs) == starting_qbs_mid)\n",
    "    @constraint(model, [j = 3:5], sum(y[player_to_index[i],j] for i in rbs) >= starting_rbs_mid)\n",
    "    @constraint(model, [j = 3:5], sum(y[player_to_index[i],j] for i in wrs) >= starting_wrs_mid)\n",
    "    @constraint(model, [j = 3:5], sum(y[player_to_index[i],j] for i in flex) == starting_flex_mid)\n",
    "    @constraint(model, [j = 3:5], sum(y[player_to_index[i],j] for i in tes) == starting_tes_mid)\n",
    "\n",
    "    @constraint(model, [j = 6:7], sum(y[player_to_index[i],j] for i in qbs) == starting_qbs_fut)\n",
    "    @constraint(model, [j = 6:7], sum(y[player_to_index[i],j] for i in flex) == starting_flex_fut)\n",
    "    @constraint(model, [j = 6:7], sum(y[player_to_index[i],j] for i in tes) == starting_tes_fut)\n",
    "\n",
    "    @constraint(model, [j = 8:10], sum(y[i,j] for i in 1:P) >= 2)\n",
    "\n",
    "\n",
    "    # DRAFT POSITION CONSTRAINTS\n",
    "    #at least 1 pick from set of players after each round\n",
    "    first_avail = 1\n",
    "    while opps[first_avail, \"Drafted\"] == 1\n",
    "        first_avail += 1\n",
    "    end\n",
    "\n",
    "    @constraint(model, sum(x[i] for i in first_avail:P) >= R-length(drafted[team]))\n",
    "    \n",
    "    for pick in length(drafted[team])+2:R\n",
    "        @constraint(model, sum(x[i] for i in (picks[pick]-sum(opps[j, \"Drafted\"] for j in picks[pick]:P)):P) >= R+1-pick)\n",
    "    end\n",
    "\n",
    "    # OPTIMIZE\n",
    "    # solvetime = @elapsed optimize!(model)\n",
    "    optimize!(model)\n",
    "\n",
    "    roster = DataFrame(Name = String[], Position = String[], Pick = Int64[], ADP = Float64[])\n",
    "    count = 1\n",
    "    for i in drafted[team]\n",
    "        if i == \"QB\" || i == \"RB\" || i == \"WR\" || i == \"TE\"\n",
    "            push!(roster, [i, i, picks[count], 500])\n",
    "            continue\n",
    "        end\n",
    "        push!(roster, [data[player_to_index[i], \"Name\"], data[player_to_index[i], \"Position\"], picks[count], data[player_to_index[i], \"Dyn_SF\"]])\n",
    "        count += 1\n",
    "    end\n",
    "    for i in 1:P\n",
    "        if value.(x[i]) == 1\n",
    "            if data[i, \"Name\"] in drafted[team]\n",
    "                continue\n",
    "            else\n",
    "                push!(roster, [data[i, \"Name\"], data[i, \"Position\"], picks[count], data[i, \"Dyn_SF\"]])\n",
    "                count += 1\n",
    "            end\n",
    "        end\n",
    "    end\n",
    "    next_pick = \"\"\n",
    "    for i in 1:P\n",
    "        if value.(x[i]) == 1\n",
    "            if data[i, \"Name\"] in drafted[team]\n",
    "                continue\n",
    "            else\n",
    "                next_pick = data[i, \"Name\"]\n",
    "                break\n",
    "            end\n",
    "        end\n",
    "    end\n",
    "    println(\"Total VORP: \" * string(round(objective_value(model), digits = 1)))\n",
    "    return next_pick, roster\n",
    "end"
   ]
  },
  {
   "cell_type": "code",
   "execution_count": 4,
   "metadata": {},
   "outputs": [
    {
     "data": {
      "text/plain": [
       "(\u001b[1m491×27 DataFrame\u001b[0m\n",
       "\u001b[1m Row \u001b[0m│\u001b[1m FirstName \u001b[0m\u001b[1m LastName    \u001b[0m\u001b[1m Dyn_SF   \u001b[0m\u001b[1m RedraftHalfPPR \u001b[0m\u001b[1m Position \u001b[0m\u001b[1m Y0_VORP  \u001b[0m\u001b[1m Y\u001b[0m ⋯\n",
       "\u001b[1m     \u001b[0m│\u001b[90m String15  \u001b[0m\u001b[90m String31    \u001b[0m\u001b[90m Float64? \u001b[0m\u001b[90m Float64?       \u001b[0m\u001b[90m String3  \u001b[0m\u001b[90m Float64  \u001b[0m\u001b[90m F\u001b[0m ⋯\n",
       "─────┼──────────────────────────────────────────────────────────────────────────\n",
       "   1 │ Patrick    Mahomes           1.1            14.8  QB         9.06229  6 ⋯\n",
       "   2 │ Josh       Allen             2.7            20.4  QB         8.31693  4\n",
       "   3 │ Jalen      Hurts             3.4            24.3  QB         8.0804   7\n",
       "   4 │ Joe        Burrow            4.0            35.7  QB         6.92221  6\n",
       "   5 │ Justin     Jefferson         5.9             1.5  WR        10.5095   8 ⋯\n",
       "   6 │ Justin     Herbert           6.6            44.5  QB         4.64313  3\n",
       "   7 │ Ja'Marr    Chase             7.9             3.0  WR         9.97006  6\n",
       "   8 │ Lamar      Jackson           8.7            34.1  QB         7.18824  5\n",
       "  ⋮  │     ⋮           ⋮          ⋮            ⋮            ⋮         ⋮        ⋱\n",
       " 485 │ Tyler      Davis           500.0           500.0  TE         0.0      0 ⋯\n",
       " 486 │ David      Wells           500.0           500.0  TE         0.0      0\n",
       " 487 │ Grant      Calcaterra      500.0           500.0  TE         0.0      0\n",
       " 488 │ Charlie    Woerner         500.0           500.0  TE         0.0      0\n",
       " 489 │ John       FitzPatrick     500.0           500.0  TE         0.0      0 ⋯\n",
       " 490 │ Racey      McMath          500.0           500.0  WR         0.0      0\n",
       " 491 │ Trinity    Benson          500.0           500.0  WR         0.0      0\n",
       "\u001b[36m                                                 21 columns and 476 rows omitted\u001b[0m, Dict{Any, Any}(\"Austin Ekeler\" => 28, \"Eno Benjamin\" => 424, \"Jamaal Williams\" => 148, \"Latavius Murray\" => 289, \"Britain Covey\" => 404, \"Zack Moss\" => 277, \"Kenny McIntosh\" => 481, \"Romeo Doubs\" => 162, \"Gary Brightwell\" => 280, \"Pierre Strong\" => 237…), Set(Any[\"Matthew Stafford\", \"CJ Beathard\", \"Jordan Love\", \"Jimmy Garoppolo\", \"Justin Fields\", \"CJ Stroud\", \"Desmond Ridder\", \"Marcus Mariota\", \"Joshua Dobbs\", \"Stetson Bennett\"  …  \"Zach Wilson\", \"Trevor Lawrence\", \"Jared Goff\", \"Sam Howell\", \"Drew Lock\", \"Jameis Winston\", \"Geno Smith\", \"Patrick Mahomes\", \"Easton Stick\", \"Jarrett Stidham\"]), Set(Any[\"Austin Ekeler\", \"Tony Pollard\", \"Jamaal Williams\", \"Latavius Murray\", \"Craig Reynolds\", \"Zack Moss\", \"DeeJay Dallas\", \"Troy Hairston\", \"Gary Brightwell\", \"Ty'Son Williams\"  …  \"Najee Harris\", \"Christian McCaffrey\", \"Joe Mixon\", \"Breece Hall\", \"Cam Akers\", \"Isaiah Spiller\", \"Gus Edwards\", \"James Conner\", \"Mike Boone\", \"Patrick Taylor\"]), Set(Any[\"Britain Covey\", \"Romeo Doubs\", \"Tank Dell\", \"Jordan Addison\", \"Amari Rodgers\", \"JuJu Smith-Schuster\", \"Diontae Johnson\", \"Khalil Shakir\", \"Trinity Benson\", \"Chris Conley\"  …  \"Tyler Scott\", \"Bryan Edwards\", \"Kendall Hinton\", \"David Bell\", \"Mike Williams\", \"Equanimeous St Brown\", \"Christian Kirk\", \"Curtis Samuel\", \"Simi Fehoko\", \"Dontayvion Wicks\"]), Set(Any[\"Cole Kmet\", \"Luke Musgrave\", \"Jody Fortson\", \"Albert Okwuegbunam\", \"David Njoku\", \"Noah Fant\", \"Noah Togiai\", \"Pat Freiermuth\", \"Jeremy Ruckert\", \"Connor Heyward\"  …  \"Travis Kelce\", \"Jake Ferguson\", \"Andrew Beck\", \"Chase Allen\", \"John Bates\", \"Tyler Davis\", \"Josh Whyle\", \"Mark Andrews\", \"Darren Waller\", \"Dallas Goedert\"]), Set(Any[\"Austin Ekeler\", \"Eno Benjamin\", \"Jamaal Williams\", \"Latavius Murray\", \"Britain Covey\", \"Zack Moss\", \"Kenny McIntosh\", \"Romeo Doubs\", \"Gary Brightwell\", \"Pierre Strong\"  …  \"Dameon Pierce\", \"Mike Williams\", \"Equanimeous St Brown\", \"Christian Kirk\", \"Curtis Samuel\", \"Simi Fehoko\", \"Joe Mixon\", \"Gus Edwards\", \"Mike Boone\", \"Dontayvion Wicks\"]), Set(Any[\"Austin Ekeler\", \"Eno Benjamin\", \"Jamaal Williams\", \"Latavius Murray\", \"Britain Covey\", \"Zack Moss\", \"Kenny McIntosh\", \"Romeo Doubs\", \"Gary Brightwell\", \"Pierre Strong\"  …  \"Curtis Samuel\", \"Simi Fehoko\", \"Josh Whyle\", \"Tyler Davis\", \"Mark Andrews\", \"Joe Mixon\", \"Darren Waller\", \"Gus Edwards\", \"Mike Boone\", \"Dontayvion Wicks\"]))"
      ]
     },
     "metadata": {},
     "output_type": "display_data"
    }
   ],
   "source": [
    "data, player_to_index, qbs, rbs, wrs, tes, flex, names = initialize_data()"
   ]
  },
  {
   "cell_type": "code",
   "execution_count": 5,
   "metadata": {},
   "outputs": [
    {
     "ename": "KeyError",
     "evalue": "KeyError: key \"RB\" not found",
     "output_type": "error",
     "traceback": [
      "KeyError: key \"RB\" not found\n",
      "\n",
      "Stacktrace:\n",
      "  [1] getindex(h::Dict{Any, Any}, key::String)\n",
      "    @ Base ./dict.jl:498\n",
      "  [2] macro expansion\n",
      "    @ ~/.julia/packages/MutableArithmetics/Lnlkl/src/rewrite.jl:294 [inlined]\n",
      "  [3] macro expansion\n",
      "    @ ~/.julia/packages/JuMP/60Bnj/src/macros.jl:823 [inlined]\n",
      "  [4] (::var\"#15#38\"{Vector{VariableRef}, Model})(i::String)\n",
      "    @ Main ~/.julia/packages/JuMP/60Bnj/src/Containers/macro.jl:304\n",
      "  [5] (::JuMP.Containers.var\"#39#40\"{var\"#15#38\"{Vector{VariableRef}, Model}})(I::Tuple{String})\n",
      "    @ JuMP.Containers ~/.julia/packages/JuMP/60Bnj/src/Containers/container.jl:105\n",
      "  [6] iterate\n",
      "    @ ./generator.jl:47 [inlined]\n",
      "  [7] collect_to!(dest::Vector{ConstraintRef{Model, MathOptInterface.ConstraintIndex{MathOptInterface.ScalarAffineFunction{Float64}, MathOptInterface.EqualTo{Float64}}, ScalarShape}}, itr::Base.Generator{JuMP.Containers.VectorizedProductIterator{Tuple{Vector{Any}}}, JuMP.Containers.var\"#39#40\"{var\"#15#38\"{Vector{VariableRef}, Model}}}, offs::Int64, st::Tuple{Tuple{String, Int64}})\n",
      "    @ Base ./array.jl:845\n",
      "  [8] collect_to_with_first!(dest::Vector{ConstraintRef{Model, MathOptInterface.ConstraintIndex{MathOptInterface.ScalarAffineFunction{Float64}, MathOptInterface.EqualTo{Float64}}, ScalarShape}}, v1::ConstraintRef{Model, MathOptInterface.ConstraintIndex{MathOptInterface.ScalarAffineFunction{Float64}, MathOptInterface.EqualTo{Float64}}, ScalarShape}, itr::Base.Generator{JuMP.Containers.VectorizedProductIterator{Tuple{Vector{Any}}}, JuMP.Containers.var\"#39#40\"{var\"#15#38\"{Vector{VariableRef}, Model}}}, st::Tuple{Tuple{String, Int64}})\n",
      "    @ Base ./array.jl:823\n",
      "  [9] collect(itr::Base.Generator{JuMP.Containers.VectorizedProductIterator{Tuple{Vector{Any}}}, JuMP.Containers.var\"#39#40\"{var\"#15#38\"{Vector{VariableRef}, Model}}})\n",
      "    @ Base ./array.jl:797\n",
      " [10] map(f::Function, A::JuMP.Containers.VectorizedProductIterator{Tuple{Vector{Any}}})\n",
      "    @ Base ./abstractarray.jl:2961\n",
      " [11] container(f::Function, indices::JuMP.Containers.VectorizedProductIterator{Tuple{Vector{Any}}}, #unused#::Type{JuMP.Containers.DenseAxisArray})\n",
      "    @ JuMP.Containers ~/.julia/packages/JuMP/60Bnj/src/Containers/container.jl:105\n",
      " [12] container(f::Function, indices::JuMP.Containers.VectorizedProductIterator{Tuple{Vector{Any}}})\n",
      "    @ JuMP.Containers ~/.julia/packages/JuMP/60Bnj/src/Containers/container.jl:66\n",
      " [13] dynasty_sf_model(team::Int64, pv::Float64, drafted::Dict{Any, Any}, temp::Vector{Any})\n",
      "    @ Main ~/Documents/GitHub/dynasty_draft_model/dynasty_ff.ipynb:62\n",
      " [14] dynasty_sf_model(team::Int64, pv::Float64, drafted::Dict{Any, Any})\n",
      "    @ Main ~/Documents/GitHub/dynasty_draft_model/dynasty_ff.ipynb:3\n",
      " [15] top-level scope\n",
      "    @ ~/Documents/GitHub/dynasty_draft_model/dynasty_ff.ipynb:3"
     ]
    }
   ],
   "source": [
    "drafted = update_draft(\"991541422920695808\")\n",
    "pv = 0.95\n",
    "first_choice, roster = dynasty_sf_model(5, pv, drafted);\n",
    "second_choice, r2 = dynasty_sf_model(5, pv, drafted, [first_choice]);\n",
    "third_choice, r3 = dynasty_sf_model(5, pv, drafted, [first_choice, second_choice])\n",
    "fourth_choice, r4 = dynasty_sf_model(5, pv, drafted, [first_choice, second_choice, third_choice])\n",
    "fifth_choice, r5 = dynasty_sf_model(5, pv, drafted, [first_choice, second_choice, third_choice, fourth_choice])\n",
    "sixth_choice, r6 = dynasty_sf_model(5, pv, drafted, [first_choice, second_choice, third_choice, fourth_choice, fifth_choice])\n",
    "seventh_choice, r7 = dynasty_sf_model(5, pv, drafted, [first_choice, second_choice, third_choice, fourth_choice, fifth_choice, sixth_choice])\n",
    "\n",
    "first_choice, second_choice, third_choice, fourth_choice, fifth_choice, sixth_choice, seventh_choice"
   ]
  },
  {
   "cell_type": "code",
   "execution_count": 7,
   "metadata": {},
   "outputs": [
    {
     "ename": "UndefVarError",
     "evalue": "UndefVarError: r7 not defined",
     "output_type": "error",
     "traceback": [
      "UndefVarError: r7 not defined\n",
      "\n",
      "Stacktrace:\n",
      " [1] top-level scope\n",
      "   @ ~/Documents/GitHub/dynasty_draft_model/dynasty_ff.ipynb:1"
     ]
    }
   ],
   "source": [
    "r7"
   ]
  },
  {
   "cell_type": "code",
   "execution_count": 6,
   "metadata": {},
   "outputs": [
    {
     "data": {
      "text/html": [
       "<div class=\"data-frame\"><p>26 rows × 2 columns</p><table class=\"data-frame\"><thead><tr><th></th><th>Position</th><th>Player</th></tr><tr><th></th><th title=\"String\">String</th><th title=\"String\">String</th></tr></thead><tbody><tr><th>1</th><td>QB1</td><td>Bryce Young</td></tr><tr><th>2</th><td>QB2</td><td>Jordan Love</td></tr><tr><th>3</th><td>RB1</td><td>Breece Hall</td></tr><tr><th>4</th><td>RB2</td><td>Joe Mixon</td></tr><tr><th>5</th><td>WR1</td><td>Justin Jefferson</td></tr><tr><th>6</th><td>WR2</td><td>Cooper Kupp</td></tr><tr><th>7</th><td>TE</td><td>Travis Kelce</td></tr><tr><th>8</th><td>FLEX</td><td>Deebo Samuel</td></tr><tr><th>9</th><td>FLEX</td><td>D&apos;Andre Swift</td></tr><tr><th>10</th><td>Bench</td><td>Dalton Kincaid</td></tr><tr><th>11</th><td>Bench</td><td>James Cook</td></tr><tr><th>12</th><td>Bench</td><td>Matthew Stafford</td></tr><tr><th>13</th><td>Bench</td><td>Desmond Ridder</td></tr><tr><th>14</th><td>Bench</td><td>Michael Thomas</td></tr><tr><th>15</th><td>Bench</td><td>Josh Downs</td></tr><tr><th>16</th><td>Bench</td><td>Jimmy Garoppolo</td></tr><tr><th>17</th><td>Bench</td><td>Tank Dell</td></tr><tr><th>18</th><td>Bench</td><td>Damien Harris</td></tr><tr><th>19</th><td>Bench</td><td>DJ Chark</td></tr><tr><th>20</th><td>Bench</td><td>Isaiah Hodgins</td></tr><tr><th>21</th><td>Bench</td><td>RB</td></tr><tr><th>22</th><td>Bench</td><td></td></tr><tr><th>23</th><td>Bench</td><td></td></tr><tr><th>24</th><td>Bench</td><td></td></tr><tr><th>&vellip;</th><td>&vellip;</td><td>&vellip;</td></tr></tbody></table></div>"
      ],
      "text/latex": [
       "\\begin{tabular}{r|cc}\n",
       "\t& Position & Player\\\\\n",
       "\t\\hline\n",
       "\t& String & String\\\\\n",
       "\t\\hline\n",
       "\t1 & QB1 & Bryce Young \\\\\n",
       "\t2 & QB2 & Jordan Love \\\\\n",
       "\t3 & RB1 & Breece Hall \\\\\n",
       "\t4 & RB2 & Joe Mixon \\\\\n",
       "\t5 & WR1 & Justin Jefferson \\\\\n",
       "\t6 & WR2 & Cooper Kupp \\\\\n",
       "\t7 & TE & Travis Kelce \\\\\n",
       "\t8 & FLEX & Deebo Samuel \\\\\n",
       "\t9 & FLEX & D'Andre Swift \\\\\n",
       "\t10 & Bench & Dalton Kincaid \\\\\n",
       "\t11 & Bench & James Cook \\\\\n",
       "\t12 & Bench & Matthew Stafford \\\\\n",
       "\t13 & Bench & Desmond Ridder \\\\\n",
       "\t14 & Bench & Michael Thomas \\\\\n",
       "\t15 & Bench & Josh Downs \\\\\n",
       "\t16 & Bench & Jimmy Garoppolo \\\\\n",
       "\t17 & Bench & Tank Dell \\\\\n",
       "\t18 & Bench & Damien Harris \\\\\n",
       "\t19 & Bench & DJ Chark \\\\\n",
       "\t20 & Bench & Isaiah Hodgins \\\\\n",
       "\t21 & Bench & RB \\\\\n",
       "\t22 & Bench &  \\\\\n",
       "\t23 & Bench &  \\\\\n",
       "\t24 & Bench &  \\\\\n",
       "\t$\\dots$ & $\\dots$ & $\\dots$ \\\\\n",
       "\\end{tabular}\n"
      ],
      "text/plain": [
       "\u001b[1m26×2 DataFrame\u001b[0m\n",
       "\u001b[1m Row \u001b[0m│\u001b[1m Position \u001b[0m\u001b[1m Player           \u001b[0m\n",
       "\u001b[1m     \u001b[0m│\u001b[90m String   \u001b[0m\u001b[90m String           \u001b[0m\n",
       "─────┼────────────────────────────\n",
       "   1 │ QB1       Bryce Young\n",
       "   2 │ QB2       Jordan Love\n",
       "   3 │ RB1       Breece Hall\n",
       "   4 │ RB2       Joe Mixon\n",
       "   5 │ WR1       Justin Jefferson\n",
       "   6 │ WR2       Cooper Kupp\n",
       "   7 │ TE        Travis Kelce\n",
       "   8 │ FLEX      Deebo Samuel\n",
       "  ⋮  │    ⋮             ⋮\n",
       "  20 │ Bench     Isaiah Hodgins\n",
       "  21 │ Bench     RB\n",
       "  22 │ Bench\n",
       "  23 │ Bench\n",
       "  24 │ Bench\n",
       "  25 │ Bench\n",
       "  26 │ Bench\n",
       "\u001b[36m                   11 rows omitted\u001b[0m"
      ]
     },
     "metadata": {},
     "output_type": "display_data"
    }
   ],
   "source": [
    "view_roster(5)"
   ]
  },
  {
   "cell_type": "code",
   "execution_count": 33,
   "metadata": {},
   "outputs": [
    {
     "ename": "KeyError",
     "evalue": "KeyError: key 9 not found",
     "output_type": "error",
     "traceback": [
      "KeyError: key 9 not found\n",
      "\n",
      "Stacktrace:\n",
      " [1] getindex(h::Dict{Any, Any}, key::Int64)\n",
      "   @ Base ./dict.jl:498\n",
      " [2] update_draft(id::String)\n",
      "   @ Main ~/Documents/GitHub/dynasty_draft_model/functions.jl:242\n",
      " [3] top-level scope\n",
      "   @ ~/Documents/GitHub/dynasty_draft_model/dynasty_ff.ipynb:1"
     ]
    }
   ],
   "source": [
    "drafted = update_draft(\"991541422920695808\")"
   ]
  },
  {
   "cell_type": "code",
   "execution_count": 38,
   "metadata": {},
   "outputs": [
    {
     "data": {
      "text/html": [
       "<div class=\"data-frame\"><p>26 rows × 2 columns</p><table class=\"data-frame\"><thead><tr><th></th><th>Position</th><th>Player</th></tr><tr><th></th><th title=\"String\">String</th><th title=\"String\">String</th></tr></thead><tbody><tr><th>1</th><td>QB1</td><td>Joe Burrow</td></tr><tr><th>2</th><td>QB2</td><td>Daniel Jones</td></tr><tr><th>3</th><td>RB1</td><td>Tony Pollard</td></tr><tr><th>4</th><td>RB2</td><td>Joe Mixon</td></tr><tr><th>5</th><td>WR1</td><td>Cooper Kupp</td></tr><tr><th>6</th><td>WR2</td><td>Davante Adams</td></tr><tr><th>7</th><td>TE</td><td>Travis Kelce</td></tr><tr><th>8</th><td>FLEX</td><td>Chris Godwin</td></tr><tr><th>9</th><td>FLEX</td><td>Isiah Pacheco</td></tr><tr><th>10</th><td>Bench</td><td>Alvin Kamara</td></tr><tr><th>11</th><td>Bench</td><td>James Conner</td></tr><tr><th>12</th><td>Bench</td><td>Jonathan Mingo</td></tr><tr><th>13</th><td>Bench</td><td>Skyy Moore</td></tr><tr><th>14</th><td>Bench</td><td>Michael Thomas</td></tr><tr><th>15</th><td>Bench</td><td>Luke Musgrave</td></tr><tr><th>16</th><td>Bench</td><td>Aaron Rodgers</td></tr><tr><th>17</th><td>Bench</td><td>Brock Purdy</td></tr><tr><th>18</th><td>Bench</td><td>Wan&apos;Dale Robinson</td></tr><tr><th>19</th><td>Bench</td><td>Nico Collins</td></tr><tr><th>20</th><td>Bench</td><td>Michael Wilson</td></tr><tr><th>21</th><td>Bench</td><td>Jeff Wilson</td></tr><tr><th>22</th><td>Bench</td><td>Tyquan Thornton</td></tr><tr><th>23</th><td>Bench</td><td>Isaiah Spiller</td></tr><tr><th>24</th><td>Bench</td><td>Kyren Williams</td></tr><tr><th>&vellip;</th><td>&vellip;</td><td>&vellip;</td></tr></tbody></table></div>"
      ],
      "text/latex": [
       "\\begin{tabular}{r|cc}\n",
       "\t& Position & Player\\\\\n",
       "\t\\hline\n",
       "\t& String & String\\\\\n",
       "\t\\hline\n",
       "\t1 & QB1 & Joe Burrow \\\\\n",
       "\t2 & QB2 & Daniel Jones \\\\\n",
       "\t3 & RB1 & Tony Pollard \\\\\n",
       "\t4 & RB2 & Joe Mixon \\\\\n",
       "\t5 & WR1 & Cooper Kupp \\\\\n",
       "\t6 & WR2 & Davante Adams \\\\\n",
       "\t7 & TE & Travis Kelce \\\\\n",
       "\t8 & FLEX & Chris Godwin \\\\\n",
       "\t9 & FLEX & Isiah Pacheco \\\\\n",
       "\t10 & Bench & Alvin Kamara \\\\\n",
       "\t11 & Bench & James Conner \\\\\n",
       "\t12 & Bench & Jonathan Mingo \\\\\n",
       "\t13 & Bench & Skyy Moore \\\\\n",
       "\t14 & Bench & Michael Thomas \\\\\n",
       "\t15 & Bench & Luke Musgrave \\\\\n",
       "\t16 & Bench & Aaron Rodgers \\\\\n",
       "\t17 & Bench & Brock Purdy \\\\\n",
       "\t18 & Bench & Wan'Dale Robinson \\\\\n",
       "\t19 & Bench & Nico Collins \\\\\n",
       "\t20 & Bench & Michael Wilson \\\\\n",
       "\t21 & Bench & Jeff Wilson \\\\\n",
       "\t22 & Bench & Tyquan Thornton \\\\\n",
       "\t23 & Bench & Isaiah Spiller \\\\\n",
       "\t24 & Bench & Kyren Williams \\\\\n",
       "\t$\\dots$ & $\\dots$ & $\\dots$ \\\\\n",
       "\\end{tabular}\n"
      ],
      "text/plain": [
       "\u001b[1m26×2 DataFrame\u001b[0m\n",
       "\u001b[1m Row \u001b[0m│\u001b[1m Position \u001b[0m\u001b[1m Player            \u001b[0m\n",
       "\u001b[1m     \u001b[0m│\u001b[90m String   \u001b[0m\u001b[90m String            \u001b[0m\n",
       "─────┼─────────────────────────────\n",
       "   1 │ QB1       Joe Burrow\n",
       "   2 │ QB2       Daniel Jones\n",
       "   3 │ RB1       Tony Pollard\n",
       "   4 │ RB2       Joe Mixon\n",
       "   5 │ WR1       Cooper Kupp\n",
       "   6 │ WR2       Davante Adams\n",
       "   7 │ TE        Travis Kelce\n",
       "   8 │ FLEX      Chris Godwin\n",
       "  ⋮  │    ⋮              ⋮\n",
       "  20 │ Bench     Michael Wilson\n",
       "  21 │ Bench     Jeff Wilson\n",
       "  22 │ Bench     Tyquan Thornton\n",
       "  23 │ Bench     Isaiah Spiller\n",
       "  24 │ Bench     Kyren Williams\n",
       "  25 │ Bench     Dontayvion Wicks\n",
       "  26 │ Bench     Zonovan Knight\n",
       "\u001b[36m                    11 rows omitted\u001b[0m"
      ]
     },
     "metadata": {},
     "output_type": "display_data"
    }
   ],
   "source": [
    "view_roster(5)"
   ]
  },
  {
   "cell_type": "code",
   "execution_count": 18,
   "metadata": {},
   "outputs": [
    {
     "data": {
      "text/html": [
       "<div class=\"data-frame\"><p>26 rows × 4 columns</p><table class=\"data-frame\"><thead><tr><th></th><th>Name</th><th>Position</th><th>Pick</th><th>ADP</th></tr><tr><th></th><th title=\"String\">String</th><th title=\"String\">String</th><th title=\"Int64\">Int64</th><th title=\"Float64\">Float64</th></tr></thead><tbody><tr><th>1</th><td>Justin Jefferson</td><td>WR</td><td>5</td><td>5.5</td></tr><tr><th>2</th><td>Travis Kelce</td><td>TE</td><td>16</td><td>20.3</td></tr><tr><th>3</th><td>Cooper Kupp</td><td>WR</td><td>25</td><td>31.3</td></tr><tr><th>4</th><td>Josh Jacobs</td><td>RB</td><td>36</td><td>39.1</td></tr><tr><th>5</th><td>Tony Pollard</td><td>RB</td><td>45</td><td>50.4</td></tr><tr><th>6</th><td>Jordan Addison</td><td>WR</td><td>56</td><td>55.8</td></tr><tr><th>7</th><td>Joe Mixon</td><td>RB</td><td>65</td><td>72.0</td></tr><tr><th>8</th><td>Marquise Brown</td><td>WR</td><td>76</td><td>87.7</td></tr><tr><th>9</th><td>Amari Cooper</td><td>WR</td><td>85</td><td>79.9</td></tr><tr><th>10</th><td>James Cook</td><td>RB</td><td>96</td><td>101.1</td></tr><tr><th>11</th><td>Geno Smith</td><td>QB</td><td>105</td><td>78.9</td></tr><tr><th>12</th><td>Marvin Mims</td><td>WR</td><td>116</td><td>140.0</td></tr><tr><th>13</th><td>Kenny Pickett</td><td>QB</td><td>125</td><td>82.0</td></tr><tr><th>14</th><td>Brock Purdy</td><td>QB</td><td>136</td><td>115.0</td></tr><tr><th>15</th><td>Jimmy Garoppolo</td><td>QB</td><td>145</td><td>151.6</td></tr><tr><th>16</th><td>Rondale Moore</td><td>WR</td><td>156</td><td>159.4</td></tr><tr><th>17</th><td>Wan&apos;Dale Robinson</td><td>WR</td><td>165</td><td>171.3</td></tr><tr><th>18</th><td>Deuce Vaughn</td><td>RB</td><td>176</td><td>185.0</td></tr><tr><th>19</th><td>Michael Wilson</td><td>WR</td><td>185</td><td>192.0</td></tr><tr><th>20</th><td>Jeff Wilson</td><td>RB</td><td>196</td><td>211.3</td></tr><tr><th>21</th><td>Tyquan Thornton</td><td>WR</td><td>205</td><td>215.8</td></tr><tr><th>22</th><td>Tucker Kraft</td><td>TE</td><td>216</td><td>238.0</td></tr><tr><th>23</th><td>Zach Wilson</td><td>QB</td><td>225</td><td>239.3</td></tr><tr><th>24</th><td>Zonovan Knight</td><td>RB</td><td>236</td><td>500.0</td></tr><tr><th>&vellip;</th><td>&vellip;</td><td>&vellip;</td><td>&vellip;</td><td>&vellip;</td></tr></tbody></table></div>"
      ],
      "text/latex": [
       "\\begin{tabular}{r|cccc}\n",
       "\t& Name & Position & Pick & ADP\\\\\n",
       "\t\\hline\n",
       "\t& String & String & Int64 & Float64\\\\\n",
       "\t\\hline\n",
       "\t1 & Justin Jefferson & WR & 5 & 5.5 \\\\\n",
       "\t2 & Travis Kelce & TE & 16 & 20.3 \\\\\n",
       "\t3 & Cooper Kupp & WR & 25 & 31.3 \\\\\n",
       "\t4 & Josh Jacobs & RB & 36 & 39.1 \\\\\n",
       "\t5 & Tony Pollard & RB & 45 & 50.4 \\\\\n",
       "\t6 & Jordan Addison & WR & 56 & 55.8 \\\\\n",
       "\t7 & Joe Mixon & RB & 65 & 72.0 \\\\\n",
       "\t8 & Marquise Brown & WR & 76 & 87.7 \\\\\n",
       "\t9 & Amari Cooper & WR & 85 & 79.9 \\\\\n",
       "\t10 & James Cook & RB & 96 & 101.1 \\\\\n",
       "\t11 & Geno Smith & QB & 105 & 78.9 \\\\\n",
       "\t12 & Marvin Mims & WR & 116 & 140.0 \\\\\n",
       "\t13 & Kenny Pickett & QB & 125 & 82.0 \\\\\n",
       "\t14 & Brock Purdy & QB & 136 & 115.0 \\\\\n",
       "\t15 & Jimmy Garoppolo & QB & 145 & 151.6 \\\\\n",
       "\t16 & Rondale Moore & WR & 156 & 159.4 \\\\\n",
       "\t17 & Wan'Dale Robinson & WR & 165 & 171.3 \\\\\n",
       "\t18 & Deuce Vaughn & RB & 176 & 185.0 \\\\\n",
       "\t19 & Michael Wilson & WR & 185 & 192.0 \\\\\n",
       "\t20 & Jeff Wilson & RB & 196 & 211.3 \\\\\n",
       "\t21 & Tyquan Thornton & WR & 205 & 215.8 \\\\\n",
       "\t22 & Tucker Kraft & TE & 216 & 238.0 \\\\\n",
       "\t23 & Zach Wilson & QB & 225 & 239.3 \\\\\n",
       "\t24 & Zonovan Knight & RB & 236 & 500.0 \\\\\n",
       "\t$\\dots$ & $\\dots$ & $\\dots$ & $\\dots$ & $\\dots$ \\\\\n",
       "\\end{tabular}\n"
      ],
      "text/plain": [
       "\u001b[1m26×4 DataFrame\u001b[0m\n",
       "\u001b[1m Row \u001b[0m│\u001b[1m Name              \u001b[0m\u001b[1m Position \u001b[0m\u001b[1m Pick  \u001b[0m\u001b[1m ADP     \u001b[0m\n",
       "\u001b[1m     \u001b[0m│\u001b[90m String            \u001b[0m\u001b[90m String   \u001b[0m\u001b[90m Int64 \u001b[0m\u001b[90m Float64 \u001b[0m\n",
       "─────┼─────────────────────────────────────────────\n",
       "   1 │ Justin Jefferson   WR            5      5.5\n",
       "   2 │ Travis Kelce       TE           16     20.3\n",
       "   3 │ Cooper Kupp        WR           25     31.3\n",
       "   4 │ Josh Jacobs        RB           36     39.1\n",
       "   5 │ Tony Pollard       RB           45     50.4\n",
       "   6 │ Jordan Addison     WR           56     55.8\n",
       "   7 │ Joe Mixon          RB           65     72.0\n",
       "   8 │ Marquise Brown     WR           76     87.7\n",
       "  ⋮  │         ⋮             ⋮        ⋮       ⋮\n",
       "  20 │ Jeff Wilson        RB          196    211.3\n",
       "  21 │ Tyquan Thornton    WR          205    215.8\n",
       "  22 │ Tucker Kraft       TE          216    238.0\n",
       "  23 │ Zach Wilson        QB          225    239.3\n",
       "  24 │ Zonovan Knight     RB          236    500.0\n",
       "  25 │ Kyren Williams     RB          245    500.0\n",
       "  26 │ Dontayvion Wicks   WR          256    500.0\n",
       "\u001b[36m                                    11 rows omitted\u001b[0m"
      ]
     },
     "metadata": {},
     "output_type": "display_data"
    }
   ],
   "source": [
    "roster"
   ]
  },
  {
   "cell_type": "markdown",
   "metadata": {},
   "source": [
    "REDRAFT MODEL"
   ]
  },
  {
   "cell_type": "code",
   "execution_count": 24,
   "metadata": {},
   "outputs": [
    {
     "data": {
      "text/plain": [
       "redraft_model (generic function with 2 methods)"
      ]
     },
     "metadata": {},
     "output_type": "display_data"
    }
   ],
   "source": [
    "function redraft_model(team, num_teams, drafted, temp=[])\n",
    "    # create model\n",
    "    model = Model(() -> Gurobi.Optimizer(GRB_ENV))\n",
    "    set_optimizer_attribute(model, \"TimeLimit\", 300)\n",
    "\n",
    "    # PARAMETERS\n",
    "    T = num_teams # num teams\n",
    "    P = size(data)[1] # num_players\n",
    "    R = 16 # roster size\n",
    "\n",
    "    min_qbs = 1\n",
    "    max_qbs = 2\n",
    "    min_rbs = 4\n",
    "    max_rbs = 8\n",
    "    min_wrs = 4\n",
    "    max_wrs = 8\n",
    "    min_tes = 1\n",
    "    max_tes = 3\n",
    "\n",
    "    starting_qbs_now = 1\n",
    "    starting_rbs_now = 2\n",
    "    starting_wrs_now = 2\n",
    "    starting_flex_now = 7\n",
    "    starting_tes_now = 1\n",
    "\n",
    "    alpha = 3 # weight on starting players\n",
    "\n",
    "\n",
    "    opps = players_drafted_opps(team, T)\n",
    "\n",
    "    num_picked = sum(opps[i, \"Drafted\"] for i in 1:P) + length(drafted[team])\n",
    "\n",
    "    picks = [team, (2*T+1)-team]\n",
    "    for i in 3:R\n",
    "        push!(picks, picks[i-2]+(2*T))\n",
    "    end\n",
    "\n",
    "    # VARIABLES\n",
    "    @variable(model, x[i = 1:P], Bin) # whether or not player was drafted by desired team\n",
    "    @variable(model, y[i = 1:P], Bin) # whether or not player is \"starting\" in year j on your roster\n",
    "\n",
    "    # OBJECTIVE FUNCTION\n",
    "    @objective(model, Max, sum(data[i, \"Y0_VORP\"]*(x[i]+alpha*y[i]) for i in 1:P))\n",
    "\n",
    "    # CONSTRAINTS\n",
    "    # roster must contain already drafted num_players\n",
    "    @constraint(model, [i = drafted[team]], x[player_to_index[i]] == 1)\n",
    "\n",
    "    # roster must not contain any opps\n",
    "    @constraint(model, [i=1:P], x[i]+opps[i,\"Drafted\"] <= 1)\n",
    "\n",
    "    # selecting players to start only if on roster\n",
    "    @constraint(model, [i = 1:P], y[i] <= x[i])\n",
    "\n",
    "    # roster must not contain any temps\n",
    "    @constraint(model, [i=1:length(temp)], x[player_to_index[temp[i]]] == 0)\n",
    "\n",
    "    # roster must contain 26 players (no kicker/DEF)\n",
    "    @constraint(model, sum(x[i] for i in 1:P) <= R)\n",
    "\n",
    "    # positional constraints\n",
    "    @constraint(model, sum(x[player_to_index[i]] for i in qbs) >= min_qbs)\n",
    "    @constraint(model, sum(x[player_to_index[i]] for i in qbs) <= max_qbs)\n",
    "    @constraint(model, sum(x[player_to_index[i]] for i in rbs) >= min_rbs)\n",
    "    @constraint(model, sum(x[player_to_index[i]] for i in rbs) <= max_rbs)\n",
    "    @constraint(model, sum(x[player_to_index[i]] for i in wrs) >= min_wrs)\n",
    "    @constraint(model, sum(x[player_to_index[i]] for i in wrs) <= max_wrs)\n",
    "    @constraint(model, sum(x[player_to_index[i]] for i in tes) >= min_tes)\n",
    "    @constraint(model, sum(x[player_to_index[i]] for i in tes) <= max_tes)\n",
    "\n",
    "    @constraint(model, sum(y[player_to_index[i]] for i in qbs) == starting_qbs_now)\n",
    "    @constraint(model, sum(y[player_to_index[i]] for i in rbs) >= starting_rbs_now)\n",
    "    @constraint(model, sum(y[player_to_index[i]] for i in wrs) >= starting_wrs_now)\n",
    "    @constraint(model, sum(y[player_to_index[i]] for i in flex) == starting_flex_now)\n",
    "    @constraint(model, sum(y[player_to_index[i]] for i in tes) == starting_tes_now)\n",
    "\n",
    "\n",
    "    # DRAFT POSITION CONSTRAINTS\n",
    "\n",
    "    first_avail = 1\n",
    "    while opps[first_avail, \"Drafted\"] == 1\n",
    "        first_avail += 1\n",
    "    end\n",
    "\n",
    "    @constraint(model, sum(x[i] for i in first_avail:P) >= R-length(drafted[team]))\n",
    "\n",
    "    #at least 1 pick from set of players after each round\n",
    "    for pick in length(drafted[team])+1:R\n",
    "        @constraint(model, sum(x[i] for i in (picks[pick]-sum(opps[j, \"Drafted\"] for j in picks[pick]:P)):P) >= R+1-pick)\n",
    "    end\n",
    "\n",
    "    # OPTIMIZE\n",
    "    # solvetime = @elapsed optimize!(model)\n",
    "    optimize!(model)\n",
    "\n",
    "    roster = DataFrame(Name = String[], Position = String[], Pick = Int64[], ADP = Float64[])\n",
    "    count = 1\n",
    "    for i in drafted[team]\n",
    "        if i == \"QB\" || i == \"RB\" || i == \"WR\" || i == \"TE\"\n",
    "            push!(roster, [i, i, picks[count], 500])\n",
    "            continue\n",
    "        end\n",
    "        push!(roster, [data[player_to_index[i], \"Name\"], data[player_to_index[i], \"Position\"], picks[count], data[player_to_index[i], \"RedraftHalfPPR\"]])\n",
    "        count += 1\n",
    "    end\n",
    "    for i in 1:P\n",
    "        if value.(x[i]) == 1\n",
    "            if data[i, \"Name\"] in drafted[team]\n",
    "                continue\n",
    "            else\n",
    "                push!(roster, [data[i, \"Name\"], data[i, \"Position\"], picks[count], data[i, \"RedraftHalfPPR\"]])\n",
    "                count += 1\n",
    "            end\n",
    "        end\n",
    "    end\n",
    "    next_pick = \"\"\n",
    "    for i in 1:P\n",
    "        if value.(x[i]) == 1\n",
    "            if data[i, \"Name\"] in drafted[team]\n",
    "                continue\n",
    "            else\n",
    "                next_pick = data[i, \"Name\"]\n",
    "                break\n",
    "            end\n",
    "        end\n",
    "    end\n",
    "    println(\"Total VORP: \" * string(round(objective_value(model), digits = 1)))\n",
    "    return next_pick, roster\n",
    "end"
   ]
  },
  {
   "cell_type": "code",
   "execution_count": 31,
   "metadata": {},
   "outputs": [
    {
     "data": {
      "text/plain": [
       "(\u001b[1m491×27 DataFrame\u001b[0m\n",
       "\u001b[1m Row \u001b[0m│\u001b[1m FirstName \u001b[0m\u001b[1m LastName    \u001b[0m\u001b[1m Dyn_SF   \u001b[0m\u001b[1m RedraftHalfPPR \u001b[0m\u001b[1m Position \u001b[0m\u001b[1m Y0_VORP  \u001b[0m\u001b[1m Y\u001b[0m ⋯\n",
       "\u001b[1m     \u001b[0m│\u001b[90m String15  \u001b[0m\u001b[90m String31    \u001b[0m\u001b[90m Float64? \u001b[0m\u001b[90m Float64?       \u001b[0m\u001b[90m String3  \u001b[0m\u001b[90m Float64  \u001b[0m\u001b[90m F\u001b[0m ⋯\n",
       "─────┼──────────────────────────────────────────────────────────────────────────\n",
       "   1 │ Justin     Jefferson         5.9             1.5  WR        10.5095   8 ⋯\n",
       "   2 │ Christian  McCaffrey        13.9             2.2  RB         7.90528  6\n",
       "   3 │ Ja'Marr    Chase             7.9             3.0  WR         9.97006  6\n",
       "   4 │ Austin     Ekeler           28.9             4.0  RB         8.14655  5\n",
       "   5 │ Travis     Kelce            18.0             5.7  TE         7.85383  6 ⋯\n",
       "   6 │ Tyreek     Hill             23.5             6.9  WR         8.65459  6\n",
       "   7 │ Cooper     Kupp             32.4             7.5  WR        10.5522   7\n",
       "   8 │ Bijan      Robinson         10.5             8.0  RB         6.99868  8\n",
       "  ⋮  │     ⋮           ⋮          ⋮            ⋮            ⋮         ⋮        ⋱\n",
       " 485 │ Tyler      Davis           500.0           500.0  TE         0.0      0 ⋯\n",
       " 486 │ David      Wells           500.0           500.0  TE         0.0      0\n",
       " 487 │ Grant      Calcaterra      500.0           500.0  TE         0.0      0\n",
       " 488 │ Charlie    Woerner         500.0           500.0  TE         0.0      0\n",
       " 489 │ John       FitzPatrick     500.0           500.0  TE         0.0      0 ⋯\n",
       " 490 │ Racey      McMath          500.0           500.0  WR         0.0      0\n",
       " 491 │ Trinity    Benson          500.0           500.0  WR         0.0      0\n",
       "\u001b[36m                                                 21 columns and 476 rows omitted\u001b[0m, Dict{Any, Any}(\"Austin Ekeler\" => 4, \"Eno Benjamin\" => 424, \"Jamaal Williams\" => 103, \"Latavius Murray\" => 276, \"Britain Covey\" => 402, \"Zack Moss\" => 262, \"Kenny McIntosh\" => 481, \"Romeo Doubs\" => 139, \"Gary Brightwell\" => 265, \"Pierre Strong\" => 231…), Set(Any[\"Matthew Stafford\", \"CJ Beathard\", \"Jordan Love\", \"Jimmy Garoppolo\", \"Justin Fields\", \"CJ Stroud\", \"Desmond Ridder\", \"Marcus Mariota\", \"Joshua Dobbs\", \"Stetson Bennett\"  …  \"Zach Wilson\", \"Trevor Lawrence\", \"Jared Goff\", \"Sam Howell\", \"Drew Lock\", \"Jameis Winston\", \"Geno Smith\", \"Patrick Mahomes\", \"Easton Stick\", \"Jarrett Stidham\"]), Set(Any[\"Austin Ekeler\", \"Tony Pollard\", \"Jamaal Williams\", \"Latavius Murray\", \"Craig Reynolds\", \"Zack Moss\", \"DeeJay Dallas\", \"Troy Hairston\", \"Gary Brightwell\", \"Ty'Son Williams\"  …  \"Najee Harris\", \"Christian McCaffrey\", \"Joe Mixon\", \"Breece Hall\", \"Cam Akers\", \"Gus Edwards\", \"Isaiah Spiller\", \"James Conner\", \"Mike Boone\", \"Patrick Taylor\"]), Set(Any[\"Britain Covey\", \"Romeo Doubs\", \"Tank Dell\", \"Jordan Addison\", \"Amari Rodgers\", \"JuJu Smith-Schuster\", \"Diontae Johnson\", \"Khalil Shakir\", \"Trinity Benson\", \"Chris Conley\"  …  \"Tyler Scott\", \"Bryan Edwards\", \"Kendall Hinton\", \"David Bell\", \"Mike Williams\", \"Equanimeous St Brown\", \"Christian Kirk\", \"Curtis Samuel\", \"Simi Fehoko\", \"Dontayvion Wicks\"]), Set(Any[\"Cole Kmet\", \"Luke Musgrave\", \"Jody Fortson\", \"Albert Okwuegbunam\", \"David Njoku\", \"Noah Fant\", \"Noah Togiai\", \"Pat Freiermuth\", \"Jeremy Ruckert\", \"Connor Heyward\"  …  \"Travis Kelce\", \"Jake Ferguson\", \"Andrew Beck\", \"Chase Allen\", \"John Bates\", \"Tyler Davis\", \"Josh Whyle\", \"Mark Andrews\", \"Darren Waller\", \"Dallas Goedert\"]), Set(Any[\"Austin Ekeler\", \"Eno Benjamin\", \"Jamaal Williams\", \"Latavius Murray\", \"Britain Covey\", \"Zack Moss\", \"Kenny McIntosh\", \"Romeo Doubs\", \"Gary Brightwell\", \"Pierre Strong\"  …  \"Dameon Pierce\", \"Mike Williams\", \"Equanimeous St Brown\", \"Christian Kirk\", \"Curtis Samuel\", \"Simi Fehoko\", \"Joe Mixon\", \"Gus Edwards\", \"Mike Boone\", \"Dontayvion Wicks\"]), Set(Any[\"Austin Ekeler\", \"Eno Benjamin\", \"Jamaal Williams\", \"Latavius Murray\", \"Britain Covey\", \"Zack Moss\", \"Kenny McIntosh\", \"Romeo Doubs\", \"Gary Brightwell\", \"Pierre Strong\"  …  \"Curtis Samuel\", \"Simi Fehoko\", \"Josh Whyle\", \"Tyler Davis\", \"Mark Andrews\", \"Joe Mixon\", \"Darren Waller\", \"Gus Edwards\", \"Mike Boone\", \"Dontayvion Wicks\"]))"
      ]
     },
     "metadata": {},
     "output_type": "display_data"
    }
   ],
   "source": [
    "data, player_to_index, qbs, rbs, wrs, tes, flex, names = initialize_data(false)"
   ]
  },
  {
   "cell_type": "code",
   "execution_count": 34,
   "metadata": {},
   "outputs": [
    {
     "data": {
      "text/plain": [
       "Dict{Any, Any} with 8 entries:\n",
       "  5 => Any[]\n",
       "  4 => Any[]\n",
       "  6 => Any[]\n",
       "  7 => Any[]\n",
       "  2 => Any[]\n",
       "  8 => Any[]\n",
       "  3 => Any[]\n",
       "  1 => Any[]"
      ]
     },
     "metadata": {},
     "output_type": "display_data"
    }
   ],
   "source": [
    "drafted = reset_draft(8)"
   ]
  },
  {
   "cell_type": "code",
   "execution_count": 35,
   "metadata": {},
   "outputs": [
    {
     "name": "stdout",
     "output_type": "stream",
     "text": [
      "Total VORP: 237.1\n",
      "Total VORP: 230.8\n",
      "Total VORP: 229.5\n",
      "Total VORP: 227.5\n"
     ]
    },
    {
     "name": "stdout",
     "output_type": "stream",
     "text": [
      "Total VORP: 223.6\n",
      "Total VORP: 223.4\n",
      "Total VORP: 223.2\n",
      "Cooper Kupp\n",
      "Travis Kelce\n",
      "Tyreek Hill\n",
      "Austin Ekeler\n",
      "Patrick Mahomes\n",
      "CeeDee Lamb\n",
      "Saquon Barkley\n"
     ]
    }
   ],
   "source": [
    "first_choice_r, roster_r = redraft_model(4, 8, drafted);\n",
    "second_choice_r, r2_r = redraft_model(4, 8, drafted, [first_choice_r]);\n",
    "third_choice_r, r3_r = redraft_model(4, 8, drafted, [first_choice_r, second_choice_r])\n",
    "fourth_choice_r, r4_r = redraft_model(4, 8, drafted, [first_choice_r, second_choice_r, third_choice_r])\n",
    "fifth_choice_r, r5_r = redraft_model(4, 8, drafted, [first_choice_r, second_choice_r, third_choice_r, fourth_choice_r])\n",
    "sixth_choice_r, r6_r = redraft_model(4, 8, drafted, [first_choice_r, second_choice_r, third_choice_r, fourth_choice_r, fifth_choice_r])\n",
    "seventh_choice_r, r7_r = redraft_model(4, 8, drafted, [first_choice_r, second_choice_r, third_choice_r, fourth_choice_r, fifth_choice_r, sixth_choice_r])\n",
    "println(first_choice_r)\n",
    "println(second_choice_r)\n",
    "println(third_choice_r)\n",
    "println(fourth_choice_r)\n",
    "println(fifth_choice_r)\n",
    "println(sixth_choice_r)\n",
    "println(seventh_choice_r)"
   ]
  },
  {
   "cell_type": "code",
   "execution_count": 26,
   "metadata": {},
   "outputs": [
    {
     "data": {
      "text/html": [
       "<div class=\"data-frame\"><p>16 rows × 4 columns</p><table class=\"data-frame\"><thead><tr><th></th><th>Name</th><th>Position</th><th>Pick</th><th>ADP</th></tr><tr><th></th><th title=\"String\">String</th><th title=\"String\">String</th><th title=\"Int64\">Int64</th><th title=\"Float64\">Float64</th></tr></thead><tbody><tr><th>1</th><td>Cooper Kupp</td><td>WR</td><td>4</td><td>7.5</td></tr><tr><th>2</th><td>Davante Adams</td><td>WR</td><td>13</td><td>16.6</td></tr><tr><th>3</th><td>Josh Allen</td><td>QB</td><td>20</td><td>20.4</td></tr><tr><th>4</th><td>Breece Hall</td><td>RB</td><td>29</td><td>33.4</td></tr><tr><th>5</th><td>Aaron Jones</td><td>RB</td><td>36</td><td>42.0</td></tr><tr><th>6</th><td>TJ Hockenson</td><td>TE</td><td>45</td><td>46.2</td></tr><tr><th>7</th><td>James Conner</td><td>RB</td><td>52</td><td>61.6</td></tr><tr><th>8</th><td>Chris Godwin</td><td>WR</td><td>61</td><td>63.0</td></tr><tr><th>9</th><td>Alvin Kamara</td><td>RB</td><td>68</td><td>68.0</td></tr><tr><th>10</th><td>Diontae Johnson</td><td>WR</td><td>77</td><td>80.9</td></tr><tr><th>11</th><td>Brandin Cooks</td><td>WR</td><td>84</td><td>95.7</td></tr><tr><th>12</th><td>Michael Thomas</td><td>WR</td><td>93</td><td>99.0</td></tr><tr><th>13</th><td>Kirk Cousins</td><td>QB</td><td>100</td><td>109.3</td></tr><tr><th>14</th><td>Jakobi Meyers</td><td>WR</td><td>109</td><td>146.9</td></tr><tr><th>15</th><td>Jeff Wilson</td><td>RB</td><td>116</td><td>176.5</td></tr><tr><th>16</th><td>DJ Chark</td><td>WR</td><td>125</td><td>179.3</td></tr></tbody></table></div>"
      ],
      "text/latex": [
       "\\begin{tabular}{r|cccc}\n",
       "\t& Name & Position & Pick & ADP\\\\\n",
       "\t\\hline\n",
       "\t& String & String & Int64 & Float64\\\\\n",
       "\t\\hline\n",
       "\t1 & Cooper Kupp & WR & 4 & 7.5 \\\\\n",
       "\t2 & Davante Adams & WR & 13 & 16.6 \\\\\n",
       "\t3 & Josh Allen & QB & 20 & 20.4 \\\\\n",
       "\t4 & Breece Hall & RB & 29 & 33.4 \\\\\n",
       "\t5 & Aaron Jones & RB & 36 & 42.0 \\\\\n",
       "\t6 & TJ Hockenson & TE & 45 & 46.2 \\\\\n",
       "\t7 & James Conner & RB & 52 & 61.6 \\\\\n",
       "\t8 & Chris Godwin & WR & 61 & 63.0 \\\\\n",
       "\t9 & Alvin Kamara & RB & 68 & 68.0 \\\\\n",
       "\t10 & Diontae Johnson & WR & 77 & 80.9 \\\\\n",
       "\t11 & Brandin Cooks & WR & 84 & 95.7 \\\\\n",
       "\t12 & Michael Thomas & WR & 93 & 99.0 \\\\\n",
       "\t13 & Kirk Cousins & QB & 100 & 109.3 \\\\\n",
       "\t14 & Jakobi Meyers & WR & 109 & 146.9 \\\\\n",
       "\t15 & Jeff Wilson & RB & 116 & 176.5 \\\\\n",
       "\t16 & DJ Chark & WR & 125 & 179.3 \\\\\n",
       "\\end{tabular}\n"
      ],
      "text/plain": [
       "\u001b[1m16×4 DataFrame\u001b[0m\n",
       "\u001b[1m Row \u001b[0m│\u001b[1m Name            \u001b[0m\u001b[1m Position \u001b[0m\u001b[1m Pick  \u001b[0m\u001b[1m ADP     \u001b[0m\n",
       "\u001b[1m     \u001b[0m│\u001b[90m String          \u001b[0m\u001b[90m String   \u001b[0m\u001b[90m Int64 \u001b[0m\u001b[90m Float64 \u001b[0m\n",
       "─────┼───────────────────────────────────────────\n",
       "   1 │ Cooper Kupp      WR            4      7.5\n",
       "   2 │ Davante Adams    WR           13     16.6\n",
       "   3 │ Josh Allen       QB           20     20.4\n",
       "   4 │ Breece Hall      RB           29     33.4\n",
       "   5 │ Aaron Jones      RB           36     42.0\n",
       "   6 │ TJ Hockenson     TE           45     46.2\n",
       "   7 │ James Conner     RB           52     61.6\n",
       "   8 │ Chris Godwin     WR           61     63.0\n",
       "   9 │ Alvin Kamara     RB           68     68.0\n",
       "  10 │ Diontae Johnson  WR           77     80.9\n",
       "  11 │ Brandin Cooks    WR           84     95.7\n",
       "  12 │ Michael Thomas   WR           93     99.0\n",
       "  13 │ Kirk Cousins     QB          100    109.3\n",
       "  14 │ Jakobi Meyers    WR          109    146.9\n",
       "  15 │ Jeff Wilson      RB          116    176.5\n",
       "  16 │ DJ Chark         WR          125    179.3"
      ]
     },
     "metadata": {},
     "output_type": "display_data"
    }
   ],
   "source": [
    "roster_r"
   ]
  }
 ],
 "metadata": {
  "kernelspec": {
   "display_name": "Julia 1.8.0",
   "language": "julia",
   "name": "julia-1.8"
  },
  "language_info": {
   "file_extension": ".jl",
   "mimetype": "application/julia",
   "name": "julia",
   "version": "1.8.0"
  },
  "orig_nbformat": 4
 },
 "nbformat": 4,
 "nbformat_minor": 2
}
