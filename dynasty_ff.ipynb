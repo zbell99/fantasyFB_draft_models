{
 "cells": [
  {
   "cell_type": "code",
   "execution_count": 1,
   "metadata": {},
   "outputs": [],
   "source": [
    "using DataFrames, CSV, JuMP, Gurobi, Random, LibPQ, Statistics"
   ]
  },
  {
   "cell_type": "code",
   "execution_count": 2,
   "metadata": {},
   "outputs": [
    {
     "data": {
      "text/html": [
       "<div class=\"data-frame\"><p>321 rows × 9 columns (omitted printing of 1 columns)</p><table class=\"data-frame\"><thead><tr><th></th><th>DynastySF_ADP</th><th>VORP</th><th>Team</th><th>FirstName</th><th>LastName</th><th>Position</th><th>PlayerID</th><th>PositionalRank</th></tr><tr><th></th><th title=\"Float64\">Float64</th><th title=\"Union{Missing, Float64}\">Float64?</th><th title=\"String3\">String3</th><th title=\"String15\">String15</th><th title=\"String31\">String31</th><th title=\"String3\">String3</th><th title=\"Int64\">Int64</th><th title=\"String7\">String7</th></tr></thead><tbody><tr><th>1</th><td>1.1</td><td>39.2</td><td>KC</td><td>Patrick</td><td>Mahomes</td><td>QB</td><td>4046</td><td>QB1</td></tr><tr><th>2</th><td>2.5</td><td>35.6</td><td>BUF</td><td>Josh</td><td>Allen</td><td>QB</td><td>4984</td><td>QB2</td></tr><tr><th>3</th><td>3.1</td><td>41.0</td><td>PHI</td><td>Jalen</td><td>Hurts</td><td>QB</td><td>6904</td><td>QB3</td></tr><tr><th>4</th><td>4.9</td><td>42.0</td><td>CIN</td><td>Joe</td><td>Burrow</td><td>QB</td><td>6770</td><td>QB4</td></tr><tr><th>5</th><td>5.1</td><td>45.0</td><td>MIN</td><td>Justin</td><td>Jefferson</td><td>WR</td><td>6794</td><td>WR1</td></tr><tr><th>6</th><td>6.1</td><td>25.1</td><td>LAC</td><td>Justin</td><td>Herbert</td><td>QB</td><td>6797</td><td>QB5</td></tr><tr><th>7</th><td>7.6</td><td>38.6</td><td>CIN</td><td>Ja&apos;Marr</td><td>Chase</td><td>WR</td><td>7564</td><td>WR2</td></tr><tr><th>8</th><td>8.0</td><td>32.9</td><td>BAL</td><td>Lamar</td><td>Jackson</td><td>QB</td><td>4881</td><td>QB6</td></tr><tr><th>9</th><td>9.0</td><td>17.4</td><td>JAX</td><td>Trevor</td><td>Lawrence</td><td>QB</td><td>7523</td><td>QB7</td></tr><tr><th>10</th><td>10.2</td><td>35.2</td><td>CHI</td><td>Justin</td><td>Fields</td><td>QB</td><td>7591</td><td>QB8</td></tr><tr><th>11</th><td>11.4</td><td>32.2</td><td>ATL</td><td>Bijan</td><td>Robinson</td><td>RB</td><td>9509</td><td>RB1</td></tr><tr><th>12</th><td>12.7</td><td>31.6</td><td>DAL</td><td>CeeDee</td><td>Lamb</td><td>WR</td><td>6786</td><td>WR3</td></tr><tr><th>13</th><td>13.0</td><td>21.4</td><td>SF</td><td>Christian</td><td>McCaffrey</td><td>RB</td><td>4034</td><td>RB2</td></tr><tr><th>14</th><td>14.1</td><td>17.0</td><td>PHI</td><td>A.J.</td><td>Brown</td><td>WR</td><td>5859</td><td>WR4</td></tr><tr><th>15</th><td>15.7</td><td>23.9</td><td>NYJ</td><td>Garrett</td><td>Wilson</td><td>WR</td><td>8146</td><td>WR5</td></tr><tr><th>16</th><td>16.0</td><td>28.4</td><td>IND</td><td>Anthony</td><td>Richardson</td><td>QB</td><td>9229</td><td>QB9</td></tr><tr><th>17</th><td>17.4</td><td>24.6</td><td>DET</td><td>Amon-Ra</td><td>St. Brown</td><td>WR</td><td>7547</td><td>WR6</td></tr><tr><th>18</th><td>18.5</td><td>27.6</td><td>NYJ</td><td>Breece</td><td>Hall</td><td>RB</td><td>8155</td><td>RB3</td></tr><tr><th>19</th><td>19.7</td><td>19.3</td><td>MIA</td><td>Jaylen</td><td>Waddle</td><td>WR</td><td>7526</td><td>WR7</td></tr><tr><th>20</th><td>20.3</td><td>22.7</td><td>IND</td><td>Jonathan</td><td>Taylor</td><td>RB</td><td>6813</td><td>RB4</td></tr><tr><th>21</th><td>21.4</td><td>16.1</td><td>KC</td><td>Travis</td><td>Kelce</td><td>TE</td><td>1466</td><td>TE1</td></tr><tr><th>22</th><td>22.2</td><td>16.0</td><td>CLE</td><td>Deshaun</td><td>Watson</td><td>QB</td><td>4017</td><td>QB10</td></tr><tr><th>23</th><td>23.4</td><td>18.8</td><td>NO</td><td>Chris</td><td>Olave</td><td>WR</td><td>8144</td><td>WR8</td></tr><tr><th>24</th><td>23.9</td><td>27.5</td><td>MIA</td><td>Tyreek</td><td>Hill</td><td>WR</td><td>3321</td><td>WR9</td></tr><tr><th>&vellip;</th><td>&vellip;</td><td>&vellip;</td><td>&vellip;</td><td>&vellip;</td><td>&vellip;</td><td>&vellip;</td><td>&vellip;</td><td>&vellip;</td></tr></tbody></table></div>"
      ],
      "text/latex": [
       "\\begin{tabular}{r|ccccccccc}\n",
       "\t& DynastySF\\_ADP & VORP & Team & FirstName & LastName & Position & PlayerID & PositionalRank & \\\\\n",
       "\t\\hline\n",
       "\t& Float64 & Float64? & String3 & String15 & String31 & String3 & Int64 & String7 & \\\\\n",
       "\t\\hline\n",
       "\t1 & 1.1 & 39.2 & KC & Patrick & Mahomes & QB & 4046 & QB1 & $\\dots$ \\\\\n",
       "\t2 & 2.5 & 35.6 & BUF & Josh & Allen & QB & 4984 & QB2 & $\\dots$ \\\\\n",
       "\t3 & 3.1 & 41.0 & PHI & Jalen & Hurts & QB & 6904 & QB3 & $\\dots$ \\\\\n",
       "\t4 & 4.9 & 42.0 & CIN & Joe & Burrow & QB & 6770 & QB4 & $\\dots$ \\\\\n",
       "\t5 & 5.1 & 45.0 & MIN & Justin & Jefferson & WR & 6794 & WR1 & $\\dots$ \\\\\n",
       "\t6 & 6.1 & 25.1 & LAC & Justin & Herbert & QB & 6797 & QB5 & $\\dots$ \\\\\n",
       "\t7 & 7.6 & 38.6 & CIN & Ja'Marr & Chase & WR & 7564 & WR2 & $\\dots$ \\\\\n",
       "\t8 & 8.0 & 32.9 & BAL & Lamar & Jackson & QB & 4881 & QB6 & $\\dots$ \\\\\n",
       "\t9 & 9.0 & 17.4 & JAX & Trevor & Lawrence & QB & 7523 & QB7 & $\\dots$ \\\\\n",
       "\t10 & 10.2 & 35.2 & CHI & Justin & Fields & QB & 7591 & QB8 & $\\dots$ \\\\\n",
       "\t11 & 11.4 & 32.2 & ATL & Bijan & Robinson & RB & 9509 & RB1 & $\\dots$ \\\\\n",
       "\t12 & 12.7 & 31.6 & DAL & CeeDee & Lamb & WR & 6786 & WR3 & $\\dots$ \\\\\n",
       "\t13 & 13.0 & 21.4 & SF & Christian & McCaffrey & RB & 4034 & RB2 & $\\dots$ \\\\\n",
       "\t14 & 14.1 & 17.0 & PHI & A.J. & Brown & WR & 5859 & WR4 & $\\dots$ \\\\\n",
       "\t15 & 15.7 & 23.9 & NYJ & Garrett & Wilson & WR & 8146 & WR5 & $\\dots$ \\\\\n",
       "\t16 & 16.0 & 28.4 & IND & Anthony & Richardson & QB & 9229 & QB9 & $\\dots$ \\\\\n",
       "\t17 & 17.4 & 24.6 & DET & Amon-Ra & St. Brown & WR & 7547 & WR6 & $\\dots$ \\\\\n",
       "\t18 & 18.5 & 27.6 & NYJ & Breece & Hall & RB & 8155 & RB3 & $\\dots$ \\\\\n",
       "\t19 & 19.7 & 19.3 & MIA & Jaylen & Waddle & WR & 7526 & WR7 & $\\dots$ \\\\\n",
       "\t20 & 20.3 & 22.7 & IND & Jonathan & Taylor & RB & 6813 & RB4 & $\\dots$ \\\\\n",
       "\t21 & 21.4 & 16.1 & KC & Travis & Kelce & TE & 1466 & TE1 & $\\dots$ \\\\\n",
       "\t22 & 22.2 & 16.0 & CLE & Deshaun & Watson & QB & 4017 & QB10 & $\\dots$ \\\\\n",
       "\t23 & 23.4 & 18.8 & NO & Chris & Olave & WR & 8144 & WR8 & $\\dots$ \\\\\n",
       "\t24 & 23.9 & 27.5 & MIA & Tyreek & Hill & WR & 3321 & WR9 & $\\dots$ \\\\\n",
       "\t$\\dots$ & $\\dots$ & $\\dots$ & $\\dots$ & $\\dots$ & $\\dots$ & $\\dots$ & $\\dots$ & $\\dots$ &  \\\\\n",
       "\\end{tabular}\n"
      ],
      "text/plain": [
       "\u001b[1m321×9 DataFrame\u001b[0m\n",
       "\u001b[1m Row \u001b[0m│\u001b[1m DynastySF_ADP \u001b[0m\u001b[1m VORP     \u001b[0m\u001b[1m Team    \u001b[0m\u001b[1m FirstName \u001b[0m\u001b[1m LastName     \u001b[0m\u001b[1m Position \u001b[0m\u001b[1m Pl\u001b[0m ⋯\n",
       "\u001b[1m     \u001b[0m│\u001b[90m Float64       \u001b[0m\u001b[90m Float64? \u001b[0m\u001b[90m String3 \u001b[0m\u001b[90m String15  \u001b[0m\u001b[90m String31     \u001b[0m\u001b[90m String3  \u001b[0m\u001b[90m In\u001b[0m ⋯\n",
       "─────┼──────────────────────────────────────────────────────────────────────────\n",
       "   1 │           1.1      39.2  KC       Patrick    Mahomes       QB           ⋯\n",
       "   2 │           2.5      35.6  BUF      Josh       Allen         QB\n",
       "   3 │           3.1      41.0  PHI      Jalen      Hurts         QB\n",
       "   4 │           4.9      42.0  CIN      Joe        Burrow        QB\n",
       "   5 │           5.1      45.0  MIN      Justin     Jefferson     WR           ⋯\n",
       "   6 │           6.1      25.1  LAC      Justin     Herbert       QB\n",
       "   7 │           7.6      38.6  CIN      Ja'Marr    Chase         WR\n",
       "   8 │           8.0      32.9  BAL      Lamar      Jackson       QB\n",
       "  ⋮  │       ⋮           ⋮         ⋮         ⋮           ⋮           ⋮         ⋱\n",
       " 315 │         300.0       0.0  NYG      Ryan       Jones         TE           ⋯\n",
       " 316 │         300.0       0.0  IND      Mark       Vital         TE\n",
       " 317 │         300.0       0.0  LAC      Max        Duggan        QB\n",
       " 318 │         300.0       0.0  LV       Cole       Fotheringham  TE\n",
       " 319 │         300.0       0.6  TEN      Hassan     Haskins       RB           ⋯\n",
       " 320 │         300.0       0.0  DET      Mohamed    Ibrahim       RB\n",
       " 321 │         300.0       2.8  NYJ      Zonovan    Knight        RB\n",
       "\u001b[36m                                                  3 columns and 306 rows omitted\u001b[0m"
      ]
     },
     "metadata": {},
     "output_type": "display_data"
    }
   ],
   "source": [
    "#data = projections for each player\n",
    "data = DataFrame(CSV.File(\"dynasty_data.csv\"))\n",
    "#fill missing with 0 in julia\n",
    "replace!(data.VORP, missing => 0)\n",
    "data.Name .= data.FirstName .* \" \" .* data.LastName\n",
    "data"
   ]
  },
  {
   "cell_type": "code",
   "execution_count": 3,
   "metadata": {},
   "outputs": [],
   "source": [
    "player_to_index = Dict()\n",
    "#iterate thorugh each row in the data\n",
    "for i in 1:size(data)[1]\n",
    "    #get the player name\n",
    "    player = data[i, :Name]\n",
    "    #if the player is not in the dictionary, add them\n",
    "    player_to_index[player] = i\n",
    "end"
   ]
  },
  {
   "cell_type": "code",
   "execution_count": 4,
   "metadata": {},
   "outputs": [],
   "source": [
    "qbs = Set()\n",
    "rbs = Set()\n",
    "wrs = Set()\n",
    "tes = Set()\n",
    "\n",
    "for player in eachrow(data)\n",
    "    if player.Position == \"QB\"\n",
    "        push!(qbs, player.Name)\n",
    "    elseif player.Position == \"RB\"\n",
    "        push!(rbs, player.Name)\n",
    "    elseif player.Position == \"WR\"\n",
    "        push!(wrs, player.Name)\n",
    "    elseif player.Position == \"TE\"\n",
    "        push!(tes, player.Name)\n",
    "    end\n",
    "end"
   ]
  },
  {
   "cell_type": "code",
   "execution_count": 5,
   "metadata": {},
   "outputs": [
    {
     "data": {
      "text/plain": [
       "reset_draft (generic function with 1 method)"
      ]
     },
     "metadata": {},
     "output_type": "display_data"
    }
   ],
   "source": [
    "function reset_draft()\n",
    "    drafted = Dict()\n",
    "    for i in range(1, 10)\n",
    "        drafted[i] = []\n",
    "    end\n",
    "    return drafted\n",
    "end"
   ]
  },
  {
   "cell_type": "code",
   "execution_count": 6,
   "metadata": {},
   "outputs": [
    {
     "data": {
      "text/plain": [
       "just_drafted (generic function with 1 method)"
      ]
     },
     "metadata": {},
     "output_type": "display_data"
    }
   ],
   "source": [
    "function just_drafted(player, team)\n",
    "    if length(filter(:Name => n -> n == player, data)[!,1]) < 1\n",
    "        return \"Player not found\"\n",
    "    end\n",
    "    push!(drafted[team], player)\n",
    "    return \"Team \" * string(team) * \" drafted \" * player * \"!\"\n",
    "end"
   ]
  },
  {
   "cell_type": "code",
   "execution_count": 7,
   "metadata": {},
   "outputs": [
    {
     "data": {
      "text/plain": [
       "view_roster (generic function with 1 method)"
      ]
     },
     "metadata": {},
     "output_type": "display_data"
    }
   ],
   "source": [
    "function view_roster(team)\n",
    "    return DataFrame(Roster = drafted[team])\n",
    "end"
   ]
  },
  {
   "cell_type": "code",
   "execution_count": 8,
   "metadata": {},
   "outputs": [
    {
     "data": {
      "text/plain": [
       "players_drafted_opps (generic function with 1 method)"
      ]
     },
     "metadata": {},
     "output_type": "display_data"
    }
   ],
   "source": [
    "function players_drafted_opps(team)\n",
    "    drafted_opps = DataFrame(Name = data.Name, Drafted = fill(false, 321))\n",
    "    for i in 1:10\n",
    "        if i == team\n",
    "            continue\n",
    "        else\n",
    "            for player in drafted[i]\n",
    "                drafted_opps[player_to_index[player], \"Drafted\"] = true\n",
    "            end\n",
    "        end\n",
    "    end\n",
    "    return drafted_opps\n",
    "end"
   ]
  },
  {
   "cell_type": "code",
   "execution_count": 9,
   "metadata": {},
   "outputs": [],
   "source": [
    "const GRB_ENV = Gurobi.Env(output_flag=0);"
   ]
  },
  {
   "cell_type": "code",
   "execution_count": 10,
   "metadata": {},
   "outputs": [
    {
     "data": {
      "text/plain": [
       "dynasty_pick (generic function with 2 methods)"
      ]
     },
     "metadata": {},
     "output_type": "display_data"
    }
   ],
   "source": [
    "function dynasty_pick(team, temp=[])\n",
    "    # create model\n",
    "    model = Model(() -> Gurobi.Optimizer(GRB_ENV))\n",
    "    set_optimizer_attribute(model, \"TimeLimit\", 300)\n",
    "\n",
    "    # PARAMETERS\n",
    "    P = 321 # num_players\n",
    "    min_qbs = 2\n",
    "    max_qbs = 3\n",
    "    min_rbs = 7\n",
    "    max_rbs = 10\n",
    "    min_wrs = 7\n",
    "    max_wrs = 10\n",
    "    min_tes = 2\n",
    "    max_tes = 4\n",
    "\n",
    "    opps = players_drafted_opps(team)\n",
    "\n",
    "    num_picked = sum(opps[i, \"Drafted\"] for i in 1:P) + length(drafted[team])\n",
    "    # for player in temp\n",
    "    #     opps[player_to_index[player], \"Drafted\"] = 1\n",
    "    # end\n",
    "\n",
    "    picks = [team, 21-team]\n",
    "    for i in 3:23\n",
    "        push!(picks, picks[i-2]+20)\n",
    "    end\n",
    "\n",
    "    # VARIABLES\n",
    "    @variable(model, x[i = 1:P], Bin) # whether or not player was drafted by desired team\n",
    "\n",
    "    # OBJECTIVE FUNCTION\n",
    "    @objective(model, Max, sum(data[i, \"VORP\"]*x[i] for i in 1:P))\n",
    "\n",
    "    # CONSTRAINTS\n",
    "    # roster must contain already drafted num_players\n",
    "    @constraint(model, [i = drafted[team]], x[player_to_index[i]] == 1)\n",
    "\n",
    "    # roster must not contain any opps\n",
    "    @constraint(model, [i=1:P], x[i]+opps[i,\"Drafted\"] <= 1)\n",
    "\n",
    "    # roster must not contain any temps\n",
    "    @constraint(model, [i=1:length(temp)], x[player_to_index[temp[i]]] == 0)\n",
    "\n",
    "    # roster must contain 23 players (no kicker/DEF)\n",
    "    @constraint(model, sum(x[i] for i in 1:P) <= 23)\n",
    "\n",
    "    # positional constraints\n",
    "    @constraint(model, sum(x[player_to_index[i]] for i in qbs) >= min_qbs)\n",
    "    @constraint(model, sum(x[player_to_index[i]] for i in qbs) <= max_qbs)\n",
    "    @constraint(model, sum(x[player_to_index[i]] for i in rbs) >= min_rbs)\n",
    "    @constraint(model, sum(x[player_to_index[i]] for i in rbs) <= max_rbs)\n",
    "    @constraint(model, sum(x[player_to_index[i]] for i in wrs) >= min_wrs)\n",
    "    @constraint(model, sum(x[player_to_index[i]] for i in wrs) <= max_wrs)\n",
    "    @constraint(model, sum(x[player_to_index[i]] for i in tes) >= min_tes)\n",
    "    @constraint(model, sum(x[player_to_index[i]] for i in tes) <= max_tes)\n",
    "\n",
    "\n",
    "    # DRAFT POSITION CONSTRAINTS\n",
    "    #at least 1 pick from set of players after each round\n",
    "    for pick in 1:23\n",
    "        @constraint(model, sum(x[i] for i in (picks[pick]-sum(opps[j, \"Drafted\"] for j in picks[pick]:P)):P) >= 24-pick)\n",
    "    end\n",
    "\n",
    "    # OPTIMIZE\n",
    "    # solvetime = @elapsed optimize!(model)\n",
    "    optimize!(model)\n",
    "\n",
    "    roster = DataFrame(Name = String[], Pick = Int64[], ADP = Float64[], VORP = Float64[])\n",
    "    count = 1\n",
    "    for i in 1:P\n",
    "        if value.(x[i]) == 1\n",
    "            push!(roster, [data[i, \"Name\"], picks[count], data[i, \"DynastySF_ADP\"], data[i, \"VORP\"]])\n",
    "            count += 1\n",
    "        end\n",
    "    end\n",
    "    println(\"Total VORP: \" * string(round(objective_value(model), digits = 1)))\n",
    "    return roster\n",
    "end"
   ]
  },
  {
   "cell_type": "code",
   "execution_count": 11,
   "metadata": {},
   "outputs": [],
   "source": [
    "drafted = reset_draft();"
   ]
  },
  {
   "cell_type": "code",
   "execution_count": 14,
   "metadata": {},
   "outputs": [
    {
     "data": {
      "text/plain": [
       "\"Team 1 drafted Justin Fields!\""
      ]
     },
     "metadata": {},
     "output_type": "display_data"
    }
   ],
   "source": [
    "just_drafted(\"Justin Fields\", 1)"
   ]
  },
  {
   "cell_type": "code",
   "execution_count": 17,
   "metadata": {},
   "outputs": [
    {
     "name": "stdout",
     "output_type": "stream",
     "text": [
      "Total VORP: 288.6\n"
     ]
    },
    {
     "data": {
      "text/html": [
       "<div class=\"data-frame\"><p>23 rows × 4 columns</p><table class=\"data-frame\"><thead><tr><th></th><th>Name</th><th>Pick</th><th>ADP</th><th>VORP</th></tr><tr><th></th><th title=\"String\">String</th><th title=\"Int64\">Int64</th><th title=\"Float64\">Float64</th><th title=\"Float64\">Float64</th></tr></thead><tbody><tr><th>1</th><td>Ja&apos;Marr Chase</td><td>8</td><td>7.6</td><td>38.6</td></tr><tr><th>2</th><td>Breece Hall</td><td>13</td><td>18.5</td><td>27.6</td></tr><tr><th>3</th><td>Cooper Kupp</td><td>28</td><td>31.5</td><td>30.5</td></tr><tr><th>4</th><td>Davante Adams</td><td>33</td><td>45.7</td><td>23.4</td></tr><tr><th>5</th><td>Tony Pollard</td><td>48</td><td>50.3</td><td>17.2</td></tr><tr><th>6</th><td>Jordan Addison</td><td>53</td><td>55.8</td><td>15.6</td></tr><tr><th>7</th><td>Joe Mixon</td><td>68</td><td>73.7</td><td>13.4</td></tr><tr><th>8</th><td>Cam Akers</td><td>73</td><td>84.8</td><td>11.9</td></tr><tr><th>9</th><td>Isiah Pacheco</td><td>88</td><td>89.5</td><td>11.8</td></tr><tr><th>10</th><td>Alvin Kamara</td><td>93</td><td>106.9</td><td>12.3</td></tr><tr><th>11</th><td>James Conner</td><td>108</td><td>111.7</td><td>10.4</td></tr><tr><th>12</th><td>Brock Purdy</td><td>113</td><td>116.3</td><td>13.6</td></tr><tr><th>13</th><td>Matthew Stafford</td><td>128</td><td>135.9</td><td>8.9</td></tr><tr><th>14</th><td>Skyy Moore</td><td>133</td><td>143.2</td><td>8.4</td></tr><tr><th>15</th><td>Michael Thomas</td><td>148</td><td>150.4</td><td>8.3</td></tr><tr><th>16</th><td>Rondale Moore</td><td>153</td><td>159.8</td><td>11.6</td></tr><tr><th>17</th><td>Nico Collins</td><td>168</td><td>173.0</td><td>4.3</td></tr><tr><th>18</th><td>DJ Chark</td><td>173</td><td>193.1</td><td>4.3</td></tr><tr><th>19</th><td>Tyler Higbee</td><td>188</td><td>197.6</td><td>1.0</td></tr><tr><th>20</th><td>Jeff Wilson</td><td>193</td><td>210.0</td><td>4.2</td></tr><tr><th>21</th><td>Tyquan Thornton</td><td>208</td><td>215.6</td><td>4.6</td></tr><tr><th>22</th><td>Zach Wilson</td><td>213</td><td>241.0</td><td>5.4</td></tr><tr><th>23</th><td>Zach Ertz</td><td>228</td><td>254.4</td><td>1.3</td></tr></tbody></table></div>"
      ],
      "text/latex": [
       "\\begin{tabular}{r|cccc}\n",
       "\t& Name & Pick & ADP & VORP\\\\\n",
       "\t\\hline\n",
       "\t& String & Int64 & Float64 & Float64\\\\\n",
       "\t\\hline\n",
       "\t1 & Ja'Marr Chase & 8 & 7.6 & 38.6 \\\\\n",
       "\t2 & Breece Hall & 13 & 18.5 & 27.6 \\\\\n",
       "\t3 & Cooper Kupp & 28 & 31.5 & 30.5 \\\\\n",
       "\t4 & Davante Adams & 33 & 45.7 & 23.4 \\\\\n",
       "\t5 & Tony Pollard & 48 & 50.3 & 17.2 \\\\\n",
       "\t6 & Jordan Addison & 53 & 55.8 & 15.6 \\\\\n",
       "\t7 & Joe Mixon & 68 & 73.7 & 13.4 \\\\\n",
       "\t8 & Cam Akers & 73 & 84.8 & 11.9 \\\\\n",
       "\t9 & Isiah Pacheco & 88 & 89.5 & 11.8 \\\\\n",
       "\t10 & Alvin Kamara & 93 & 106.9 & 12.3 \\\\\n",
       "\t11 & James Conner & 108 & 111.7 & 10.4 \\\\\n",
       "\t12 & Brock Purdy & 113 & 116.3 & 13.6 \\\\\n",
       "\t13 & Matthew Stafford & 128 & 135.9 & 8.9 \\\\\n",
       "\t14 & Skyy Moore & 133 & 143.2 & 8.4 \\\\\n",
       "\t15 & Michael Thomas & 148 & 150.4 & 8.3 \\\\\n",
       "\t16 & Rondale Moore & 153 & 159.8 & 11.6 \\\\\n",
       "\t17 & Nico Collins & 168 & 173.0 & 4.3 \\\\\n",
       "\t18 & DJ Chark & 173 & 193.1 & 4.3 \\\\\n",
       "\t19 & Tyler Higbee & 188 & 197.6 & 1.0 \\\\\n",
       "\t20 & Jeff Wilson & 193 & 210.0 & 4.2 \\\\\n",
       "\t21 & Tyquan Thornton & 208 & 215.6 & 4.6 \\\\\n",
       "\t22 & Zach Wilson & 213 & 241.0 & 5.4 \\\\\n",
       "\t23 & Zach Ertz & 228 & 254.4 & 1.3 \\\\\n",
       "\\end{tabular}\n"
      ],
      "text/plain": [
       "\u001b[1m23×4 DataFrame\u001b[0m\n",
       "\u001b[1m Row \u001b[0m│\u001b[1m Name             \u001b[0m\u001b[1m Pick  \u001b[0m\u001b[1m ADP     \u001b[0m\u001b[1m VORP    \u001b[0m\n",
       "\u001b[1m     \u001b[0m│\u001b[90m String           \u001b[0m\u001b[90m Int64 \u001b[0m\u001b[90m Float64 \u001b[0m\u001b[90m Float64 \u001b[0m\n",
       "─────┼───────────────────────────────────────────\n",
       "   1 │ Ja'Marr Chase         8      7.6     38.6\n",
       "   2 │ Breece Hall          13     18.5     27.6\n",
       "   3 │ Cooper Kupp          28     31.5     30.5\n",
       "   4 │ Davante Adams        33     45.7     23.4\n",
       "   5 │ Tony Pollard         48     50.3     17.2\n",
       "   6 │ Jordan Addison       53     55.8     15.6\n",
       "   7 │ Joe Mixon            68     73.7     13.4\n",
       "   8 │ Cam Akers            73     84.8     11.9\n",
       "  ⋮  │        ⋮            ⋮       ⋮        ⋮\n",
       "  17 │ Nico Collins        168    173.0      4.3\n",
       "  18 │ DJ Chark            173    193.1      4.3\n",
       "  19 │ Tyler Higbee        188    197.6      1.0\n",
       "  20 │ Jeff Wilson         193    210.0      4.2\n",
       "  21 │ Tyquan Thornton     208    215.6      4.6\n",
       "  22 │ Zach Wilson         213    241.0      5.4\n",
       "  23 │ Zach Ertz           228    254.4      1.3\n",
       "\u001b[36m                                   8 rows omitted\u001b[0m"
      ]
     },
     "metadata": {},
     "output_type": "display_data"
    }
   ],
   "source": [
    "first_choice = dynasty_pick(8)"
   ]
  },
  {
   "cell_type": "code",
   "execution_count": 20,
   "metadata": {},
   "outputs": [
    {
     "name": "stdout",
     "output_type": "stream",
     "text": [
      "Total VORP: 282.4\n"
     ]
    },
    {
     "data": {
      "text/html": [
       "<div class=\"data-frame\"><p>23 rows × 4 columns</p><table class=\"data-frame\"><thead><tr><th></th><th>Name</th><th>Pick</th><th>ADP</th><th>VORP</th></tr><tr><th></th><th title=\"String\">String</th><th title=\"Int64\">Int64</th><th title=\"Float64\">Float64</th><th title=\"Float64\">Float64</th></tr></thead><tbody><tr><th>1</th><td>Bijan Robinson</td><td>8</td><td>11.4</td><td>32.2</td></tr><tr><th>2</th><td>Breece Hall</td><td>13</td><td>18.5</td><td>27.6</td></tr><tr><th>3</th><td>Cooper Kupp</td><td>28</td><td>31.5</td><td>30.5</td></tr><tr><th>4</th><td>Davante Adams</td><td>33</td><td>45.7</td><td>23.4</td></tr><tr><th>5</th><td>Tony Pollard</td><td>48</td><td>50.3</td><td>17.2</td></tr><tr><th>6</th><td>Jordan Addison</td><td>53</td><td>55.8</td><td>15.6</td></tr><tr><th>7</th><td>Joe Mixon</td><td>68</td><td>73.7</td><td>13.4</td></tr><tr><th>8</th><td>Kenny Pickett</td><td>73</td><td>81.7</td><td>13.5</td></tr><tr><th>9</th><td>Isiah Pacheco</td><td>88</td><td>89.5</td><td>11.8</td></tr><tr><th>10</th><td>Alvin Kamara</td><td>93</td><td>106.9</td><td>12.3</td></tr><tr><th>11</th><td>James Conner</td><td>108</td><td>111.7</td><td>10.4</td></tr><tr><th>12</th><td>Brock Purdy</td><td>113</td><td>116.3</td><td>13.6</td></tr><tr><th>13</th><td>Matthew Stafford</td><td>128</td><td>135.9</td><td>8.9</td></tr><tr><th>14</th><td>Skyy Moore</td><td>133</td><td>143.2</td><td>8.4</td></tr><tr><th>15</th><td>Michael Thomas</td><td>148</td><td>150.4</td><td>8.3</td></tr><tr><th>16</th><td>Rondale Moore</td><td>153</td><td>159.8</td><td>11.6</td></tr><tr><th>17</th><td>Wan&apos;Dale Robinson</td><td>168</td><td>167.5</td><td>4.0</td></tr><tr><th>18</th><td>Nico Collins</td><td>173</td><td>173.0</td><td>4.3</td></tr><tr><th>19</th><td>DJ Chark</td><td>188</td><td>193.1</td><td>4.3</td></tr><tr><th>20</th><td>Tyler Higbee</td><td>193</td><td>197.6</td><td>1.0</td></tr><tr><th>21</th><td>Jeff Wilson</td><td>208</td><td>210.0</td><td>4.2</td></tr><tr><th>22</th><td>Tyquan Thornton</td><td>213</td><td>215.6</td><td>4.6</td></tr><tr><th>23</th><td>Zach Ertz</td><td>228</td><td>254.4</td><td>1.3</td></tr></tbody></table></div>"
      ],
      "text/latex": [
       "\\begin{tabular}{r|cccc}\n",
       "\t& Name & Pick & ADP & VORP\\\\\n",
       "\t\\hline\n",
       "\t& String & Int64 & Float64 & Float64\\\\\n",
       "\t\\hline\n",
       "\t1 & Bijan Robinson & 8 & 11.4 & 32.2 \\\\\n",
       "\t2 & Breece Hall & 13 & 18.5 & 27.6 \\\\\n",
       "\t3 & Cooper Kupp & 28 & 31.5 & 30.5 \\\\\n",
       "\t4 & Davante Adams & 33 & 45.7 & 23.4 \\\\\n",
       "\t5 & Tony Pollard & 48 & 50.3 & 17.2 \\\\\n",
       "\t6 & Jordan Addison & 53 & 55.8 & 15.6 \\\\\n",
       "\t7 & Joe Mixon & 68 & 73.7 & 13.4 \\\\\n",
       "\t8 & Kenny Pickett & 73 & 81.7 & 13.5 \\\\\n",
       "\t9 & Isiah Pacheco & 88 & 89.5 & 11.8 \\\\\n",
       "\t10 & Alvin Kamara & 93 & 106.9 & 12.3 \\\\\n",
       "\t11 & James Conner & 108 & 111.7 & 10.4 \\\\\n",
       "\t12 & Brock Purdy & 113 & 116.3 & 13.6 \\\\\n",
       "\t13 & Matthew Stafford & 128 & 135.9 & 8.9 \\\\\n",
       "\t14 & Skyy Moore & 133 & 143.2 & 8.4 \\\\\n",
       "\t15 & Michael Thomas & 148 & 150.4 & 8.3 \\\\\n",
       "\t16 & Rondale Moore & 153 & 159.8 & 11.6 \\\\\n",
       "\t17 & Wan'Dale Robinson & 168 & 167.5 & 4.0 \\\\\n",
       "\t18 & Nico Collins & 173 & 173.0 & 4.3 \\\\\n",
       "\t19 & DJ Chark & 188 & 193.1 & 4.3 \\\\\n",
       "\t20 & Tyler Higbee & 193 & 197.6 & 1.0 \\\\\n",
       "\t21 & Jeff Wilson & 208 & 210.0 & 4.2 \\\\\n",
       "\t22 & Tyquan Thornton & 213 & 215.6 & 4.6 \\\\\n",
       "\t23 & Zach Ertz & 228 & 254.4 & 1.3 \\\\\n",
       "\\end{tabular}\n"
      ],
      "text/plain": [
       "\u001b[1m23×4 DataFrame\u001b[0m\n",
       "\u001b[1m Row \u001b[0m│\u001b[1m Name              \u001b[0m\u001b[1m Pick  \u001b[0m\u001b[1m ADP     \u001b[0m\u001b[1m VORP    \u001b[0m\n",
       "\u001b[1m     \u001b[0m│\u001b[90m String            \u001b[0m\u001b[90m Int64 \u001b[0m\u001b[90m Float64 \u001b[0m\u001b[90m Float64 \u001b[0m\n",
       "─────┼────────────────────────────────────────────\n",
       "   1 │ Bijan Robinson         8     11.4     32.2\n",
       "   2 │ Breece Hall           13     18.5     27.6\n",
       "   3 │ Cooper Kupp           28     31.5     30.5\n",
       "   4 │ Davante Adams         33     45.7     23.4\n",
       "   5 │ Tony Pollard          48     50.3     17.2\n",
       "   6 │ Jordan Addison        53     55.8     15.6\n",
       "   7 │ Joe Mixon             68     73.7     13.4\n",
       "   8 │ Kenny Pickett         73     81.7     13.5\n",
       "  ⋮  │         ⋮            ⋮       ⋮        ⋮\n",
       "  17 │ Wan'Dale Robinson    168    167.5      4.0\n",
       "  18 │ Nico Collins         173    173.0      4.3\n",
       "  19 │ DJ Chark             188    193.1      4.3\n",
       "  20 │ Tyler Higbee         193    197.6      1.0\n",
       "  21 │ Jeff Wilson          208    210.0      4.2\n",
       "  22 │ Tyquan Thornton      213    215.6      4.6\n",
       "  23 │ Zach Ertz            228    254.4      1.3\n",
       "\u001b[36m                                    8 rows omitted\u001b[0m"
      ]
     },
     "metadata": {},
     "output_type": "display_data"
    }
   ],
   "source": [
    "second_choice = dynasty_pick(8, [first_choice[1,\"Name\"]])"
   ]
  },
  {
   "cell_type": "code",
   "execution_count": 21,
   "metadata": {},
   "outputs": [
    {
     "name": "stdout",
     "output_type": "stream",
     "text": [
      "Total VORP: 281.6\n"
     ]
    },
    {
     "data": {
      "text/html": [
       "<div class=\"data-frame\"><p>23 rows × 4 columns</p><table class=\"data-frame\"><thead><tr><th></th><th>Name</th><th>Pick</th><th>ADP</th><th>VORP</th></tr><tr><th></th><th title=\"String\">String</th><th title=\"Int64\">Int64</th><th title=\"Float64\">Float64</th><th title=\"Float64\">Float64</th></tr></thead><tbody><tr><th>1</th><td>CeeDee Lamb</td><td>8</td><td>12.7</td><td>31.6</td></tr><tr><th>2</th><td>Breece Hall</td><td>13</td><td>18.5</td><td>27.6</td></tr><tr><th>3</th><td>Cooper Kupp</td><td>28</td><td>31.5</td><td>30.5</td></tr><tr><th>4</th><td>Davante Adams</td><td>33</td><td>45.7</td><td>23.4</td></tr><tr><th>5</th><td>Tony Pollard</td><td>48</td><td>50.3</td><td>17.2</td></tr><tr><th>6</th><td>Jordan Addison</td><td>53</td><td>55.8</td><td>15.6</td></tr><tr><th>7</th><td>Joe Mixon</td><td>68</td><td>73.7</td><td>13.4</td></tr><tr><th>8</th><td>Cam Akers</td><td>73</td><td>84.8</td><td>11.9</td></tr><tr><th>9</th><td>Isiah Pacheco</td><td>88</td><td>89.5</td><td>11.8</td></tr><tr><th>10</th><td>Alvin Kamara</td><td>93</td><td>106.9</td><td>12.3</td></tr><tr><th>11</th><td>James Conner</td><td>108</td><td>111.7</td><td>10.4</td></tr><tr><th>12</th><td>Brock Purdy</td><td>113</td><td>116.3</td><td>13.6</td></tr><tr><th>13</th><td>Matthew Stafford</td><td>128</td><td>135.9</td><td>8.9</td></tr><tr><th>14</th><td>Skyy Moore</td><td>133</td><td>143.2</td><td>8.4</td></tr><tr><th>15</th><td>Michael Thomas</td><td>148</td><td>150.4</td><td>8.3</td></tr><tr><th>16</th><td>Rondale Moore</td><td>153</td><td>159.8</td><td>11.6</td></tr><tr><th>17</th><td>Nico Collins</td><td>168</td><td>173.0</td><td>4.3</td></tr><tr><th>18</th><td>DJ Chark</td><td>173</td><td>193.1</td><td>4.3</td></tr><tr><th>19</th><td>Tyler Higbee</td><td>188</td><td>197.6</td><td>1.0</td></tr><tr><th>20</th><td>Jeff Wilson</td><td>193</td><td>210.0</td><td>4.2</td></tr><tr><th>21</th><td>Tyquan Thornton</td><td>208</td><td>215.6</td><td>4.6</td></tr><tr><th>22</th><td>Zach Wilson</td><td>213</td><td>241.0</td><td>5.4</td></tr><tr><th>23</th><td>Zach Ertz</td><td>228</td><td>254.4</td><td>1.3</td></tr></tbody></table></div>"
      ],
      "text/latex": [
       "\\begin{tabular}{r|cccc}\n",
       "\t& Name & Pick & ADP & VORP\\\\\n",
       "\t\\hline\n",
       "\t& String & Int64 & Float64 & Float64\\\\\n",
       "\t\\hline\n",
       "\t1 & CeeDee Lamb & 8 & 12.7 & 31.6 \\\\\n",
       "\t2 & Breece Hall & 13 & 18.5 & 27.6 \\\\\n",
       "\t3 & Cooper Kupp & 28 & 31.5 & 30.5 \\\\\n",
       "\t4 & Davante Adams & 33 & 45.7 & 23.4 \\\\\n",
       "\t5 & Tony Pollard & 48 & 50.3 & 17.2 \\\\\n",
       "\t6 & Jordan Addison & 53 & 55.8 & 15.6 \\\\\n",
       "\t7 & Joe Mixon & 68 & 73.7 & 13.4 \\\\\n",
       "\t8 & Cam Akers & 73 & 84.8 & 11.9 \\\\\n",
       "\t9 & Isiah Pacheco & 88 & 89.5 & 11.8 \\\\\n",
       "\t10 & Alvin Kamara & 93 & 106.9 & 12.3 \\\\\n",
       "\t11 & James Conner & 108 & 111.7 & 10.4 \\\\\n",
       "\t12 & Brock Purdy & 113 & 116.3 & 13.6 \\\\\n",
       "\t13 & Matthew Stafford & 128 & 135.9 & 8.9 \\\\\n",
       "\t14 & Skyy Moore & 133 & 143.2 & 8.4 \\\\\n",
       "\t15 & Michael Thomas & 148 & 150.4 & 8.3 \\\\\n",
       "\t16 & Rondale Moore & 153 & 159.8 & 11.6 \\\\\n",
       "\t17 & Nico Collins & 168 & 173.0 & 4.3 \\\\\n",
       "\t18 & DJ Chark & 173 & 193.1 & 4.3 \\\\\n",
       "\t19 & Tyler Higbee & 188 & 197.6 & 1.0 \\\\\n",
       "\t20 & Jeff Wilson & 193 & 210.0 & 4.2 \\\\\n",
       "\t21 & Tyquan Thornton & 208 & 215.6 & 4.6 \\\\\n",
       "\t22 & Zach Wilson & 213 & 241.0 & 5.4 \\\\\n",
       "\t23 & Zach Ertz & 228 & 254.4 & 1.3 \\\\\n",
       "\\end{tabular}\n"
      ],
      "text/plain": [
       "\u001b[1m23×4 DataFrame\u001b[0m\n",
       "\u001b[1m Row \u001b[0m│\u001b[1m Name             \u001b[0m\u001b[1m Pick  \u001b[0m\u001b[1m ADP     \u001b[0m\u001b[1m VORP    \u001b[0m\n",
       "\u001b[1m     \u001b[0m│\u001b[90m String           \u001b[0m\u001b[90m Int64 \u001b[0m\u001b[90m Float64 \u001b[0m\u001b[90m Float64 \u001b[0m\n",
       "─────┼───────────────────────────────────────────\n",
       "   1 │ CeeDee Lamb           8     12.7     31.6\n",
       "   2 │ Breece Hall          13     18.5     27.6\n",
       "   3 │ Cooper Kupp          28     31.5     30.5\n",
       "   4 │ Davante Adams        33     45.7     23.4\n",
       "   5 │ Tony Pollard         48     50.3     17.2\n",
       "   6 │ Jordan Addison       53     55.8     15.6\n",
       "   7 │ Joe Mixon            68     73.7     13.4\n",
       "   8 │ Cam Akers            73     84.8     11.9\n",
       "  ⋮  │        ⋮            ⋮       ⋮        ⋮\n",
       "  17 │ Nico Collins        168    173.0      4.3\n",
       "  18 │ DJ Chark            173    193.1      4.3\n",
       "  19 │ Tyler Higbee        188    197.6      1.0\n",
       "  20 │ Jeff Wilson         193    210.0      4.2\n",
       "  21 │ Tyquan Thornton     208    215.6      4.6\n",
       "  22 │ Zach Wilson         213    241.0      5.4\n",
       "  23 │ Zach Ertz           228    254.4      1.3\n",
       "\u001b[36m                                   8 rows omitted\u001b[0m"
      ]
     },
     "metadata": {},
     "output_type": "display_data"
    }
   ],
   "source": [
    "third_choice = dynasty_pick(8, [first_choice[1,\"Name\"], second_choice[1,\"Name\"]])"
   ]
  },
  {
   "cell_type": "code",
   "execution_count": 69,
   "metadata": {},
   "outputs": [
    {
     "name": "stdout",
     "output_type": "stream",
     "text": [
      "Tyler Higbee\n",
      "Zach Ertz\n"
     ]
    }
   ],
   "source": [
    "for player in roster\n",
    "    if player in tes\n",
    "        println(player)\n",
    "    end\n",
    "end"
   ]
  },
  {
   "cell_type": "code",
   "execution_count": null,
   "metadata": {},
   "outputs": [],
   "source": [
    "function dynasty_draft()\n",
    "    # create model\n",
    "    model = Model(() -> Gurobi.Optimizer(GRB_ENV))\n",
    "    set_optimizer_attribute(model, \"TimeLimit\", 300)\n",
    "\n",
    "    # PARAMETERS\n",
    "    T = 10 # teams\n",
    "    R = 25 # roster spots\n",
    "    P = 500 # num_players -- CHANGE\n",
    "    min_qbs = 2\n",
    "    max_qbs = 2\n",
    "    min_rbs = 4\n",
    "    max_rbs = 6\n",
    "    min_wrs = 4\n",
    "    max_wrs = 6\n",
    "    min_tes = 2\n",
    "    max_tes = 3\n",
    "\n",
    "    # VARIABLES\n",
    "    @variable(model, x[i = 1:T, j = 1:R] > 0, Int) # R roster spots each for N teams\n",
    "\n",
    "    # OBJECTIVE FUNCTION - distribution for total expected value - maybe maximize the 25th percentile outcome?\n",
    "    @objective(model, Max, sum(x[i,j] for i in 1:T, j in 1:R))\n",
    "\n",
    "    # CONSTRAINTS\n",
    "    # no player can be on two teams\n",
    "    @constraint(model, [p = 1:P], sum(x[i,j]==p for i in 1:T, j in 1:R) <= 1)\n",
    "\n",
    "    # position constraints for each team\n",
    "    @constraint(model, [i = 1:T], sum(in(x[i,j], qbs) for j in 1:R) >= min_qbs)\n",
    "    @constraint(model, [i = 1:T], sum(in(x[i,j], qbs) for j in 1:R) <= max_qbs)\n",
    "    @constraint(model, [i = 1:T], sum(in(x[i,j], rbs) for j in 1:R) >= min_rbs)\n",
    "    @constraint(model, [i = 1:T], sum(in(x[i,j], rbs) for j in 1:R) <= max_rbs)\n",
    "    @constraint(model, [i = 1:T], sum(in(x[i,j], wrs) for j in 1:R) >= min_wrs)\n",
    "    @constraint(model, [i = 1:T], sum(in(x[i,j], wrs) for j in 1:R) <= max_wrs)\n",
    "    @constraint(model, [i = 1:T], sum(in(x[i,j], tes) for j in 1:R) >= min_tes)\n",
    "    @constraint(model, [i = 1:T], sum(in(x[i,j], tes) for j in 1:R) <= max_tes)\n",
    "\n",
    "    # already picked constraints\n",
    "    @constraint(model, [i = 1:T], sum(x[i,j] for j in 1:R) == 16)\n",
    "\n",
    "\n",
    "    # OPTIMIZE\n",
    "    # solvetime = @elapsed optimize!(model)\n",
    "    optimize!(model)\n",
    "\n",
    "\n",
    "    return value.(x)\n",
    "end"
   ]
  }
 ],
 "metadata": {
  "kernelspec": {
   "display_name": "Julia 1.8.0",
   "language": "julia",
   "name": "julia-1.8"
  },
  "language_info": {
   "file_extension": ".jl",
   "mimetype": "application/julia",
   "name": "julia",
   "version": "1.8.0"
  },
  "orig_nbformat": 4
 },
 "nbformat": 4,
 "nbformat_minor": 2
}
